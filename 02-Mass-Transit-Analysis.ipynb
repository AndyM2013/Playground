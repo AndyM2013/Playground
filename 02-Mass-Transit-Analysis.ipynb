{
 "cells": [
  {
   "cell_type": "code",
   "execution_count": 39,
   "metadata": {},
   "outputs": [
    {
     "data": {
      "text/html": [
       "<script>\n",
       "  function code_toggle() {\n",
       "    if (code_shown){\n",
       "      $('div.input').hide('500');\n",
       "      $('#toggleButton').val('Show Code')\n",
       "    } else {\n",
       "      $('div.input').show('500');\n",
       "      $('#toggleButton').val('Hide Code')\n",
       "    }\n",
       "    code_shown = !code_shown\n",
       "  }\n",
       "\n",
       "  $( document ).ready(function(){\n",
       "    code_shown=false;\n",
       "    $('div.input').hide()\n",
       "  });\n",
       "</script>\n",
       "<form action=\"javascript:code_toggle()\"><input type=\"submit\" id=\"toggleButton\" value=\"Show Code\"></form>"
      ],
      "text/plain": [
       "<IPython.core.display.HTML object>"
      ]
     },
     "execution_count": 39,
     "metadata": {},
     "output_type": "execute_result"
    }
   ],
   "source": [
    "from IPython.display import HTML\n",
    "HTML('''<script>\n",
    "  function code_toggle() {\n",
    "    if (code_shown){\n",
    "      $('div.input').hide('500');\n",
    "      $('#toggleButton').val('Show Code')\n",
    "    } else {\n",
    "      $('div.input').show('500');\n",
    "      $('#toggleButton').val('Hide Code')\n",
    "    }\n",
    "    code_shown = !code_shown\n",
    "  }\n",
    "\n",
    "  $( document ).ready(function(){\n",
    "    code_shown=false;\n",
    "    $('div.input').hide()\n",
    "  });\n",
    "</script>\n",
    "<form action=\"javascript:code_toggle()\"><input type=\"submit\" id=\"toggleButton\" value=\"Show Code\"></form>''')"
   ]
  },
  {
   "cell_type": "markdown",
   "metadata": {},
   "source": [
    "# Proposal: Develop Business for House Leasing Online Platform"
   ]
  },
  {
   "cell_type": "markdown",
   "metadata": {},
   "source": [
    "# Abstract\n",
    "\n",
    "After second though, I decide to present the task as a pitch for the potential client, hope that works for this task. All the questions in the task will be answered in different sections below. So suppose we're now pitching to a client who does business on matching up rentor to landlord online. With the information gained from Shanghai transportation records, what can we do to further enhance and expand the client's business in Shanghai?"
   ]
  },
  {
   "cell_type": "markdown",
   "metadata": {},
   "source": [
    "## Picture an Application Scenario\n",
    "\n",
    "> Imagine our online flat leasing company would like to find out the most suitable subway stations to launch its ads, making most use of the budget and reaching the passengers who are most likely-to-be its customers. Furthermore, once we get the attention from them and direct them to our online platform, what additional information can we provide to further enhance their experience interacting with the platform?\n",
    "\n",
    "<mark>**Expected Outcome**</mark><br/>\n",
    "\n",
    "In order to answer the problem mentioned above, first I will identify the stations which have the highest share of long distance commuters, for these passengers would be most likely to be attracted by the flat ads at the station. Secondly, in their journey interacting with our platform, we can offer more flexible search methods for them to find out their favorite flat choices. One idea is to enable them to search based on the **expected commute time**. Lastly, the filter can be delved further to present the expected commute time over each hour within a day. This information will greatly benefit them in choosing appropriate flats, as they can now assess what' the best timing they should leave from home for office.\n",
    "\n",
    "<mark>**Actual Analysis Outcome**</mark>\n",
    "\n",
    "Let me quickly summarize the result in advance. By the end of this analysis, I am able to come up with a list of suggested stations for ads placement. Adhering  to the stations, I also obtain a table of expected commute time for various subway routes. Nonetheless, from the data exploration, I find there is no difference of commute time among hours on which passengers choose to take subway. But it's something await to be further investigated and confirmed. Noted that in this analysis, it will mostly be statistic summary, less of modeling, as I figure the statistics contain more business insights and values compared to modeling. Nonetheless, I do include a proposal for feature engineering and modeling under the condition if additional data are provided."
   ]
  },
  {
   "cell_type": "markdown",
   "metadata": {},
   "source": [
    "## Structure of The Report\n",
    "\n",
    "<mark>**1. Data Processing**</mark><br/>\n",
    "\n",
    "In this section, practices include implementing sampling on original dataset, having data validation, and splitting out the subway data alone for later use.\n",
    "\n",
    "<mark>**2. Data Exploration on Subway Transportation Records**</mark><br/>\n",
    "\n",
    "I will find out what stations have the largest traffic volume, and what's the average commute time per subway trip.\n",
    "\n",
    "<mark>**3. Identify Best Stations for Ads Launch**</mark><br/>\n",
    "\n",
    "In this section, I will come up with a list of suggested stations for ads placement.\n",
    "\n",
    "<mark>**4. Get the Table of Expected Commute Time for each Route**</mark><br/>\n",
    "\n",
    "In the beginning, I will delve further to find commute time among different time slot. However, facing the limitation of fewer samples owing to sampling, I will just split the time slot into peak and off-peak hour. Then discuss if there shows difference of commute time between two time slots. If there is no difference of commute time between time slots. Then, I will just simplify the result dataset and compute the expected commute time for each route regardless of the timing to take subway.\n",
    "\n",
    "<mark>**5. Empower with more Additional Data**</mark><br/>\n",
    "\n",
    "In this section, I would discuss what are other suitable data to be collected and joined together. How these data will empower our flat leasing company even more? Let's say, our online flat leasing website already obtain each flat's rent, conditions etc, along with this traffic dataset. We can build up a rent prediction model out of these features.\n",
    "\n",
    "<mark>**6. Proposed Model to be Used and in What Way**</mark><br/>\n",
    "\n",
    "I will propose a hypothetical model that can predict the rent of the flat for newly landlord, based on the flat's location and other flat's conditions. This will be mostly helpful for the landlord, especially in some regions where there is little information of rent for reference. This section includes sketch of the model, what features to be considered and what models are appropriate in this case.\n",
    "\n",
    "<mark>**7. Other Applications from this Dataset**</mark><br/>\n",
    "\n",
    "In this final section, I will propose another application that this dataset is suitable to be used for. For instance, the traffic control of Shanghai Metro System.\n",
    "\n",
    "So, without further delay, let me begin today's exploration."
   ]
  },
  {
   "cell_type": "markdown",
   "metadata": {},
   "source": [
    "# Preprocess Data"
   ]
  },
  {
   "cell_type": "markdown",
   "metadata": {},
   "source": [
    "## Read in Raw Data"
   ]
  },
  {
   "cell_type": "code",
   "execution_count": 1,
   "metadata": {},
   "outputs": [],
   "source": [
    "# import necessary modules\n",
    "import pandas as pd\n",
    "import numpy as np\n",
    "import missingno as msno\n",
    "from tqdm import tqdm, tqdm_notebook\n",
    "\n",
    "import re\n",
    "\n",
    "import warnings\n",
    "warnings.filterwarnings('ignore')\n",
    "\n",
    "import matplotlib\n",
    "import matplotlib.pyplot as plt\n",
    "import seaborn as sns\n",
    "plt.rcParams['font.sans-serif'] = ['SimHei'] # 用来正常显示中文标签\n",
    "plt.rcParams['axes.unicode_minus'] = False # 用来正常显示负号\n",
    "sns.set_style('whitegrid',{'font.sans-serif':['SimHei','Arial']}) # 用来处理seaborn显示中文\n",
    "\n",
    "pd.options.display.float_format = '{:.2f}'.format\n",
    "\n",
    "from IPython.display import display"
   ]
  },
  {
   "cell_type": "code",
   "execution_count": 2,
   "metadata": {},
   "outputs": [],
   "source": [
    "# Function to print bold text in print().\n",
    "from IPython.display import Markdown, display\n",
    "\n",
    "def printmd(string):\n",
    "    \"\"\"\n",
    "    Ref: https://discuss.analyticsvidhya.com/t/how-to-make-a-text-bold-within-print-statement-in-ipython-notebook/14552\n",
    "    \"\"\"\n",
    "    display(Markdown(string))"
   ]
  },
  {
   "cell_type": "code",
   "execution_count": null,
   "metadata": {},
   "outputs": [],
   "source": [
    "# Read in dataset\n",
    "dataset = pd.read_csv('../Playground-dataset/02-Mass-Transit-Analysis-Dataset/SPTCC-20160701.csv', \n",
    "                      encoding='gbk',\n",
    "                      header=None,\n",
    "                      names = ['transit_card_id','date','time',\n",
    "                               'line_and_stop_name','method_of_transit','fare_collected','fare_type'],\n",
    "                      index_col=False) # encoding for simplified chinese\n",
    "\n",
    "# print('Data type of each column:\\n')\n",
    "# dataset.info()"
   ]
  },
  {
   "cell_type": "markdown",
   "metadata": {},
   "source": [
    "## Implement Sampling\n",
    "\n",
    "Since the original dataset is way too large, just for the efficiency of analysis later on, I will have it sampled and explore the result dataset afterwards. The sampling is conducted on **each passenger (from the transit_card_id), picking up one id out of every 25 ids.**\n",
    "\n",
    "<mark>**Result**</mark><br/>\n",
    "\n",
    "The original dataset contains 15,772,842 records, and the sampled dataset contains **630,163** recrods, roughly **96%** of the original dataset are dropped off in this analysis. This poses a problem when analysing the data in more granular level. Neverthelsee, it can be solved when re-run this anlaysis in larger scale and specify higher frquency of sampling."
   ]
  },
  {
   "cell_type": "code",
   "execution_count": null,
   "metadata": {},
   "outputs": [],
   "source": [
    "# Sort by card id and set it as index, for speeding up following sampling process.\n",
    "dataset = dataset.sort_values(by='transit_card_id').set_index(keys='transit_card_id')\n",
    "\n",
    "# Sampling based on transit_card_id.\n",
    "card_ids = np.unique(dataset.index.values)\n",
    "\n",
    "def sampling(df, ids, step=10):\n",
    "    \n",
    "    sub_df = pd.DataFrame()\n",
    "    for i in tqdm_notebook(range(0, len(ids), step)):\n",
    "        id_ = ids[i]\n",
    "        sub = df[df.index == id_]\n",
    "        sub_df = sub_df.append(sub)\n",
    "    \n",
    "    return sub_df\n",
    "\n",
    "samples = sampling(df=dataset, ids=card_ids, step=25)"
   ]
  },
  {
   "cell_type": "code",
   "execution_count": null,
   "metadata": {},
   "outputs": [],
   "source": [
    "# Save the sampled dataset.\n",
    "pd.to_pickle(samples, '../Playground-dataset/02-Mass-Transit-Analysis-Dataset/samples.pickle')"
   ]
  },
  {
   "cell_type": "code",
   "execution_count": 3,
   "metadata": {},
   "outputs": [],
   "source": [
    "# Reload the dataset.\n",
    "samples = pd.read_pickle('../Playground-dataset/02-Mass-Transit-Analysis-Dataset/samples.pickle')\n",
    "samples = samples.reset_index()"
   ]
  },
  {
   "cell_type": "markdown",
   "metadata": {},
   "source": [
    "## Check out Missing Value"
   ]
  },
  {
   "cell_type": "code",
   "execution_count": 4,
   "metadata": {},
   "outputs": [
    {
     "data": {
      "text/markdown": [
       "**If exist missing values:**\n"
      ],
      "text/plain": [
       "<IPython.core.display.Markdown object>"
      ]
     },
     "metadata": {},
     "output_type": "display_data"
    },
    {
     "name": "stdout",
     "output_type": "stream",
     "text": [
      "transit_card_id       False\n",
      "date                  False\n",
      "time                  False\n",
      "line_and_stop_name    False\n",
      "method_of_transit     False\n",
      "fare_collected        False\n",
      "fare_type             False\n",
      "dtype: bool\n"
     ]
    }
   ],
   "source": [
    "printmd('**If exist missing values:**\\n')\n",
    "print(samples.isnull().any())\n",
    "\n",
    "# print('Show up the distribution of missing value over each column (marked as white lines for each record):')\n",
    "# _ = msno.matrix(samples)"
   ]
  },
  {
   "cell_type": "markdown",
   "metadata": {},
   "source": [
    "## Check out for Duplicates"
   ]
  },
  {
   "cell_type": "code",
   "execution_count": 5,
   "metadata": {},
   "outputs": [
    {
     "data": {
      "text/markdown": [
       "**If exist duplicated rows:** True, **number of duplicated rows:** 1\n"
      ],
      "text/plain": [
       "<IPython.core.display.Markdown object>"
      ]
     },
     "metadata": {},
     "output_type": "display_data"
    },
    {
     "data": {
      "text/markdown": [
       "**Rows after dropping off duplicates:** 630162"
      ],
      "text/plain": [
       "<IPython.core.display.Markdown object>"
      ]
     },
     "metadata": {},
     "output_type": "display_data"
    }
   ],
   "source": [
    "printmd('**If exist duplicated rows:** {}, **number of duplicated rows:** {}\\n'.format(\n",
    "    samples.duplicated().any(), samples.duplicated().sum()))\n",
    "\n",
    "samples = samples.drop_duplicates()\n",
    "printmd('**Rows after dropping off duplicates:** {}'.format(samples.shape[0]))"
   ]
  },
  {
   "cell_type": "markdown",
   "metadata": {},
   "source": [
    "## Convert Datetime"
   ]
  },
  {
   "cell_type": "code",
   "execution_count": 6,
   "metadata": {},
   "outputs": [],
   "source": [
    "samples['datetime'] = samples.apply(lambda df: df['date'] + ' ' + df['time'], axis=1)\n",
    "samples['datetime'] = pd.to_datetime(samples['datetime'], format='%Y-%m-%d %H:%M:%S')\n",
    "\n",
    "samples = samples.drop(['date','time'], axis=1)"
   ]
  },
  {
   "cell_type": "markdown",
   "metadata": {},
   "source": [
    "## Subset Dataset for Each Transportation Method"
   ]
  },
  {
   "cell_type": "code",
   "execution_count": 7,
   "metadata": {},
   "outputs": [
    {
     "data": {
      "text/markdown": [
       "**Unique value for method_of_transit:**"
      ],
      "text/plain": [
       "<IPython.core.display.Markdown object>"
      ]
     },
     "metadata": {},
     "output_type": "display_data"
    },
    {
     "name": "stdout",
     "output_type": "stream",
     "text": [
      "['公交' '地铁' '出租' '轮渡' 'P+R停车场']\n"
     ]
    },
    {
     "data": {
      "text/markdown": [
       "\n",
       "**Unique value for fare_type:**"
      ],
      "text/plain": [
       "<IPython.core.display.Markdown object>"
      ]
     },
     "metadata": {},
     "output_type": "display_data"
    },
    {
     "name": "stdout",
     "output_type": "stream",
     "text": [
      "['非优惠' '优惠' '无']\n"
     ]
    }
   ],
   "source": [
    "# Preview of values in method_of_transit and fare_type.\n",
    "printmd('**Unique value for method_of_transit:**')\n",
    "print(samples['method_of_transit'].unique())\n",
    "\n",
    "printmd('\\n**Unique value for fare_type:**')\n",
    "print(samples['fare_type'].unique())"
   ]
  },
  {
   "cell_type": "code",
   "execution_count": 8,
   "metadata": {},
   "outputs": [],
   "source": [
    "# Separate dataset into each transportation type.\n",
    "subway = samples[samples['method_of_transit'] == '地铁'].sort_values(['transit_card_id','datetime']).reset_index(drop=True)\n",
    "ferry = samples[samples['method_of_transit'] == '轮渡'].sort_values(['transit_card_id','datetime']).reset_index(drop=True)\n",
    "taxi = samples[samples['method_of_transit'] == '出租'].sort_values(['transit_card_id','datetime']).reset_index(drop=True)\n",
    "parking = samples[samples['method_of_transit'] == 'P+R停车场'].sort_values(['transit_card_id','datetime']).reset_index(drop=True)\n",
    "bus = samples[samples['method_of_transit'] == '公交'].sort_values(['transit_card_id','datetime']).reset_index(drop=True)"
   ]
  },
  {
   "cell_type": "markdown",
   "metadata": {},
   "source": [
    "# Explore on Subway Trip Records"
   ]
  },
  {
   "cell_type": "code",
   "execution_count": 9,
   "metadata": {
    "scrolled": true
   },
   "outputs": [
    {
     "data": {
      "text/markdown": [
       "**Size of Subway:**"
      ],
      "text/plain": [
       "<IPython.core.display.Markdown object>"
      ]
     },
     "metadata": {},
     "output_type": "display_data"
    },
    {
     "data": {
      "text/plain": [
       "(412196, 6)"
      ]
     },
     "metadata": {},
     "output_type": "display_data"
    },
    {
     "data": {
      "text/markdown": [
       "**Preview of Subway:**"
      ],
      "text/plain": [
       "<IPython.core.display.Markdown object>"
      ]
     },
     "metadata": {},
     "output_type": "display_data"
    },
    {
     "data": {
      "text/html": [
       "<div>\n",
       "<style scoped>\n",
       "    .dataframe tbody tr th:only-of-type {\n",
       "        vertical-align: middle;\n",
       "    }\n",
       "\n",
       "    .dataframe tbody tr th {\n",
       "        vertical-align: top;\n",
       "    }\n",
       "\n",
       "    .dataframe thead th {\n",
       "        text-align: right;\n",
       "    }\n",
       "</style>\n",
       "<table border=\"1\" class=\"dataframe\">\n",
       "  <thead>\n",
       "    <tr style=\"text-align: right;\">\n",
       "      <th></th>\n",
       "      <th>transit_card_id</th>\n",
       "      <th>line_and_stop_name</th>\n",
       "      <th>method_of_transit</th>\n",
       "      <th>fare_collected</th>\n",
       "      <th>fare_type</th>\n",
       "      <th>datetime</th>\n",
       "    </tr>\n",
       "  </thead>\n",
       "  <tbody>\n",
       "    <tr>\n",
       "      <th>0</th>\n",
       "      <td>59911</td>\n",
       "      <td>2号线静安寺</td>\n",
       "      <td>地铁</td>\n",
       "      <td>0.00</td>\n",
       "      <td>非优惠</td>\n",
       "      <td>2016-07-01 20:10:57</td>\n",
       "    </tr>\n",
       "    <tr>\n",
       "      <th>1</th>\n",
       "      <td>59911</td>\n",
       "      <td>8号线虹口足球场</td>\n",
       "      <td>地铁</td>\n",
       "      <td>4.00</td>\n",
       "      <td>非优惠</td>\n",
       "      <td>2016-07-01 20:36:52</td>\n",
       "    </tr>\n",
       "    <tr>\n",
       "      <th>2</th>\n",
       "      <td>68421</td>\n",
       "      <td>8号线芦恒路</td>\n",
       "      <td>地铁</td>\n",
       "      <td>0.00</td>\n",
       "      <td>非优惠</td>\n",
       "      <td>2016-07-01 07:41:04</td>\n",
       "    </tr>\n",
       "    <tr>\n",
       "      <th>3</th>\n",
       "      <td>68421</td>\n",
       "      <td>9号线打浦桥</td>\n",
       "      <td>地铁</td>\n",
       "      <td>4.00</td>\n",
       "      <td>非优惠</td>\n",
       "      <td>2016-07-01 08:11:48</td>\n",
       "    </tr>\n",
       "    <tr>\n",
       "      <th>4</th>\n",
       "      <td>68421</td>\n",
       "      <td>9号线打浦桥</td>\n",
       "      <td>地铁</td>\n",
       "      <td>0.00</td>\n",
       "      <td>非优惠</td>\n",
       "      <td>2016-07-01 15:26:27</td>\n",
       "    </tr>\n",
       "  </tbody>\n",
       "</table>\n",
       "</div>"
      ],
      "text/plain": [
       "   transit_card_id line_and_stop_name method_of_transit  fare_collected  \\\n",
       "0            59911             2号线静安寺                地铁            0.00   \n",
       "1            59911           8号线虹口足球场                地铁            4.00   \n",
       "2            68421             8号线芦恒路                地铁            0.00   \n",
       "3            68421             9号线打浦桥                地铁            4.00   \n",
       "4            68421             9号线打浦桥                地铁            0.00   \n",
       "\n",
       "  fare_type            datetime  \n",
       "0       非优惠 2016-07-01 20:10:57  \n",
       "1       非优惠 2016-07-01 20:36:52  \n",
       "2       非优惠 2016-07-01 07:41:04  \n",
       "3       非优惠 2016-07-01 08:11:48  \n",
       "4       非优惠 2016-07-01 15:26:27  "
      ]
     },
     "metadata": {},
     "output_type": "display_data"
    }
   ],
   "source": [
    "printmd('**Size of Subway:**')\n",
    "display(subway.shape)\n",
    "\n",
    "printmd('**Preview of Subway:**')\n",
    "display(subway.head())"
   ]
  },
  {
   "cell_type": "markdown",
   "metadata": {},
   "source": [
    "## Clean up and Validate Quality in Data\n",
    "\n",
    "As we saw from dataset above, every passenger will **leave two records** - entry and exit of subway station for one trip. Thus, I will implement the following steps to further ensure data quality and transform subway dataset into ready-for-use, clean data."
   ]
  },
  {
   "cell_type": "markdown",
   "metadata": {},
   "source": [
    "<mark>**Goal**</mark><br/>\n",
    "\n",
    "Ensure each id has one *entry* record and corresponding one *exit* record. It will be checked by my self-defined functions `criterion()` and `df_concat()`.\n",
    "\n",
    "<span style='margin:15px'>\n",
    "    \n",
    "1. I assume the entry record occurs in odd rows and has value 0 in *fare_collected* column over each id.\n",
    "2. The exit record must follow immediately the entry record regardless what value it has in fare_collected column. The reasoning behind is that final fares can change due to various reasons, promotion, cash rewards etc. Thus, no need to examine the fare being collected.\n",
    "3. Record that doesn't comply with the rules above will be removed from dataset.\n",
    "4. The clean dataset for each id must have even rows (entry and exit pair-up) and eventually, join data of all id together as our final analysis dataset.\n",
    "5. Split the *line* and *station name* from single column to separate columns.\n",
    "\n",
    "</span>\n",
    "\n",
    "\n",
    "<mark>**Result**</mark><br/>\n",
    "\n",
    "- `Subway_clean` is ready for use in analysing traffic volume for each station.\n",
    "- **8278** rows are being dropped off from subway dataset owing to the process above."
   ]
  },
  {
   "cell_type": "code",
   "execution_count": null,
   "metadata": {
    "scrolled": false
   },
   "outputs": [],
   "source": [
    "# Drop off weird rows.\n",
    "# criterion: The value of fare_collected in even index must be 0. \n",
    "#       if not, then remove the row and start examining the df all over again -> python is zero-based numbering\n",
    "# df_concat: Only append df to the final dataset if df's size is even (2,4,6...etc) excluding 0.\n",
    "#       if not, then drop off the last row and append remainging to final dataset.\n",
    "\n",
    "\n",
    "def criterion(df):\n",
    "    \"\"\" \n",
    "    @return\n",
    "        df: can be shape of 0, 1, 2, 3, etc.\n",
    "    \"\"\"\n",
    "    df.reset_index(drop=True, inplace=True)\n",
    "    idx = 0\n",
    "    max_idx = df.index.max()\n",
    "    while True:\n",
    "        if idx % 2 == 0: # for even index\n",
    "            if df['fare_collected'][idx] != 0:\n",
    "                df = df.drop(df.index[idx]) # remove the record\n",
    "                df.reset_index(drop=True, inplace=True) # reset index\n",
    "                if df.shape[0] == 0:\n",
    "                    break # if df is null, then exit the loop\n",
    "                else:\n",
    "                    idx = 0 # loop from the beginning again\n",
    "                    max_idx = df.index.max()\n",
    "            else:\n",
    "                idx += 1\n",
    "        else: # for odd index\n",
    "            idx += 1\n",
    "        \n",
    "        if idx >= max_idx:\n",
    "            break\n",
    "    return df\n",
    "    \n",
    "def df_concat(final_df, df):\n",
    "    \"\"\"\n",
    "    @param\n",
    "        final_df: final clean dataset\n",
    "        df: the dataset to be appended to final_df\n",
    "    @return\n",
    "        final_df\n",
    "    \"\"\"\n",
    "    \n",
    "    if df.shape[0] % 2 == 0: # if df shape is 0 or even\n",
    "        if df.shape[0] != 0: # if df shape is not 0\n",
    "            final_df = final_df.append(df)\n",
    "    else:\n",
    "        if df.shape[0] != 1: # if df shape is not 1\n",
    "            df = df.iloc[:-1, :] # drop off the last row\n",
    "            final_df = final_df.append(df)\n",
    "    return final_df"
   ]
  },
  {
   "cell_type": "code",
   "execution_count": null,
   "metadata": {},
   "outputs": [],
   "source": [
    "# prepare the process status bar\n",
    "iters = range(len(subway['transit_card_id'].unique()))\n",
    "\n",
    "subway_clean = pd.DataFrame()\n",
    "\n",
    "with tqdm_notebook(total=len(iters)) as pbar:\n",
    "    for k1, group in subway.groupby(['transit_card_id']):\n",
    "        group = criterion(group)\n",
    "        subway_clean = df_concat(subway_clean, group)\n",
    "        pbar.update(1)\n",
    "    \n",
    "# reset index\n",
    "subway_clean.reset_index(drop=True, inplace=True)\n"
   ]
  },
  {
   "cell_type": "code",
   "execution_count": null,
   "metadata": {},
   "outputs": [],
   "source": [
    "# split line number and station name\n",
    "subway_clean['line_and_stop_name'] = subway_clean['line_and_stop_name'].str.strip() # stip string first\n",
    "regex = re.compile('(\\d+)号线(\\w+)')\n",
    "col = subway_clean['line_and_stop_name'].apply(lambda x: regex.search(x).group(1,2))\n",
    "line, stop = map(np.array, zip(*col))\n",
    "subway_clean['line'] = line\n",
    "subway_clean['stop'] = stop\n",
    "subway_clean.drop(labels=['line_and_stop_name'], axis=1, inplace=True)\n",
    "print('Preview of subway_clean:')\n",
    "display(subway_clean.head(n=2))"
   ]
  },
  {
   "cell_type": "code",
   "execution_count": null,
   "metadata": {},
   "outputs": [],
   "source": [
    "# Preview of subway_clean\n",
    "printmd('**Size of subway_clean:**')\n",
    "display(subway_clean.shape)\n",
    "printmd('**Preview of subway_clean:**')\n",
    "display(subway_clean.head(n=8))"
   ]
  },
  {
   "cell_type": "code",
   "execution_count": null,
   "metadata": {},
   "outputs": [],
   "source": [
    "# backup file\n",
    "pd.to_pickle(subway_clean, '../Playground-dataset/02-Mass-Transit-Analysis-Dataset/subway_clean.pickle')"
   ]
  },
  {
   "cell_type": "code",
   "execution_count": 10,
   "metadata": {},
   "outputs": [],
   "source": [
    "subway_clean = pd.read_pickle('../Playground-dataset/02-Mass-Transit-Analysis-Dataset/subway_clean.pickle')"
   ]
  },
  {
   "cell_type": "markdown",
   "metadata": {},
   "source": [
    "## Stations with Largest Traffic\n",
    "\n",
    "First, we can tell from the table below, the top stations with largest traffic volumn taking both entries and exits into account are:\n",
    "\n",
    "<mark>**NOTED**</mark><br/>\n",
    "This result comes from sampled dataset. The absolute values are under-estimated."
   ]
  },
  {
   "cell_type": "code",
   "execution_count": 11,
   "metadata": {},
   "outputs": [],
   "source": [
    "subway_clean = pd.read_pickle('../Playground-dataset/02-Mass-Transit-Analysis-Dataset/subway_clean.pickle')"
   ]
  },
  {
   "cell_type": "code",
   "execution_count": null,
   "metadata": {
    "scrolled": false
   },
   "outputs": [],
   "source": [
    "traffic_volumn = subway_clean.groupby(['line', 'stop']).count(\n",
    "    )[['transit_card_id']].rename(columns={'transit_card_id':'traffic_volumn'}\n",
    "                                 ).sort_values(by=['traffic_volumn'], ascending=False)\n",
    "\n",
    "print('First 5 stations with largest traffic:')\n",
    "display(traffic_volumn.head(n=5))"
   ]
  },
  {
   "cell_type": "code",
   "execution_count": null,
   "metadata": {},
   "outputs": [],
   "source": [
    "# Plot station with largest traffic.\n",
    "fig, ax = plt.subplots(1,1,figsize=(15,5))\n",
    "\n",
    "_ = traffic_volumn.iloc[:10,:].plot.bar(y=['traffic_volumn'], ax=ax, rot=30, colors='#cec3c6')\n",
    "_ = ax.legend(fontsize='x-large')\n",
    "_ = ax.set_title('Stations of Largest Traffic', fontsize=20)\n",
    "_ = ax.set_xlabel(xlabel='Line,Stations', fontsize=15)"
   ]
  },
  {
   "cell_type": "markdown",
   "metadata": {},
   "source": [
    "## Average Subway Trip Length"
   ]
  },
  {
   "cell_type": "markdown",
   "metadata": {},
   "source": [
    "### Prepare Dataset\n",
    "\n",
    "Before compute the average trip length, let's transform the data again and create a new dataset `subway_trip` to record data in format of **per trip per row** for each id.\n",
    "\n",
    "More specifically, each row will contain four columns: get-on station, time of get-on, get-off station, and time of get-off etc."
   ]
  },
  {
   "cell_type": "code",
   "execution_count": 12,
   "metadata": {},
   "outputs": [],
   "source": [
    "# prepare dataset for trip length\n",
    "subway_trip_start = subway_clean[::2].reset_index(drop=True) # even row\n",
    "subway_trip_start.columns = [col + '_x' for col in subway_trip_start.columns.values]\n",
    "subway_trip_end = subway_clean[1::2].reset_index(drop=True) # odd row\n",
    "subway_trip_end.columns = [col + '_y' for col in subway_trip_end.columns.values]"
   ]
  },
  {
   "cell_type": "code",
   "execution_count": 13,
   "metadata": {},
   "outputs": [
    {
     "data": {
      "text/markdown": [
       "**Preview of subway_trip:**"
      ],
      "text/plain": [
       "<IPython.core.display.Markdown object>"
      ]
     },
     "metadata": {},
     "output_type": "display_data"
    },
    {
     "data": {
      "text/html": [
       "<div>\n",
       "<style scoped>\n",
       "    .dataframe tbody tr th:only-of-type {\n",
       "        vertical-align: middle;\n",
       "    }\n",
       "\n",
       "    .dataframe tbody tr th {\n",
       "        vertical-align: top;\n",
       "    }\n",
       "\n",
       "    .dataframe thead th {\n",
       "        text-align: right;\n",
       "    }\n",
       "</style>\n",
       "<table border=\"1\" class=\"dataframe\">\n",
       "  <thead>\n",
       "    <tr style=\"text-align: right;\">\n",
       "      <th></th>\n",
       "      <th>transit_card_id_x</th>\n",
       "      <th>line_x</th>\n",
       "      <th>stop_x</th>\n",
       "      <th>datetime_x</th>\n",
       "      <th>line_y</th>\n",
       "      <th>stop_y</th>\n",
       "      <th>datetime_y</th>\n",
       "    </tr>\n",
       "  </thead>\n",
       "  <tbody>\n",
       "    <tr>\n",
       "      <th>0</th>\n",
       "      <td>59911</td>\n",
       "      <td>2</td>\n",
       "      <td>静安寺</td>\n",
       "      <td>2016-07-01 20:10:57</td>\n",
       "      <td>8</td>\n",
       "      <td>虹口足球场</td>\n",
       "      <td>2016-07-01 20:36:52</td>\n",
       "    </tr>\n",
       "    <tr>\n",
       "      <th>1</th>\n",
       "      <td>68421</td>\n",
       "      <td>8</td>\n",
       "      <td>芦恒路</td>\n",
       "      <td>2016-07-01 07:41:04</td>\n",
       "      <td>9</td>\n",
       "      <td>打浦桥</td>\n",
       "      <td>2016-07-01 08:11:48</td>\n",
       "    </tr>\n",
       "    <tr>\n",
       "      <th>2</th>\n",
       "      <td>68421</td>\n",
       "      <td>9</td>\n",
       "      <td>打浦桥</td>\n",
       "      <td>2016-07-01 15:26:27</td>\n",
       "      <td>8</td>\n",
       "      <td>芦恒路</td>\n",
       "      <td>2016-07-01 16:11:32</td>\n",
       "    </tr>\n",
       "  </tbody>\n",
       "</table>\n",
       "</div>"
      ],
      "text/plain": [
       "   transit_card_id_x line_x stop_x          datetime_x line_y stop_y  \\\n",
       "0              59911      2    静安寺 2016-07-01 20:10:57      8  虹口足球场   \n",
       "1              68421      8    芦恒路 2016-07-01 07:41:04      9    打浦桥   \n",
       "2              68421      9    打浦桥 2016-07-01 15:26:27      8    芦恒路   \n",
       "\n",
       "           datetime_y  \n",
       "0 2016-07-01 20:36:52  \n",
       "1 2016-07-01 08:11:48  \n",
       "2 2016-07-01 16:11:32  "
      ]
     },
     "metadata": {},
     "output_type": "display_data"
    }
   ],
   "source": [
    "# Concatnate two dataset.\n",
    "subway_trip = pd.concat([subway_trip_start, subway_trip_end], axis=1)\n",
    "printmd('**Preview of subway_trip:**')\n",
    "display(subway_trip[['transit_card_id_x','line_x','stop_x','datetime_x',\n",
    "                    'line_y','stop_y','datetime_y']].head(n=3))"
   ]
  },
  {
   "cell_type": "code",
   "execution_count": null,
   "metadata": {},
   "outputs": [],
   "source": [
    "# Save backup file.\n",
    "pd.to_pickle(subway_trip, '../Playground-dataset/02-Mass-Transit-Analysis-Dataset/subway_trip.pickle')"
   ]
  },
  {
   "cell_type": "markdown",
   "metadata": {},
   "source": [
    "### Find out Average Trip Length\n",
    "\n",
    "<mark>**Result**</mark><br/>\n",
    "\n",
    "We can tell that average subway tip length is roughly **43 mins**."
   ]
  },
  {
   "cell_type": "code",
   "execution_count": 14,
   "metadata": {},
   "outputs": [],
   "source": [
    "subway_trip = pd.read_pickle('../Playground-dataset/02-Mass-Transit-Analysis-Dataset/subway_trip.pickle')"
   ]
  },
  {
   "cell_type": "code",
   "execution_count": 15,
   "metadata": {
    "scrolled": false
   },
   "outputs": [
    {
     "data": {
      "text/markdown": [
       "**Preview of trip_length:**"
      ],
      "text/plain": [
       "<IPython.core.display.Markdown object>"
      ]
     },
     "metadata": {},
     "output_type": "display_data"
    },
    {
     "data": {
      "text/html": [
       "<div>\n",
       "<style scoped>\n",
       "    .dataframe tbody tr th:only-of-type {\n",
       "        vertical-align: middle;\n",
       "    }\n",
       "\n",
       "    .dataframe tbody tr th {\n",
       "        vertical-align: top;\n",
       "    }\n",
       "\n",
       "    .dataframe thead th {\n",
       "        text-align: right;\n",
       "    }\n",
       "</style>\n",
       "<table border=\"1\" class=\"dataframe\">\n",
       "  <thead>\n",
       "    <tr style=\"text-align: right;\">\n",
       "      <th></th>\n",
       "      <th>transit_card_id_x</th>\n",
       "      <th>line_x</th>\n",
       "      <th>stop_x</th>\n",
       "      <th>datetime_x</th>\n",
       "      <th>line_y</th>\n",
       "      <th>stop_y</th>\n",
       "      <th>datetime_y</th>\n",
       "      <th>trip_length</th>\n",
       "    </tr>\n",
       "  </thead>\n",
       "  <tbody>\n",
       "    <tr>\n",
       "      <th>0</th>\n",
       "      <td>59911</td>\n",
       "      <td>2</td>\n",
       "      <td>静安寺</td>\n",
       "      <td>2016-07-01 20:10:57</td>\n",
       "      <td>8</td>\n",
       "      <td>虹口足球场</td>\n",
       "      <td>2016-07-01 20:36:52</td>\n",
       "      <td>25</td>\n",
       "    </tr>\n",
       "    <tr>\n",
       "      <th>1</th>\n",
       "      <td>68421</td>\n",
       "      <td>8</td>\n",
       "      <td>芦恒路</td>\n",
       "      <td>2016-07-01 07:41:04</td>\n",
       "      <td>9</td>\n",
       "      <td>打浦桥</td>\n",
       "      <td>2016-07-01 08:11:48</td>\n",
       "      <td>30</td>\n",
       "    </tr>\n",
       "    <tr>\n",
       "      <th>2</th>\n",
       "      <td>68421</td>\n",
       "      <td>9</td>\n",
       "      <td>打浦桥</td>\n",
       "      <td>2016-07-01 15:26:27</td>\n",
       "      <td>8</td>\n",
       "      <td>芦恒路</td>\n",
       "      <td>2016-07-01 16:11:32</td>\n",
       "      <td>45</td>\n",
       "    </tr>\n",
       "    <tr>\n",
       "      <th>3</th>\n",
       "      <td>80212</td>\n",
       "      <td>4</td>\n",
       "      <td>南浦大桥</td>\n",
       "      <td>2016-07-01 18:22:12</td>\n",
       "      <td>4</td>\n",
       "      <td>宜山路</td>\n",
       "      <td>2016-07-01 18:42:30</td>\n",
       "      <td>20</td>\n",
       "    </tr>\n",
       "    <tr>\n",
       "      <th>4</th>\n",
       "      <td>85716</td>\n",
       "      <td>6</td>\n",
       "      <td>外高桥保税区南</td>\n",
       "      <td>2016-07-01 13:12:39</td>\n",
       "      <td>6</td>\n",
       "      <td>洲海路</td>\n",
       "      <td>2016-07-01 13:17:08</td>\n",
       "      <td>4</td>\n",
       "    </tr>\n",
       "  </tbody>\n",
       "</table>\n",
       "</div>"
      ],
      "text/plain": [
       "   transit_card_id_x line_x   stop_x          datetime_x line_y stop_y  \\\n",
       "0              59911      2      静安寺 2016-07-01 20:10:57      8  虹口足球场   \n",
       "1              68421      8      芦恒路 2016-07-01 07:41:04      9    打浦桥   \n",
       "2              68421      9      打浦桥 2016-07-01 15:26:27      8    芦恒路   \n",
       "3              80212      4     南浦大桥 2016-07-01 18:22:12      4    宜山路   \n",
       "4              85716      6  外高桥保税区南 2016-07-01 13:12:39      6    洲海路   \n",
       "\n",
       "           datetime_y  trip_length  \n",
       "0 2016-07-01 20:36:52           25  \n",
       "1 2016-07-01 08:11:48           30  \n",
       "2 2016-07-01 16:11:32           45  \n",
       "3 2016-07-01 18:42:30           20  \n",
       "4 2016-07-01 13:17:08            4  "
      ]
     },
     "metadata": {},
     "output_type": "display_data"
    },
    {
     "data": {
      "text/markdown": [
       "**Mean Trip Length:** 42.94 mins"
      ],
      "text/plain": [
       "<IPython.core.display.Markdown object>"
      ]
     },
     "metadata": {},
     "output_type": "display_data"
    }
   ],
   "source": [
    "# Compute trip length.\n",
    "subway_trip['trip_length'] = subway_trip['datetime_y'] - subway_trip['datetime_x']\n",
    "\n",
    "# Convert trip length to minutes integers.\n",
    "subway_trip['trip_length'] = subway_trip['trip_length'].apply(lambda x: int(x.total_seconds()//60))\n",
    "\n",
    "printmd('**Preview of trip_length:**')\n",
    "display(subway_trip[['transit_card_id_x','line_x','stop_x','datetime_x',\n",
    "                     'line_y','stop_y','datetime_y','trip_length']].head(n=5))\n",
    "printmd('**Mean Trip Length:** {:.2f} mins'.format(subway_trip['trip_length'].mean()))"
   ]
  },
  {
   "cell_type": "markdown",
   "metadata": {},
   "source": [
    "# Identify Best Stations to Place Rent Ads\n",
    "\n",
    "It's time to use the processed dataset to help us make practical decisions on marketing - outdoor ads launch in this case.\n",
    "\n",
    "Over all 413 stations in Shanghai Metro, you'd probably want to know **which station has the highest share of long distance passengers**. For it will be most effective to place outdoor ads for flat leasing at these stations, for long distance passengers are definitely in need of flats of best price with least commute time."
   ]
  },
  {
   "cell_type": "markdown",
   "metadata": {},
   "source": [
    "## Distribution of Trip Length in The Morning\n",
    "\n",
    "In the beginning, we need to filter on subway trip occurred in the morning (remaining 80,007 records). I just want to target the **morning commuters**, since they're most likely to be interested in finding new flats closer to the office. Thus, what's distribution like for morning trip length?\n",
    "\n",
    "Form data shown on the graph below, trip length is extremely right-skewed, where the mean is **43 mins** and the median is **32 mins**."
   ]
  },
  {
   "cell_type": "code",
   "execution_count": 16,
   "metadata": {},
   "outputs": [
    {
     "name": "stdout",
     "output_type": "stream",
     "text": [
      "Subway trips occurred in the moring:  80007\n"
     ]
    }
   ],
   "source": [
    "# Subset trip occurs before 12pm.\n",
    "subway_trip_mor = subway_trip[subway_trip['datetime_y'].apply(lambda x: x.hour < 12)]\n",
    "print('Subway trips occurred in the moring: ', subway_trip_mor.shape[0])"
   ]
  },
  {
   "cell_type": "code",
   "execution_count": 17,
   "metadata": {},
   "outputs": [],
   "source": [
    "def plot_distribution(df, col, bins=15):\n",
    "    \n",
    "    fig, ax = plt.subplots(figsize=(15,5))\n",
    "    sns.set_style(style='whitegrid')\n",
    "    feature = df[col]\n",
    "    sns.distplot(feature, bins=bins, hist=True, kde=True, ax=ax, color='#cec3c6')\n",
    "    mean_line = ax.axvline(x=feature.mean(), linewidth=2, color='black', label='mean {:.2f}'.format(feature.mean()))\n",
    "    median_line = ax.axvline(x=feature.median(), linewidth=2, color='red', label='median {:.2f}'.format(feature.median()))\n",
    "    _ = ax.legend(handles=[mean_line, median_line])\n",
    "    _ = ax.set_title('Histogram of {} for Bins = {}'.format(col, bins), fontsize='x-large')\n",
    "    \n",
    "    plt.show()"
   ]
  },
  {
   "cell_type": "code",
   "execution_count": 19,
   "metadata": {
    "scrolled": false
   },
   "outputs": [
    {
     "data": {
      "text/markdown": [
       "**Descriptive Statistics of Trip Length:**"
      ],
      "text/plain": [
       "<IPython.core.display.Markdown object>"
      ]
     },
     "metadata": {},
     "output_type": "display_data"
    },
    {
     "data": {
      "text/html": [
       "<div>\n",
       "<style scoped>\n",
       "    .dataframe tbody tr th:only-of-type {\n",
       "        vertical-align: middle;\n",
       "    }\n",
       "\n",
       "    .dataframe tbody tr th {\n",
       "        vertical-align: top;\n",
       "    }\n",
       "\n",
       "    .dataframe thead th {\n",
       "        text-align: right;\n",
       "    }\n",
       "</style>\n",
       "<table border=\"1\" class=\"dataframe\">\n",
       "  <thead>\n",
       "    <tr style=\"text-align: right;\">\n",
       "      <th></th>\n",
       "      <th>trip_length</th>\n",
       "    </tr>\n",
       "  </thead>\n",
       "  <tbody>\n",
       "    <tr>\n",
       "      <th>count</th>\n",
       "      <td>80007.00</td>\n",
       "    </tr>\n",
       "    <tr>\n",
       "      <th>mean</th>\n",
       "      <td>35.69</td>\n",
       "    </tr>\n",
       "    <tr>\n",
       "      <th>std</th>\n",
       "      <td>21.08</td>\n",
       "    </tr>\n",
       "    <tr>\n",
       "      <th>min</th>\n",
       "      <td>0.00</td>\n",
       "    </tr>\n",
       "    <tr>\n",
       "      <th>25%</th>\n",
       "      <td>21.00</td>\n",
       "    </tr>\n",
       "    <tr>\n",
       "      <th>50%</th>\n",
       "      <td>32.00</td>\n",
       "    </tr>\n",
       "    <tr>\n",
       "      <th>75%</th>\n",
       "      <td>47.00</td>\n",
       "    </tr>\n",
       "    <tr>\n",
       "      <th>max</th>\n",
       "      <td>362.00</td>\n",
       "    </tr>\n",
       "  </tbody>\n",
       "</table>\n",
       "</div>"
      ],
      "text/plain": [
       "       trip_length\n",
       "count     80007.00\n",
       "mean         35.69\n",
       "std          21.08\n",
       "min           0.00\n",
       "25%          21.00\n",
       "50%          32.00\n",
       "75%          47.00\n",
       "max         362.00"
      ]
     },
     "metadata": {},
     "output_type": "display_data"
    },
    {
     "data": {
      "image/png": "[encoded data removed]",
      "text/plain": [
       "<Figure size 1080x360 with 1 Axes>"
      ]
     },
     "metadata": {},
     "output_type": "display_data"
    }
   ],
   "source": [
    "printmd('**Descriptive Statistics of Trip Length:**')\n",
    "display(subway_trip_mor[['trip_length']].describe())\n",
    "\n",
    "plot_distribution(df=subway_trip_mor, col='trip_length', bins=25)"
   ]
  },
  {
   "cell_type": "markdown",
   "metadata": {},
   "source": [
    "## After Delete Outliers\n",
    "\n",
    "It's obvious there are some outliers significantly dragging the distribution away, thus negatively influencing our interpretation. Let's remove them and observe the refined result, see if it improves.\n",
    "\n",
    "After removing the outliers (3854 records deleted), we see the distribution is less right-skewed. Besides, from the histogram below, we know that most passengers' trip length span from **20 to 40 mins** (accounts more than half of all trips)."
   ]
  },
  {
   "cell_type": "code",
   "execution_count": 20,
   "metadata": {},
   "outputs": [
    {
     "name": "stdout",
     "output_type": "stream",
     "text": [
      "Outliers being deleted: 3854\n"
     ]
    }
   ],
   "source": [
    "# Find outliers using IQR.\n",
    "Q3 = float(subway_trip_mor['trip_length'].quantile([0.75]))\n",
    "Q1 = float(subway_trip_mor['trip_length'].quantile([0.25]))\n",
    "IQR = Q3 - Q1\n",
    "\n",
    "high = Q3 + IQR\n",
    "low = Q1 - IQR\n",
    "\n",
    "subway_trip_mor_clean = subway_trip_mor[(low <= subway_trip_mor['trip_length']) & (subway_trip_mor['trip_length'] <= high)]\n",
    "print('Outliers being deleted: {}'.format(subway_trip_mor.shape[0] - subway_trip_mor_clean.shape[0]))"
   ]
  },
  {
   "cell_type": "code",
   "execution_count": 21,
   "metadata": {},
   "outputs": [
    {
     "data": {
      "text/markdown": [
       "**Descriptive Statistics of Trip Length after Outliers Removed:**"
      ],
      "text/plain": [
       "<IPython.core.display.Markdown object>"
      ]
     },
     "metadata": {},
     "output_type": "display_data"
    },
    {
     "data": {
      "text/html": [
       "<div>\n",
       "<style scoped>\n",
       "    .dataframe tbody tr th:only-of-type {\n",
       "        vertical-align: middle;\n",
       "    }\n",
       "\n",
       "    .dataframe tbody tr th {\n",
       "        vertical-align: top;\n",
       "    }\n",
       "\n",
       "    .dataframe thead th {\n",
       "        text-align: right;\n",
       "    }\n",
       "</style>\n",
       "<table border=\"1\" class=\"dataframe\">\n",
       "  <thead>\n",
       "    <tr style=\"text-align: right;\">\n",
       "      <th></th>\n",
       "      <th>trip_length</th>\n",
       "    </tr>\n",
       "  </thead>\n",
       "  <tbody>\n",
       "    <tr>\n",
       "      <th>count</th>\n",
       "      <td>76153.00</td>\n",
       "    </tr>\n",
       "    <tr>\n",
       "      <th>mean</th>\n",
       "      <td>32.87</td>\n",
       "    </tr>\n",
       "    <tr>\n",
       "      <th>std</th>\n",
       "      <td>16.31</td>\n",
       "    </tr>\n",
       "    <tr>\n",
       "      <th>min</th>\n",
       "      <td>0.00</td>\n",
       "    </tr>\n",
       "    <tr>\n",
       "      <th>25%</th>\n",
       "      <td>20.00</td>\n",
       "    </tr>\n",
       "    <tr>\n",
       "      <th>50%</th>\n",
       "      <td>31.00</td>\n",
       "    </tr>\n",
       "    <tr>\n",
       "      <th>75%</th>\n",
       "      <td>44.00</td>\n",
       "    </tr>\n",
       "    <tr>\n",
       "      <th>max</th>\n",
       "      <td>73.00</td>\n",
       "    </tr>\n",
       "  </tbody>\n",
       "</table>\n",
       "</div>"
      ],
      "text/plain": [
       "       trip_length\n",
       "count     76153.00\n",
       "mean         32.87\n",
       "std          16.31\n",
       "min           0.00\n",
       "25%          20.00\n",
       "50%          31.00\n",
       "75%          44.00\n",
       "max          73.00"
      ]
     },
     "metadata": {},
     "output_type": "display_data"
    },
    {
     "data": {
      "image/png": "[encoded data removed]",
      "text/plain": [
       "<Figure size 1080x360 with 1 Axes>"
      ]
     },
     "metadata": {},
     "output_type": "display_data"
    }
   ],
   "source": [
    "printmd('**Descriptive Statistics of Trip Length after Outliers Removed:**')\n",
    "display(subway_trip_mor_clean[['trip_length']].describe())\n",
    "\n",
    "plot_distribution(df=subway_trip_mor_clean, col='trip_length', bins=25)"
   ]
  },
  {
   "cell_type": "markdown",
   "metadata": {},
   "source": [
    "## Classify Trips into Three Types\n",
    "\n",
    "We're now familiar with the trip length distribution. Let's classify these trips into three types - short, medium, long distance. By classifying trips (and passengers behind) into different types, we can compute the share of each trip type in all stations, and identify which stations have the largest share of long distance passengers. These stations are the favorable ones to launch ads.\n",
    "\n",
    "<mark>**Share of each Trip Type**</mark>\n",
    "\n",
    "- Short distance trips (passengers) - Trip length less than 20 mins. (accounts for 26%)\n",
    "- Medium distance trips (passengers) - Trip length from 20 to 60 mins. (accounts for 67%)\n",
    "- Long distance trips (passengers) - Trip length longer than 60 mins. (accounts for 7%)"
   ]
  },
  {
   "cell_type": "code",
   "execution_count": 22,
   "metadata": {},
   "outputs": [],
   "source": [
    "def bin_cut(df, col, bin_range):\n",
    "    target_bin = pd.cut(df[col], bin_range, duplicates='drop') # drop off bins with the same index, incur less bin number\n",
    "\n",
    "    print('Share of each bin:')\n",
    "    bin_share = target_bin.groupby(target_bin).agg({'size': lambda x: x.size,\n",
    "                                                    'share': lambda x: x.size/len(target_bin)})\n",
    "    display(bin_share)\n",
    "\n",
    "    map_class = {}\n",
    "    for i, key in enumerate(sorted(target_bin.unique())):\n",
    "        map_class[key] = i\n",
    "    print('Bin and class label match:')\n",
    "    display(map_class)\n",
    "\n",
    "    target_bin_2 = target_bin.replace(map_class)\n",
    "    target_bin = pd.concat([target_bin, target_bin_2], axis=1)\n",
    "    target_bin.columns = ['{}_bin'.format(col), '{}_class'.format(col)]\n",
    "    \n",
    "    new_df = pd.concat([df, target_bin], axis=1)\n",
    "    return new_df"
   ]
  },
  {
   "cell_type": "code",
   "execution_count": 23,
   "metadata": {},
   "outputs": [
    {
     "name": "stdout",
     "output_type": "stream",
     "text": [
      "Share of each bin:\n"
     ]
    },
    {
     "data": {
      "text/html": [
       "<div>\n",
       "<style scoped>\n",
       "    .dataframe tbody tr th:only-of-type {\n",
       "        vertical-align: middle;\n",
       "    }\n",
       "\n",
       "    .dataframe tbody tr th {\n",
       "        vertical-align: top;\n",
       "    }\n",
       "\n",
       "    .dataframe thead th {\n",
       "        text-align: right;\n",
       "    }\n",
       "</style>\n",
       "<table border=\"1\" class=\"dataframe\">\n",
       "  <thead>\n",
       "    <tr style=\"text-align: right;\">\n",
       "      <th></th>\n",
       "      <th>size</th>\n",
       "      <th>share</th>\n",
       "    </tr>\n",
       "    <tr>\n",
       "      <th>trip_length</th>\n",
       "      <th></th>\n",
       "      <th></th>\n",
       "    </tr>\n",
       "  </thead>\n",
       "  <tbody>\n",
       "    <tr>\n",
       "      <th>(-1, 20]</th>\n",
       "      <td>19581</td>\n",
       "      <td>0.26</td>\n",
       "    </tr>\n",
       "    <tr>\n",
       "      <th>(20, 60]</th>\n",
       "      <td>51401</td>\n",
       "      <td>0.67</td>\n",
       "    </tr>\n",
       "    <tr>\n",
       "      <th>(60, 362]</th>\n",
       "      <td>5171</td>\n",
       "      <td>0.07</td>\n",
       "    </tr>\n",
       "  </tbody>\n",
       "</table>\n",
       "</div>"
      ],
      "text/plain": [
       "              size  share\n",
       "trip_length              \n",
       "(-1, 20]     19581   0.26\n",
       "(20, 60]     51401   0.67\n",
       "(60, 362]     5171   0.07"
      ]
     },
     "metadata": {},
     "output_type": "display_data"
    },
    {
     "name": "stdout",
     "output_type": "stream",
     "text": [
      "Bin and class label match:\n"
     ]
    },
    {
     "data": {
      "text/plain": [
       "{Interval(-1, 20, closed='right'): 0,\n",
       " Interval(20, 60, closed='right'): 1,\n",
       " Interval(60, 362, closed='right'): 2}"
      ]
     },
     "metadata": {},
     "output_type": "display_data"
    }
   ],
   "source": [
    "subway_trip_mor_cl = bin_cut(\n",
    "    df=subway_trip_mor_clean, \n",
    "    col='trip_length', \n",
    "    bin_range=[-1, 20, 60, subway_trip_mor['trip_length'].max()])"
   ]
  },
  {
   "cell_type": "markdown",
   "metadata": {},
   "source": [
    "## Aggregate to Destination Station\n",
    "\n",
    "Now I've classified each trip to short, medium, long distance trip. I can aggregate all trips up to station level, so that to see **the share of each trip type on each station.**\n",
    "\n",
    "To be more precise here, the station in the context is the destination of each trip. What really matters is for each station, how long passengers have traveled to arrive that station, so that we know in which stations we're mostly likely to encounter long distance passengers."
   ]
  },
  {
   "cell_type": "code",
   "execution_count": 24,
   "metadata": {},
   "outputs": [],
   "source": [
    "# Count trip numbers.\n",
    "station_share = subway_trip_mor_cl.groupby(['line_y','stop_y', 'trip_length_class']).count(\n",
    "                    )[['trip_length_bin']].rename(columns={'trip_length_bin':'count'})\n",
    "\n",
    "# long to wide\n",
    "station_share = station_share.unstack(level='trip_length_class')\n",
    "\n",
    "# remove multi-columns\n",
    "cols = station_share.columns.droplevel()\n",
    "cols = ['class_' + str(col) for col in cols]\n",
    "station_share.columns = cols"
   ]
  },
  {
   "cell_type": "code",
   "execution_count": 25,
   "metadata": {
    "scrolled": true
   },
   "outputs": [
    {
     "data": {
      "text/markdown": [
       "**Share of Each Type in Stations:** \n",
       " (class_0: short distance, class_1: medium distance, class_2: long distance)"
      ],
      "text/plain": [
       "<IPython.core.display.Markdown object>"
      ]
     },
     "metadata": {},
     "output_type": "display_data"
    },
    {
     "data": {
      "text/html": [
       "<div>\n",
       "<style scoped>\n",
       "    .dataframe tbody tr th:only-of-type {\n",
       "        vertical-align: middle;\n",
       "    }\n",
       "\n",
       "    .dataframe tbody tr th {\n",
       "        vertical-align: top;\n",
       "    }\n",
       "\n",
       "    .dataframe thead th {\n",
       "        text-align: right;\n",
       "    }\n",
       "</style>\n",
       "<table border=\"1\" class=\"dataframe\">\n",
       "  <thead>\n",
       "    <tr style=\"text-align: right;\">\n",
       "      <th></th>\n",
       "      <th></th>\n",
       "      <th>class_0</th>\n",
       "      <th>class_1</th>\n",
       "      <th>class_2</th>\n",
       "      <th>total</th>\n",
       "      <th>class_0_rate</th>\n",
       "      <th>class_1_rate</th>\n",
       "      <th>class_2_rate</th>\n",
       "    </tr>\n",
       "    <tr>\n",
       "      <th>line_y</th>\n",
       "      <th>stop_y</th>\n",
       "      <th></th>\n",
       "      <th></th>\n",
       "      <th></th>\n",
       "      <th></th>\n",
       "      <th></th>\n",
       "      <th></th>\n",
       "      <th></th>\n",
       "    </tr>\n",
       "  </thead>\n",
       "  <tbody>\n",
       "    <tr>\n",
       "      <th rowspan=\"2\" valign=\"top\">2</th>\n",
       "      <th>海天三路</th>\n",
       "      <td>4.00</td>\n",
       "      <td>5.00</td>\n",
       "      <td>8.00</td>\n",
       "      <td>17.00</td>\n",
       "      <td>0.24</td>\n",
       "      <td>0.29</td>\n",
       "      <td>0.47</td>\n",
       "    </tr>\n",
       "    <tr>\n",
       "      <th>凌空路</th>\n",
       "      <td>1.00</td>\n",
       "      <td>3.00</td>\n",
       "      <td>3.00</td>\n",
       "      <td>7.00</td>\n",
       "      <td>0.14</td>\n",
       "      <td>0.43</td>\n",
       "      <td>0.43</td>\n",
       "    </tr>\n",
       "    <tr>\n",
       "      <th rowspan=\"2\" valign=\"top\">16</th>\n",
       "      <th>书院</th>\n",
       "      <td>3.00</td>\n",
       "      <td>4.00</td>\n",
       "      <td>4.00</td>\n",
       "      <td>11.00</td>\n",
       "      <td>0.27</td>\n",
       "      <td>0.36</td>\n",
       "      <td>0.36</td>\n",
       "    </tr>\n",
       "    <tr>\n",
       "      <th>航头东</th>\n",
       "      <td>4.00</td>\n",
       "      <td>3.00</td>\n",
       "      <td>4.00</td>\n",
       "      <td>11.00</td>\n",
       "      <td>0.36</td>\n",
       "      <td>0.27</td>\n",
       "      <td>0.36</td>\n",
       "    </tr>\n",
       "    <tr>\n",
       "      <th>7</th>\n",
       "      <th>美兰湖</th>\n",
       "      <td>7.00</td>\n",
       "      <td>37.00</td>\n",
       "      <td>24.00</td>\n",
       "      <td>68.00</td>\n",
       "      <td>0.10</td>\n",
       "      <td>0.54</td>\n",
       "      <td>0.35</td>\n",
       "    </tr>\n",
       "  </tbody>\n",
       "</table>\n",
       "</div>"
      ],
      "text/plain": [
       "               class_0  class_1  class_2  total  class_0_rate  class_1_rate  \\\n",
       "line_y stop_y                                                                 \n",
       "2      海天三路       4.00     5.00     8.00  17.00          0.24          0.29   \n",
       "       凌空路        1.00     3.00     3.00   7.00          0.14          0.43   \n",
       "16     书院         3.00     4.00     4.00  11.00          0.27          0.36   \n",
       "       航头东        4.00     3.00     4.00  11.00          0.36          0.27   \n",
       "7      美兰湖        7.00    37.00    24.00  68.00          0.10          0.54   \n",
       "\n",
       "               class_2_rate  \n",
       "line_y stop_y                \n",
       "2      海天三路            0.47  \n",
       "       凌空路             0.43  \n",
       "16     书院              0.36  \n",
       "       航头东             0.36  \n",
       "7      美兰湖             0.35  "
      ]
     },
     "metadata": {},
     "output_type": "display_data"
    }
   ],
   "source": [
    "# Calculate percentage.\n",
    "station_share['total'] = station_share['class_0'] + station_share['class_1'] + station_share['class_2']\n",
    "station_share['class_0_rate'] = station_share['class_0'] / station_share['total']\n",
    "station_share['class_1_rate'] = station_share['class_1'] / station_share['total']\n",
    "station_share['class_2_rate'] = station_share['class_2'] / station_share['total']\n",
    "station_share = station_share.sort_values(by='class_2_rate', ascending=False)\n",
    "\n",
    "printmd('**Share of Each Type in Stations:** \\n (class_0: short distance, class_1: medium distance, class_2: long distance)')\n",
    "display(station_share.head(n=5))"
   ]
  },
  {
   "cell_type": "markdown",
   "metadata": {},
   "source": [
    "## Statistics of Distribution\n",
    "\n",
    "From the table below, we can tell that roughly each station has **10%** of passengers traveling long distance to get there, in terms of absolute number, that would be **16** people. But noted, it's computed only on sampled data, which accounts for **4%** of the population. Thus, the absolute number of trips (passengers) must be way higher than the figures what we see here.\n",
    "\n",
    "We can even visualize it in a stacked bar plot, and get a general view of how many there are stations having more-than-average-share long distance passengers. "
   ]
  },
  {
   "cell_type": "code",
   "execution_count": 26,
   "metadata": {},
   "outputs": [
    {
     "data": {
      "text/markdown": [
       "**Descriptive Statistics of Trip Type Share among Stations:**"
      ],
      "text/plain": [
       "<IPython.core.display.Markdown object>"
      ]
     },
     "metadata": {},
     "output_type": "display_data"
    },
    {
     "data": {
      "text/html": [
       "<div>\n",
       "<style scoped>\n",
       "    .dataframe tbody tr th:only-of-type {\n",
       "        vertical-align: middle;\n",
       "    }\n",
       "\n",
       "    .dataframe tbody tr th {\n",
       "        vertical-align: top;\n",
       "    }\n",
       "\n",
       "    .dataframe thead th {\n",
       "        text-align: right;\n",
       "    }\n",
       "</style>\n",
       "<table border=\"1\" class=\"dataframe\">\n",
       "  <thead>\n",
       "    <tr style=\"text-align: right;\">\n",
       "      <th></th>\n",
       "      <th>class_0</th>\n",
       "      <th>class_1</th>\n",
       "      <th>class_2</th>\n",
       "      <th>total</th>\n",
       "      <th>class_0_rate</th>\n",
       "      <th>class_1_rate</th>\n",
       "      <th>class_2_rate</th>\n",
       "    </tr>\n",
       "  </thead>\n",
       "  <tbody>\n",
       "    <tr>\n",
       "      <th>count</th>\n",
       "      <td>312.00</td>\n",
       "      <td>313.00</td>\n",
       "      <td>311.00</td>\n",
       "      <td>311.00</td>\n",
       "      <td>311.00</td>\n",
       "      <td>311.00</td>\n",
       "      <td>311.00</td>\n",
       "    </tr>\n",
       "    <tr>\n",
       "      <th>mean</th>\n",
       "      <td>62.76</td>\n",
       "      <td>164.22</td>\n",
       "      <td>16.63</td>\n",
       "      <td>244.75</td>\n",
       "      <td>0.27</td>\n",
       "      <td>0.63</td>\n",
       "      <td>0.10</td>\n",
       "    </tr>\n",
       "    <tr>\n",
       "      <th>std</th>\n",
       "      <td>68.29</td>\n",
       "      <td>196.57</td>\n",
       "      <td>18.57</td>\n",
       "      <td>274.51</td>\n",
       "      <td>0.09</td>\n",
       "      <td>0.10</td>\n",
       "      <td>0.07</td>\n",
       "    </tr>\n",
       "    <tr>\n",
       "      <th>min</th>\n",
       "      <td>1.00</td>\n",
       "      <td>3.00</td>\n",
       "      <td>1.00</td>\n",
       "      <td>6.00</td>\n",
       "      <td>0.05</td>\n",
       "      <td>0.24</td>\n",
       "      <td>0.01</td>\n",
       "    </tr>\n",
       "    <tr>\n",
       "      <th>25%</th>\n",
       "      <td>17.00</td>\n",
       "      <td>39.00</td>\n",
       "      <td>6.00</td>\n",
       "      <td>68.00</td>\n",
       "      <td>0.21</td>\n",
       "      <td>0.59</td>\n",
       "      <td>0.05</td>\n",
       "    </tr>\n",
       "    <tr>\n",
       "      <th>50%</th>\n",
       "      <td>39.00</td>\n",
       "      <td>86.00</td>\n",
       "      <td>11.00</td>\n",
       "      <td>143.00</td>\n",
       "      <td>0.25</td>\n",
       "      <td>0.66</td>\n",
       "      <td>0.07</td>\n",
       "    </tr>\n",
       "    <tr>\n",
       "      <th>75%</th>\n",
       "      <td>81.25</td>\n",
       "      <td>210.00</td>\n",
       "      <td>20.00</td>\n",
       "      <td>308.00</td>\n",
       "      <td>0.31</td>\n",
       "      <td>0.71</td>\n",
       "      <td>0.13</td>\n",
       "    </tr>\n",
       "    <tr>\n",
       "      <th>max</th>\n",
       "      <td>453.00</td>\n",
       "      <td>1496.00</td>\n",
       "      <td>208.00</td>\n",
       "      <td>2016.00</td>\n",
       "      <td>0.63</td>\n",
       "      <td>0.85</td>\n",
       "      <td>0.47</td>\n",
       "    </tr>\n",
       "  </tbody>\n",
       "</table>\n",
       "</div>"
      ],
      "text/plain": [
       "       class_0  class_1  class_2   total  class_0_rate  class_1_rate  \\\n",
       "count   312.00   313.00   311.00  311.00        311.00        311.00   \n",
       "mean     62.76   164.22    16.63  244.75          0.27          0.63   \n",
       "std      68.29   196.57    18.57  274.51          0.09          0.10   \n",
       "min       1.00     3.00     1.00    6.00          0.05          0.24   \n",
       "25%      17.00    39.00     6.00   68.00          0.21          0.59   \n",
       "50%      39.00    86.00    11.00  143.00          0.25          0.66   \n",
       "75%      81.25   210.00    20.00  308.00          0.31          0.71   \n",
       "max     453.00  1496.00   208.00 2016.00          0.63          0.85   \n",
       "\n",
       "       class_2_rate  \n",
       "count        311.00  \n",
       "mean           0.10  \n",
       "std            0.07  \n",
       "min            0.01  \n",
       "25%            0.05  \n",
       "50%            0.07  \n",
       "75%            0.13  \n",
       "max            0.47  "
      ]
     },
     "execution_count": 26,
     "metadata": {},
     "output_type": "execute_result"
    }
   ],
   "source": [
    "printmd('**Descriptive Statistics of Trip Type Share among Stations:**')\n",
    "station_share.describe()"
   ]
  },
  {
   "cell_type": "code",
   "execution_count": 27,
   "metadata": {},
   "outputs": [
    {
     "data": {
      "image/png": "[encoded data removed]",
      "text/plain": [
       "<Figure size 1800x720 with 1 Axes>"
      ]
     },
     "metadata": {},
     "output_type": "display_data"
    }
   ],
   "source": [
    "# plot stacked barplot\n",
    "fig, ax = plt.subplots(1,1,figsize=(25,10))\n",
    "\n",
    "_ = station_share.plot(y=['class_2_rate', 'class_1_rate', 'class_0_rate'],\n",
    "                        kind='bar', ax=ax, rot=30, stacked=True,\n",
    "                        colors=['#7c260b','#cec3c6','#014d64'])\n",
    "_ = ax.tick_params(labelbottom=False) # remove xtick labels\n",
    "_ = ax.legend(fontsize='xx-large')\n",
    "_ = ax.set_title('Share of Each Passenger Type over Each Station', fontsize=20)\n",
    "_ = ax.set_xlabel(xlabel='Stations', fontsize=20)"
   ]
  },
  {
   "cell_type": "markdown",
   "metadata": {},
   "source": [
    "## Suggested List of Stations\n",
    "\n",
    "Finally it comes to answer our question. Which stations are the first choices when planning placing flat leashing ads.\n",
    "\n",
    "Let's try to take **75% percentile** as the filtering criterion, meaning to select only station which has absolute number of long distance passengers more than **20 people** and the share of long distance passengers higher than **13%**."
   ]
  },
  {
   "cell_type": "code",
   "execution_count": 28,
   "metadata": {
    "scrolled": false
   },
   "outputs": [
    {
     "data": {
      "text/markdown": [
       "**In total, 20 stations are selected, as follow,**"
      ],
      "text/plain": [
       "<IPython.core.display.Markdown object>"
      ]
     },
     "metadata": {},
     "output_type": "display_data"
    },
    {
     "data": {
      "text/html": [
       "<div>\n",
       "<style scoped>\n",
       "    .dataframe tbody tr th:only-of-type {\n",
       "        vertical-align: middle;\n",
       "    }\n",
       "\n",
       "    .dataframe tbody tr th {\n",
       "        vertical-align: top;\n",
       "    }\n",
       "\n",
       "    .dataframe thead th {\n",
       "        text-align: right;\n",
       "    }\n",
       "</style>\n",
       "<table border=\"1\" class=\"dataframe\">\n",
       "  <thead>\n",
       "    <tr style=\"text-align: right;\">\n",
       "      <th></th>\n",
       "      <th></th>\n",
       "      <th>class_0</th>\n",
       "      <th>class_1</th>\n",
       "      <th>class_2</th>\n",
       "      <th>total</th>\n",
       "      <th>class_0_rate</th>\n",
       "      <th>class_1_rate</th>\n",
       "      <th>class_2_rate</th>\n",
       "    </tr>\n",
       "    <tr>\n",
       "      <th>line_y</th>\n",
       "      <th>stop_y</th>\n",
       "      <th></th>\n",
       "      <th></th>\n",
       "      <th></th>\n",
       "      <th></th>\n",
       "      <th></th>\n",
       "      <th></th>\n",
       "      <th></th>\n",
       "    </tr>\n",
       "  </thead>\n",
       "  <tbody>\n",
       "    <tr>\n",
       "      <th>7</th>\n",
       "      <th>美兰湖</th>\n",
       "      <td>7.00</td>\n",
       "      <td>37.00</td>\n",
       "      <td>24.00</td>\n",
       "      <td>68.00</td>\n",
       "      <td>0.10</td>\n",
       "      <td>0.54</td>\n",
       "      <td>0.35</td>\n",
       "    </tr>\n",
       "    <tr>\n",
       "      <th>9</th>\n",
       "      <th>佘山</th>\n",
       "      <td>33.00</td>\n",
       "      <td>46.00</td>\n",
       "      <td>34.00</td>\n",
       "      <td>113.00</td>\n",
       "      <td>0.29</td>\n",
       "      <td>0.41</td>\n",
       "      <td>0.30</td>\n",
       "    </tr>\n",
       "    <tr>\n",
       "      <th>6</th>\n",
       "      <th>航津路</th>\n",
       "      <td>6.00</td>\n",
       "      <td>42.00</td>\n",
       "      <td>20.00</td>\n",
       "      <td>68.00</td>\n",
       "      <td>0.09</td>\n",
       "      <td>0.62</td>\n",
       "      <td>0.29</td>\n",
       "    </tr>\n",
       "    <tr>\n",
       "      <th>8</th>\n",
       "      <th>沈杜公路</th>\n",
       "      <td>21.00</td>\n",
       "      <td>122.00</td>\n",
       "      <td>52.00</td>\n",
       "      <td>195.00</td>\n",
       "      <td>0.11</td>\n",
       "      <td>0.63</td>\n",
       "      <td>0.27</td>\n",
       "    </tr>\n",
       "    <tr>\n",
       "      <th>2</th>\n",
       "      <th>虹桥火车站</th>\n",
       "      <td>123.00</td>\n",
       "      <td>498.00</td>\n",
       "      <td>208.00</td>\n",
       "      <td>829.00</td>\n",
       "      <td>0.15</td>\n",
       "      <td>0.60</td>\n",
       "      <td>0.25</td>\n",
       "    </tr>\n",
       "    <tr>\n",
       "      <th>16</th>\n",
       "      <th>惠南</th>\n",
       "      <td>14.00</td>\n",
       "      <td>52.00</td>\n",
       "      <td>21.00</td>\n",
       "      <td>87.00</td>\n",
       "      <td>0.16</td>\n",
       "      <td>0.60</td>\n",
       "      <td>0.24</td>\n",
       "    </tr>\n",
       "    <tr>\n",
       "      <th>11</th>\n",
       "      <th>嘉定北</th>\n",
       "      <td>23.00</td>\n",
       "      <td>72.00</td>\n",
       "      <td>29.00</td>\n",
       "      <td>124.00</td>\n",
       "      <td>0.19</td>\n",
       "      <td>0.58</td>\n",
       "      <td>0.23</td>\n",
       "    </tr>\n",
       "    <tr>\n",
       "      <th>2</th>\n",
       "      <th>徐泾东</th>\n",
       "      <td>42.00</td>\n",
       "      <td>129.00</td>\n",
       "      <td>52.00</td>\n",
       "      <td>223.00</td>\n",
       "      <td>0.19</td>\n",
       "      <td>0.58</td>\n",
       "      <td>0.23</td>\n",
       "    </tr>\n",
       "    <tr>\n",
       "      <th>7</th>\n",
       "      <th>顾村公园</th>\n",
       "      <td>48.00</td>\n",
       "      <td>45.00</td>\n",
       "      <td>26.00</td>\n",
       "      <td>119.00</td>\n",
       "      <td>0.40</td>\n",
       "      <td>0.38</td>\n",
       "      <td>0.22</td>\n",
       "    </tr>\n",
       "    <tr>\n",
       "      <th>9</th>\n",
       "      <th>松江大学城</th>\n",
       "      <td>39.00</td>\n",
       "      <td>86.00</td>\n",
       "      <td>31.00</td>\n",
       "      <td>156.00</td>\n",
       "      <td>0.25</td>\n",
       "      <td>0.55</td>\n",
       "      <td>0.20</td>\n",
       "    </tr>\n",
       "    <tr>\n",
       "      <th>5</th>\n",
       "      <th>东川路</th>\n",
       "      <td>45.00</td>\n",
       "      <td>63.00</td>\n",
       "      <td>24.00</td>\n",
       "      <td>132.00</td>\n",
       "      <td>0.34</td>\n",
       "      <td>0.48</td>\n",
       "      <td>0.18</td>\n",
       "    </tr>\n",
       "    <tr>\n",
       "      <th>8</th>\n",
       "      <th>江月路</th>\n",
       "      <td>32.00</td>\n",
       "      <td>111.00</td>\n",
       "      <td>31.00</td>\n",
       "      <td>174.00</td>\n",
       "      <td>0.18</td>\n",
       "      <td>0.64</td>\n",
       "      <td>0.18</td>\n",
       "    </tr>\n",
       "    <tr>\n",
       "      <th>10</th>\n",
       "      <th>国权路</th>\n",
       "      <td>30.00</td>\n",
       "      <td>73.00</td>\n",
       "      <td>22.00</td>\n",
       "      <td>125.00</td>\n",
       "      <td>0.24</td>\n",
       "      <td>0.58</td>\n",
       "      <td>0.18</td>\n",
       "    </tr>\n",
       "    <tr>\n",
       "      <th>7</th>\n",
       "      <th>芳华路</th>\n",
       "      <td>21.00</td>\n",
       "      <td>89.00</td>\n",
       "      <td>22.00</td>\n",
       "      <td>132.00</td>\n",
       "      <td>0.16</td>\n",
       "      <td>0.67</td>\n",
       "      <td>0.17</td>\n",
       "    </tr>\n",
       "    <tr>\n",
       "      <th>1</th>\n",
       "      <th>富锦路</th>\n",
       "      <td>39.00</td>\n",
       "      <td>65.00</td>\n",
       "      <td>20.00</td>\n",
       "      <td>124.00</td>\n",
       "      <td>0.31</td>\n",
       "      <td>0.52</td>\n",
       "      <td>0.16</td>\n",
       "    </tr>\n",
       "    <tr>\n",
       "      <th>11</th>\n",
       "      <th>南翔</th>\n",
       "      <td>53.00</td>\n",
       "      <td>146.00</td>\n",
       "      <td>38.00</td>\n",
       "      <td>237.00</td>\n",
       "      <td>0.22</td>\n",
       "      <td>0.62</td>\n",
       "      <td>0.16</td>\n",
       "    </tr>\n",
       "    <tr>\n",
       "      <th>5</th>\n",
       "      <th>颛桥</th>\n",
       "      <td>87.00</td>\n",
       "      <td>71.00</td>\n",
       "      <td>27.00</td>\n",
       "      <td>185.00</td>\n",
       "      <td>0.47</td>\n",
       "      <td>0.38</td>\n",
       "      <td>0.15</td>\n",
       "    </tr>\n",
       "    <tr>\n",
       "      <th>2</th>\n",
       "      <th>广兰路</th>\n",
       "      <td>86.00</td>\n",
       "      <td>334.00</td>\n",
       "      <td>71.00</td>\n",
       "      <td>491.00</td>\n",
       "      <td>0.18</td>\n",
       "      <td>0.68</td>\n",
       "      <td>0.14</td>\n",
       "    </tr>\n",
       "    <tr>\n",
       "      <th>7</th>\n",
       "      <th>花木路</th>\n",
       "      <td>95.00</td>\n",
       "      <td>253.00</td>\n",
       "      <td>56.00</td>\n",
       "      <td>404.00</td>\n",
       "      <td>0.24</td>\n",
       "      <td>0.63</td>\n",
       "      <td>0.14</td>\n",
       "    </tr>\n",
       "    <tr>\n",
       "      <th>10</th>\n",
       "      <th>龙柏新村</th>\n",
       "      <td>34.00</td>\n",
       "      <td>112.00</td>\n",
       "      <td>22.00</td>\n",
       "      <td>168.00</td>\n",
       "      <td>0.20</td>\n",
       "      <td>0.67</td>\n",
       "      <td>0.13</td>\n",
       "    </tr>\n",
       "  </tbody>\n",
       "</table>\n",
       "</div>"
      ],
      "text/plain": [
       "               class_0  class_1  class_2  total  class_0_rate  class_1_rate  \\\n",
       "line_y stop_y                                                                 \n",
       "7      美兰湖        7.00    37.00    24.00  68.00          0.10          0.54   \n",
       "9      佘山        33.00    46.00    34.00 113.00          0.29          0.41   \n",
       "6      航津路        6.00    42.00    20.00  68.00          0.09          0.62   \n",
       "8      沈杜公路      21.00   122.00    52.00 195.00          0.11          0.63   \n",
       "2      虹桥火车站    123.00   498.00   208.00 829.00          0.15          0.60   \n",
       "16     惠南        14.00    52.00    21.00  87.00          0.16          0.60   \n",
       "11     嘉定北       23.00    72.00    29.00 124.00          0.19          0.58   \n",
       "2      徐泾东       42.00   129.00    52.00 223.00          0.19          0.58   \n",
       "7      顾村公园      48.00    45.00    26.00 119.00          0.40          0.38   \n",
       "9      松江大学城     39.00    86.00    31.00 156.00          0.25          0.55   \n",
       "5      东川路       45.00    63.00    24.00 132.00          0.34          0.48   \n",
       "8      江月路       32.00   111.00    31.00 174.00          0.18          0.64   \n",
       "10     国权路       30.00    73.00    22.00 125.00          0.24          0.58   \n",
       "7      芳华路       21.00    89.00    22.00 132.00          0.16          0.67   \n",
       "1      富锦路       39.00    65.00    20.00 124.00          0.31          0.52   \n",
       "11     南翔        53.00   146.00    38.00 237.00          0.22          0.62   \n",
       "5      颛桥        87.00    71.00    27.00 185.00          0.47          0.38   \n",
       "2      广兰路       86.00   334.00    71.00 491.00          0.18          0.68   \n",
       "7      花木路       95.00   253.00    56.00 404.00          0.24          0.63   \n",
       "10     龙柏新村      34.00   112.00    22.00 168.00          0.20          0.67   \n",
       "\n",
       "               class_2_rate  \n",
       "line_y stop_y                \n",
       "7      美兰湖             0.35  \n",
       "9      佘山              0.30  \n",
       "6      航津路             0.29  \n",
       "8      沈杜公路            0.27  \n",
       "2      虹桥火车站           0.25  \n",
       "16     惠南              0.24  \n",
       "11     嘉定北             0.23  \n",
       "2      徐泾东             0.23  \n",
       "7      顾村公园            0.22  \n",
       "9      松江大学城           0.20  \n",
       "5      东川路             0.18  \n",
       "8      江月路             0.18  \n",
       "10     国权路             0.18  \n",
       "7      芳华路             0.17  \n",
       "1      富锦路             0.16  \n",
       "11     南翔              0.16  \n",
       "5      颛桥              0.15  \n",
       "2      广兰路             0.14  \n",
       "7      花木路             0.14  \n",
       "10     龙柏新村            0.13  "
      ]
     },
     "metadata": {},
     "output_type": "display_data"
    }
   ],
   "source": [
    "# Create a threshold to identify long-distance passengers accounts for over 75% pecentile\n",
    "# on both the absolute number of passengers and share of passenger type.\n",
    "\n",
    "station_list = station_share[(station_share['class_2'] >= 20) & (station_share['class_2_rate'] >= 0.13)]\n",
    "printmd('**In total, {} stations are selected, as follow,**'.format(station_list.shape[0]))\n",
    "display(station_list)"
   ]
  },
  {
   "cell_type": "markdown",
   "metadata": {},
   "source": [
    "# Expected Commute Time for each Route\n",
    "\n",
    "<mark>**User Scenario**</mark><br/>\n",
    "\n",
    "Assume that passengers saw the ads at the station, and decide to browse on our house leasing website for flat choices. If we were to add on new features in our website, perhaps say, we could provide information of how much travel time required if passengers choose to live in flats around this region. \n",
    "\n",
    "Put it more bluntly, users may directly select that s/he wants to arrive at the office before *11am*. Our website can instantly come up with a suggest list of possible locations to search for flats. That's definitely something going to impress the users.\n",
    "\n",
    "---\n",
    "\n",
    "<mark>**Brief Summary**</mark><br/>\n",
    "\n",
    "Before I jump right to compute expected trip time, I will first create flag on different time slot, so that I can dig in further and explore if trip time varies when we take subway at different timing. \n",
    "\n",
    "For the scarcity of samples on each route, I will simply create two slots - peak and off-peak hour and explore on it.\n",
    "\n",
    "Now as usual, first, let's have a look at the distribution of trip time difference between two time slots and then compute the expected commute time.\n",
    "\n",
    "The **quick conclusion** here is that it seems the time you take subway between peak and off-peak hour doesn't influence the trip time you might spend.\n",
    "\n",
    "Nonetheless, this is worthy of further investigation to be confirmed. But in my case, the expected commute time just suffices, and no need to segment further on peak and off-peak hours. Finally, in the end of this section, a table of expected commute time will be included as well."
   ]
  },
  {
   "cell_type": "markdown",
   "metadata": {},
   "source": [
    "## Flag Peak and Off-Peak Hours\n",
    "\n",
    "The computation of peak hours is based on the number of exits of all stations over each hour. See the graph down below, it's clear that there are two timing as peak hours - **8:00 and 18:00**. The rest hours have roughly the same amount of traffic."
   ]
  },
  {
   "cell_type": "code",
   "execution_count": 29,
   "metadata": {},
   "outputs": [],
   "source": [
    "# Use the destination's datetime as the interval.\n",
    "route = subway_trip.copy()\n",
    "route['hour_y'] = route['datetime_y'].apply(lambda x: x.hour)"
   ]
  },
  {
   "cell_type": "code",
   "execution_count": 30,
   "metadata": {},
   "outputs": [
    {
     "data": {
      "image/png": "[encoded data removed]",
      "text/plain": [
       "<Figure size 1440x360 with 1 Axes>"
      ]
     },
     "metadata": {},
     "output_type": "display_data"
    }
   ],
   "source": [
    "# Plot distribution.\n",
    "peak = route.groupby(['hour_y']).count(\n",
    "    )[['transit_card_id_y']].rename(columns={'transit_card_id_y':'count'})\n",
    "\n",
    "fix, ax = plt.subplots(1,1,figsize=(20,5))\n",
    "\n",
    "_ = peak.plot(y='count', kind='line', ax=ax, colors=['#014d64'])\n",
    "_ = ax.set_xticks(ticks=np.arange(24))\n",
    "_ = ax.legend(fontsize='xx-large')\n",
    "_ = ax.set_title('Exist Numbers of All Stations over Hour', fontsize=20)\n",
    "_ = ax.set_xlabel(xlabel='Hour', fontsize=20)"
   ]
  },
  {
   "cell_type": "code",
   "execution_count": 31,
   "metadata": {},
   "outputs": [],
   "source": [
    "# create flag for peak_hour or off-peak hour\n",
    "peak_hour = set([8,18])\n",
    "route['peak_hour'] = route['hour_y'].apply(lambda x: x in peak_hour)\n",
    "\n",
    "# display(route.head())"
   ]
  },
  {
   "cell_type": "markdown",
   "metadata": {},
   "source": [
    "## Route's Travel Time between Peak and Off-Peak"
   ]
  },
  {
   "cell_type": "code",
   "execution_count": 32,
   "metadata": {
    "scrolled": true
   },
   "outputs": [],
   "source": [
    "# Aggregate up to peak and off-peak interval.\n",
    "route_peak = route.groupby(['line_x','stop_x','line_y','stop_y','peak_hour']).agg(\n",
    "    {'trip_length':[('mean', np.mean), ('count', np.size)]})\n",
    "route_peak.columns = [a + '_' + b for a,b in route_peak.columns.values]\n",
    "# display(route_peak.head(n=2))"
   ]
  },
  {
   "cell_type": "code",
   "execution_count": 33,
   "metadata": {
    "scrolled": false
   },
   "outputs": [
    {
     "name": "stdout",
     "output_type": "stream",
     "text": [
      "Check if rows contain missing values:\n",
      "\n",
      "line_x                          False\n",
      "stop_x                          False\n",
      "line_y                          False\n",
      "stop_y                          False\n",
      "trip_length_mean_peak_false     False\n",
      "trip_length_mean_peak_true      False\n",
      "trip_length_count_peak_false    False\n",
      "trip_length_count_peak_true     False\n",
      "peak_diff                       False\n",
      "dtype: bool\n"
     ]
    },
    {
     "data": {
      "text/markdown": [
       "\n",
       "**Preview of route_peak_wide:**"
      ],
      "text/plain": [
       "<IPython.core.display.Markdown object>"
      ]
     },
     "metadata": {},
     "output_type": "display_data"
    },
    {
     "data": {
      "text/html": [
       "<div>\n",
       "<style scoped>\n",
       "    .dataframe tbody tr th:only-of-type {\n",
       "        vertical-align: middle;\n",
       "    }\n",
       "\n",
       "    .dataframe tbody tr th {\n",
       "        vertical-align: top;\n",
       "    }\n",
       "\n",
       "    .dataframe thead th {\n",
       "        text-align: right;\n",
       "    }\n",
       "</style>\n",
       "<table border=\"1\" class=\"dataframe\">\n",
       "  <thead>\n",
       "    <tr style=\"text-align: right;\">\n",
       "      <th></th>\n",
       "      <th>line_x</th>\n",
       "      <th>stop_x</th>\n",
       "      <th>line_y</th>\n",
       "      <th>stop_y</th>\n",
       "      <th>trip_length_mean_peak_false</th>\n",
       "      <th>trip_length_mean_peak_true</th>\n",
       "      <th>trip_length_count_peak_false</th>\n",
       "      <th>trip_length_count_peak_true</th>\n",
       "      <th>peak_diff</th>\n",
       "    </tr>\n",
       "  </thead>\n",
       "  <tbody>\n",
       "    <tr>\n",
       "      <th>1</th>\n",
       "      <td>1</td>\n",
       "      <td>上海体育馆</td>\n",
       "      <td>1</td>\n",
       "      <td>上海南站</td>\n",
       "      <td>8.60</td>\n",
       "      <td>9.00</td>\n",
       "      <td>5.00</td>\n",
       "      <td>1.00</td>\n",
       "      <td>0.40</td>\n",
       "    </tr>\n",
       "    <tr>\n",
       "      <th>2</th>\n",
       "      <td>1</td>\n",
       "      <td>上海体育馆</td>\n",
       "      <td>1</td>\n",
       "      <td>上海火车站</td>\n",
       "      <td>22.33</td>\n",
       "      <td>26.50</td>\n",
       "      <td>3.00</td>\n",
       "      <td>2.00</td>\n",
       "      <td>4.17</td>\n",
       "    </tr>\n",
       "    <tr>\n",
       "      <th>3</th>\n",
       "      <td>1</td>\n",
       "      <td>上海体育馆</td>\n",
       "      <td>1</td>\n",
       "      <td>上海马戏城</td>\n",
       "      <td>33.50</td>\n",
       "      <td>32.00</td>\n",
       "      <td>2.00</td>\n",
       "      <td>1.00</td>\n",
       "      <td>-1.50</td>\n",
       "    </tr>\n",
       "    <tr>\n",
       "      <th>4</th>\n",
       "      <td>1</td>\n",
       "      <td>上海体育馆</td>\n",
       "      <td>1</td>\n",
       "      <td>中山北路</td>\n",
       "      <td>28.00</td>\n",
       "      <td>26.00</td>\n",
       "      <td>3.00</td>\n",
       "      <td>1.00</td>\n",
       "      <td>-2.00</td>\n",
       "    </tr>\n",
       "    <tr>\n",
       "      <th>5</th>\n",
       "      <td>1</td>\n",
       "      <td>上海体育馆</td>\n",
       "      <td>1</td>\n",
       "      <td>共康路</td>\n",
       "      <td>36.00</td>\n",
       "      <td>40.00</td>\n",
       "      <td>1.00</td>\n",
       "      <td>1.00</td>\n",
       "      <td>4.00</td>\n",
       "    </tr>\n",
       "  </tbody>\n",
       "</table>\n",
       "</div>"
      ],
      "text/plain": [
       "  line_x stop_x line_y stop_y  trip_length_mean_peak_false  \\\n",
       "1      1  上海体育馆      1   上海南站                         8.60   \n",
       "2      1  上海体育馆      1  上海火车站                        22.33   \n",
       "3      1  上海体育馆      1  上海马戏城                        33.50   \n",
       "4      1  上海体育馆      1   中山北路                        28.00   \n",
       "5      1  上海体育馆      1    共康路                        36.00   \n",
       "\n",
       "   trip_length_mean_peak_true  trip_length_count_peak_false  \\\n",
       "1                        9.00                          5.00   \n",
       "2                       26.50                          3.00   \n",
       "3                       32.00                          2.00   \n",
       "4                       26.00                          3.00   \n",
       "5                       40.00                          1.00   \n",
       "\n",
       "   trip_length_count_peak_true  peak_diff  \n",
       "1                         1.00       0.40  \n",
       "2                         2.00       4.17  \n",
       "3                         1.00      -1.50  \n",
       "4                         1.00      -2.00  \n",
       "5                         1.00       4.00  "
      ]
     },
     "metadata": {},
     "output_type": "display_data"
    }
   ],
   "source": [
    "# long to wide\n",
    "route_peak_wide = route_peak.unstack(level='peak_hour')\n",
    "cols = route_peak_wide.columns\n",
    "cols = [str(a).lower() + '_peak_' + str(b).lower() for a,b in cols] \n",
    "route_peak_wide.columns = cols\n",
    "route_peak_wide = route_peak_wide.dropna()\n",
    "route_peak_wide = route_peak_wide.reset_index()\n",
    "route_peak_wide['peak_diff'] = route_peak_wide['trip_length_mean_peak_true'] - route_peak_wide['trip_length_mean_peak_false']\n",
    "print('Check if rows contain missing values:\\n')\n",
    "print(route_peak_wide.isna().any())\n",
    "\n",
    "printmd('\\n**Preview of route_peak_wide:**')\n",
    "display(route_peak_wide[1:].head(n=5))"
   ]
  },
  {
   "cell_type": "markdown",
   "metadata": {},
   "source": [
    "## Distribution of Trip Time Difference on Peak and Off-Peak Hour\n",
    "\n",
    "**First, delete abnormal routes.** There are some cases where passengers get on and get off at the same station. These records will be excluded from dataset. \n",
    "\n",
    "Table below is the statistics of each subway route's commute time. From the table, we can tell that commute time doesn't vary so much between **peak(mean 41 mins)** and **off-peak(mean 40 mins)** hours. Thus, no need to differentiate commute time over different time slot.\n",
    "\n",
    "*Noted that it is derived from sampled dataset, therefore lots of routes have relative few samples to infer its mean travel time*. That's something to be wary of when interpreting this data.\n"
   ]
  },
  {
   "cell_type": "code",
   "execution_count": 34,
   "metadata": {},
   "outputs": [
    {
     "name": "stdout",
     "output_type": "stream",
     "text": [
      "237 abnormal routes are deleted from dataset.\n"
     ]
    }
   ],
   "source": [
    "# Exclude route where get-on and get-off station are the same.\n",
    "delete_idx = ((route_peak_wide['line_x'] == route_peak_wide['line_y']) & \n",
    "              (route_peak_wide['stop_x'] == route_peak_wide['stop_y']))\n",
    "print('{} abnormal routes are deleted from dataset.'.format(sum(delete_idx)))\n",
    "\n",
    "route_peak_wide_clean = route_peak_wide[~delete_idx]"
   ]
  },
  {
   "cell_type": "code",
   "execution_count": 35,
   "metadata": {
    "scrolled": true
   },
   "outputs": [
    {
     "data": {
      "text/markdown": [
       "**Descriptive Statistics of Routes on Peak and Off-Peak:**"
      ],
      "text/plain": [
       "<IPython.core.display.Markdown object>"
      ]
     },
     "metadata": {},
     "output_type": "display_data"
    },
    {
     "data": {
      "text/html": [
       "<div>\n",
       "<style scoped>\n",
       "    .dataframe tbody tr th:only-of-type {\n",
       "        vertical-align: middle;\n",
       "    }\n",
       "\n",
       "    .dataframe tbody tr th {\n",
       "        vertical-align: top;\n",
       "    }\n",
       "\n",
       "    .dataframe thead th {\n",
       "        text-align: right;\n",
       "    }\n",
       "</style>\n",
       "<table border=\"1\" class=\"dataframe\">\n",
       "  <thead>\n",
       "    <tr style=\"text-align: right;\">\n",
       "      <th></th>\n",
       "      <th>trip_length_mean_peak_false</th>\n",
       "      <th>trip_length_mean_peak_true</th>\n",
       "      <th>trip_length_count_peak_false</th>\n",
       "      <th>trip_length_count_peak_true</th>\n",
       "      <th>peak_diff</th>\n",
       "    </tr>\n",
       "  </thead>\n",
       "  <tbody>\n",
       "    <tr>\n",
       "      <th>count</th>\n",
       "      <td>20157.00</td>\n",
       "      <td>20157.00</td>\n",
       "      <td>20157.00</td>\n",
       "      <td>20157.00</td>\n",
       "      <td>20157.00</td>\n",
       "    </tr>\n",
       "    <tr>\n",
       "      <th>mean</th>\n",
       "      <td>41.68</td>\n",
       "      <td>40.01</td>\n",
       "      <td>4.80</td>\n",
       "      <td>2.30</td>\n",
       "      <td>-1.67</td>\n",
       "    </tr>\n",
       "    <tr>\n",
       "      <th>std</th>\n",
       "      <td>36.82</td>\n",
       "      <td>39.59</td>\n",
       "      <td>6.61</td>\n",
       "      <td>2.83</td>\n",
       "      <td>46.79</td>\n",
       "    </tr>\n",
       "    <tr>\n",
       "      <th>min</th>\n",
       "      <td>1.00</td>\n",
       "      <td>1.00</td>\n",
       "      <td>1.00</td>\n",
       "      <td>1.00</td>\n",
       "      <td>-889.50</td>\n",
       "    </tr>\n",
       "    <tr>\n",
       "      <th>25%</th>\n",
       "      <td>24.80</td>\n",
       "      <td>23.60</td>\n",
       "      <td>1.00</td>\n",
       "      <td>1.00</td>\n",
       "      <td>-3.50</td>\n",
       "    </tr>\n",
       "    <tr>\n",
       "      <th>50%</th>\n",
       "      <td>36.00</td>\n",
       "      <td>35.00</td>\n",
       "      <td>3.00</td>\n",
       "      <td>1.00</td>\n",
       "      <td>-0.67</td>\n",
       "    </tr>\n",
       "    <tr>\n",
       "      <th>75%</th>\n",
       "      <td>50.00</td>\n",
       "      <td>48.50</td>\n",
       "      <td>5.00</td>\n",
       "      <td>3.00</td>\n",
       "      <td>2.00</td>\n",
       "    </tr>\n",
       "    <tr>\n",
       "      <th>max</th>\n",
       "      <td>916.00</td>\n",
       "      <td>781.00</td>\n",
       "      <td>118.00</td>\n",
       "      <td>93.00</td>\n",
       "      <td>771.50</td>\n",
       "    </tr>\n",
       "  </tbody>\n",
       "</table>\n",
       "</div>"
      ],
      "text/plain": [
       "       trip_length_mean_peak_false  trip_length_mean_peak_true  \\\n",
       "count                     20157.00                    20157.00   \n",
       "mean                         41.68                       40.01   \n",
       "std                          36.82                       39.59   \n",
       "min                           1.00                        1.00   \n",
       "25%                          24.80                       23.60   \n",
       "50%                          36.00                       35.00   \n",
       "75%                          50.00                       48.50   \n",
       "max                         916.00                      781.00   \n",
       "\n",
       "       trip_length_count_peak_false  trip_length_count_peak_true  peak_diff  \n",
       "count                      20157.00                     20157.00   20157.00  \n",
       "mean                           4.80                         2.30      -1.67  \n",
       "std                            6.61                         2.83      46.79  \n",
       "min                            1.00                         1.00    -889.50  \n",
       "25%                            1.00                         1.00      -3.50  \n",
       "50%                            3.00                         1.00      -0.67  \n",
       "75%                            5.00                         3.00       2.00  \n",
       "max                          118.00                        93.00     771.50  "
      ]
     },
     "metadata": {},
     "output_type": "display_data"
    }
   ],
   "source": [
    "printmd('**Descriptive Statistics of Routes on Peak and Off-Peak:**')\n",
    "display(route_peak_wide_clean.describe())"
   ]
  },
  {
   "cell_type": "code",
   "execution_count": 36,
   "metadata": {
    "scrolled": true
   },
   "outputs": [
    {
     "data": {
      "image/png": "[encoded data removed]",
      "text/plain": [
       "<Figure size 1080x360 with 1 Axes>"
      ]
     },
     "metadata": {},
     "output_type": "display_data"
    }
   ],
   "source": [
    "plot_distribution(df=route_peak_wide_clean, col='peak_diff', bins=20)"
   ]
  },
  {
   "cell_type": "markdown",
   "metadata": {},
   "source": [
    "## Create Table of Mean Commute Time for Each Route\n",
    "\n",
    "<mark>**User Scenario**</mark><br/>\n",
    "\n",
    "Below is a preview of final dataset on **mean commute time for each subway route**. It can be used as reference when users are searching for flats within acceptable commute time.\n",
    "\n",
    "<mark>**Feature Engineering**</mark><br/>\n",
    "\n",
    "Actually, if we aim at building up a model, **mean commute time of each route** can also serve as a very **informative feature**. Let's say we want to make prediction of the flat's rent, the mean time to commute from the flat to major business district absolutely plays a role."
   ]
  },
  {
   "cell_type": "code",
   "execution_count": 37,
   "metadata": {
    "scrolled": true
   },
   "outputs": [
    {
     "data": {
      "text/markdown": [
       "**Preview of Table for Mean Commute Time on each Route:**"
      ],
      "text/plain": [
       "<IPython.core.display.Markdown object>"
      ]
     },
     "metadata": {},
     "output_type": "display_data"
    },
    {
     "data": {
      "text/html": [
       "<div>\n",
       "<style scoped>\n",
       "    .dataframe tbody tr th:only-of-type {\n",
       "        vertical-align: middle;\n",
       "    }\n",
       "\n",
       "    .dataframe tbody tr th {\n",
       "        vertical-align: top;\n",
       "    }\n",
       "\n",
       "    .dataframe thead th {\n",
       "        text-align: right;\n",
       "    }\n",
       "</style>\n",
       "<table border=\"1\" class=\"dataframe\">\n",
       "  <thead>\n",
       "    <tr style=\"text-align: right;\">\n",
       "      <th></th>\n",
       "      <th>line_x</th>\n",
       "      <th>stop_x</th>\n",
       "      <th>line_y</th>\n",
       "      <th>stop_y</th>\n",
       "      <th>trip_length_mean</th>\n",
       "      <th>trip_length_count</th>\n",
       "    </tr>\n",
       "  </thead>\n",
       "  <tbody>\n",
       "    <tr>\n",
       "      <th>0</th>\n",
       "      <td>1</td>\n",
       "      <td>上海体育馆</td>\n",
       "      <td>1</td>\n",
       "      <td>上海体育馆</td>\n",
       "      <td>11.40</td>\n",
       "      <td>5</td>\n",
       "    </tr>\n",
       "    <tr>\n",
       "      <th>1</th>\n",
       "      <td>1</td>\n",
       "      <td>上海体育馆</td>\n",
       "      <td>1</td>\n",
       "      <td>上海南站</td>\n",
       "      <td>8.67</td>\n",
       "      <td>6</td>\n",
       "    </tr>\n",
       "    <tr>\n",
       "      <th>2</th>\n",
       "      <td>1</td>\n",
       "      <td>上海体育馆</td>\n",
       "      <td>1</td>\n",
       "      <td>上海火车站</td>\n",
       "      <td>24.00</td>\n",
       "      <td>5</td>\n",
       "    </tr>\n",
       "    <tr>\n",
       "      <th>3</th>\n",
       "      <td>1</td>\n",
       "      <td>上海体育馆</td>\n",
       "      <td>1</td>\n",
       "      <td>上海马戏城</td>\n",
       "      <td>33.00</td>\n",
       "      <td>3</td>\n",
       "    </tr>\n",
       "    <tr>\n",
       "      <th>4</th>\n",
       "      <td>1</td>\n",
       "      <td>上海体育馆</td>\n",
       "      <td>1</td>\n",
       "      <td>中山北路</td>\n",
       "      <td>27.50</td>\n",
       "      <td>4</td>\n",
       "    </tr>\n",
       "  </tbody>\n",
       "</table>\n",
       "</div>"
      ],
      "text/plain": [
       "  line_x stop_x line_y stop_y  trip_length_mean  trip_length_count\n",
       "0      1  上海体育馆      1  上海体育馆             11.40                  5\n",
       "1      1  上海体育馆      1   上海南站              8.67                  6\n",
       "2      1  上海体育馆      1  上海火车站             24.00                  5\n",
       "3      1  上海体育馆      1  上海马戏城             33.00                  3\n",
       "4      1  上海体育馆      1   中山北路             27.50                  4"
      ]
     },
     "metadata": {},
     "output_type": "display_data"
    }
   ],
   "source": [
    "# Create table of mean commute time for each route.\n",
    "route_mean = route.groupby(['line_x','stop_x','line_y','stop_y']).agg(\n",
    "    {'trip_length':[('mean', np.mean), ('count', np.size)]})\n",
    "route_mean.columns = [a + '_' + b for a,b in route_mean.columns.values]\n",
    "\n",
    "printmd('**Preview of Table for Mean Commute Time on each Route:**')\n",
    "route_mean = route_mean.reset_index()\n",
    "display(route_mean.head())"
   ]
  },
  {
   "cell_type": "code",
   "execution_count": 38,
   "metadata": {},
   "outputs": [
    {
     "name": "stdout",
     "output_type": "stream",
     "text": [
      "Descriptive Statistics of Routes:\n"
     ]
    },
    {
     "data": {
      "text/html": [
       "<div>\n",
       "<style scoped>\n",
       "    .dataframe tbody tr th:only-of-type {\n",
       "        vertical-align: middle;\n",
       "    }\n",
       "\n",
       "    .dataframe tbody tr th {\n",
       "        vertical-align: top;\n",
       "    }\n",
       "\n",
       "    .dataframe thead th {\n",
       "        text-align: right;\n",
       "    }\n",
       "</style>\n",
       "<table border=\"1\" class=\"dataframe\">\n",
       "  <thead>\n",
       "    <tr style=\"text-align: right;\">\n",
       "      <th></th>\n",
       "      <th>trip_length_mean</th>\n",
       "      <th>trip_length_count</th>\n",
       "    </tr>\n",
       "  </thead>\n",
       "  <tbody>\n",
       "    <tr>\n",
       "      <th>count</th>\n",
       "      <td>52581.00</td>\n",
       "      <td>52581.00</td>\n",
       "    </tr>\n",
       "    <tr>\n",
       "      <th>mean</th>\n",
       "      <td>50.86</td>\n",
       "      <td>3.84</td>\n",
       "    </tr>\n",
       "    <tr>\n",
       "      <th>std</th>\n",
       "      <td>46.15</td>\n",
       "      <td>6.24</td>\n",
       "    </tr>\n",
       "    <tr>\n",
       "      <th>min</th>\n",
       "      <td>0.00</td>\n",
       "      <td>1.00</td>\n",
       "    </tr>\n",
       "    <tr>\n",
       "      <th>25%</th>\n",
       "      <td>30.00</td>\n",
       "      <td>1.00</td>\n",
       "    </tr>\n",
       "    <tr>\n",
       "      <th>50%</th>\n",
       "      <td>43.50</td>\n",
       "      <td>2.00</td>\n",
       "    </tr>\n",
       "    <tr>\n",
       "      <th>75%</th>\n",
       "      <td>61.00</td>\n",
       "      <td>4.00</td>\n",
       "    </tr>\n",
       "    <tr>\n",
       "      <th>max</th>\n",
       "      <td>977.00</td>\n",
       "      <td>180.00</td>\n",
       "    </tr>\n",
       "  </tbody>\n",
       "</table>\n",
       "</div>"
      ],
      "text/plain": [
       "       trip_length_mean  trip_length_count\n",
       "count          52581.00           52581.00\n",
       "mean              50.86               3.84\n",
       "std               46.15               6.24\n",
       "min                0.00               1.00\n",
       "25%               30.00               1.00\n",
       "50%               43.50               2.00\n",
       "75%               61.00               4.00\n",
       "max              977.00             180.00"
      ]
     },
     "metadata": {},
     "output_type": "display_data"
    }
   ],
   "source": [
    "print('Descriptive Statistics of Routes:')\n",
    "display(route_mean.describe())"
   ]
  },
  {
   "cell_type": "markdown",
   "metadata": {},
   "source": [
    "## Final Summary on Application Scenario out of this Analysis\n",
    "\n",
    "Now, let's sum up of what we've known from this data exploration."
   ]
  },
  {
   "cell_type": "markdown",
   "metadata": {},
   "source": [
    "<mark>**1. In Terms of Ads Deployemnt**</mark><br/>\n",
    "\n",
    "In the way of assisting business expansion, my idea is to come up with suggest list of stations to launch ads. Indeed, there're a few stations worth to be considered with its high share of long distance passengers and the traffic volume. \n",
    "\n",
    "<mark>**2. In Terms of Feature Add-On for Website**</mark><br/>\n",
    "\n",
    "What's more better would be in the case, where assuming the passengers saw the ads at the station, and then decide to browse our website. We can not only provide the rent of each flat to them, but also the expected travel time from the your chosen flat to the office. These information all come from the table of mean commute time for each route.\n",
    "\n",
    "<mark>**3. Reminder of the Suggested Timing to Depart from Home**</mark><br/>\n",
    "\n",
    "If there is a huge impact on when you depart from home for work. Then our website can inform the user that the expected time required to commute. So that we can suggest the best timing to leave for the office."
   ]
  },
  {
   "cell_type": "markdown",
   "metadata": {},
   "source": [
    "# Empower with More Data\n",
    "\n",
    "<mark>**User Scenario**</mark><br/>\n",
    "\n",
    "All the discussion so far is focused on how to identify best marketing channel, how to enhance the experience of flat seekers. But the flat leasing company can also provide better service for the **flat posters (landlords)**. One example is to provide proposed rent to new landlords. With proper posted rent, the landlord can lease out the flat more quickly and this in turn, can attract more landlords to post their listing on the website. This will attract more flat seekers again. All these form up a reinforced cycle.\n",
    "\n",
    "<mark>**Suggested Data**</mark><br/>\n",
    "\n",
    "In order to accomplish the goal, useful data are in need including, **the posted rent, flat location, size, and equipped amenities etc**. With all these data at hand, we can train a prediction model for any flat. Even on newly developed region, we can assess the flat's price and rent even under the limit of few samples. Following section will sketch out the specification of the predictive model in detail."
   ]
  },
  {
   "cell_type": "markdown",
   "metadata": {},
   "source": [
    "# Proposed Model\n",
    "\n",
    "In the case of predicting rent (numerical variable), there are a lot of models to be chosen from. Common ones include **Regression, Lasso Regression, Decision Tree Regression, and more advanced Neural Network**. Here I will just use the general form of regression to display the idea of how we can build up the predictive model for rent.\n",
    "\n",
    "$$y = \\alpha x_1 + \\beta x_2 + \\gamma x_3 \\dots$$\n",
    "\n",
    "<mark>**Target Variable:**</mark>\n",
    "- **`proposed rent`** \n",
    "\n",
    "<mark>**Features:**</mark>\n",
    "\n",
    "<span style='line-height:2.0'>\n",
    "\n",
    "- **`Flat Attributes`**\n",
    "    - Can be accessed from website's flat posting data.\n",
    "    - Such as 1) flat size, 2) amenities, 3) number of rooms 4) age of flat.\n",
    "- **`Neighborhood`**\n",
    "    - Can be measured from flat's location on map.\n",
    "    - Such as 1) distance to supermarket, 2) distance to public transportation. \n",
    "- **`Number of Available Flats Nearby`**\n",
    "    - Can be accessed from website's flat posting data.\n",
    "    - Such as 1) number of flat posting in the same neighborhood.\n",
    "- **`Commute Time`**\n",
    "    - Can be derived from this traffic dataset.\n",
    "    - Such as 1) mean commute time to major business district.\n",
    "- **`Population of Neighborhood`**\n",
    "    - Can be estimated from this traffic dataset.\n",
    "    - Such as 1) number of residents, either with or without permanent address in that region.\n",
    "\n",
    "</span>"
   ]
  },
  {
   "cell_type": "markdown",
   "metadata": {},
   "source": [
    "# Other Application from this Dataset\n",
    "\n",
    "The dataset we have at hand can actually be applied to other areas as well. Here I will just name two other potential applications leveraging this dataset. One, **metro traffic control** and, the other is **passenger's profiling**.\n",
    "\n",
    "<mark>**Metro Traffic Control**</mark><br/>\n",
    "\n",
    "Apart from the absolute traffic volume, the **change rate** of traffic also challenges the ability of metro company to cope with the sudden spike on demand. As we know the **capacity** of each station should be designed to the **peak demand** instead of **mean traffic volume**. Hence, identifying which station has the highest change rate of traffic demand will enable the authority to take proper measures on re-designing the traffic route within these stations and thus, avoiding the case of overcrowds and human stampedes.\n",
    "\n",
    "<mark>**Passenger's Profiling**</mark><br/>\n",
    "\n",
    "For long, we've always wanted to build up comprehensive consumer's profiling so that company can provide more suitable service to the end users. In previous attempt, many companies have already build up their consumer profiling based on **their demography, their purchasing behavior, their financial conditions** etc, but few of them ever included the information of **consumer's commute behavior**, or travel path. By covering the travel path of each consumer, we can predict their next location, and push relevant information to them in advance. This is something very technical challenging but possess huge business opportunities."
   ]
  },
  {
   "cell_type": "markdown",
   "metadata": {},
   "source": [
    "# Reference\n",
    "\n",
    "- [tqdm_notebook](https://github.com/tqdm/tqdm/issues/375)\n",
    "- [tqdm not showing bar](https://stackoverflow.com/questions/48935907/tqdm-not-showing-bar)\n",
    "- [解决macOS下matplotlib无法显示中文的问题](https://www.jianshu.com/p/8ed59ac76c06)"
   ]
  },
  {
   "cell_type": "code",
   "execution_count": null,
   "metadata": {},
   "outputs": [],
   "source": []
  }
 ],
 "metadata": {
  "kernelspec": {
   "display_name": "Python 3",
   "language": "python",
   "name": "python3"
  },
  "language_info": {
   "codemirror_mode": {
    "name": "ipython",
    "version": 3
   },
   "file_extension": ".py",
   "mimetype": "text/x-python",
   "name": "python",
   "nbconvert_exporter": "python",
   "pygments_lexer": "ipython3",
   "version": "3.7.1"
  },
  "toc": {
   "base_numbering": 1,
   "nav_menu": {},
   "number_sections": true,
   "sideBar": true,
   "skip_h1_title": false,
   "title_cell": "Table of Contents",
   "title_sidebar": "Contents",
   "toc_cell": false,
   "toc_position": {
    "height": "calc(100% - 180px)",
    "left": "10px",
    "top": "150px",
    "width": "258px"
   },
   "toc_section_display": true,
   "toc_window_display": false
  }
 },
 "nbformat": 4,
 "nbformat_minor": 2
}
