{
 "cells": [
  {
   "cell_type": "markdown",
   "metadata": {},
   "source": [
    "# 使用陳宏軒老師的 RDF 版本的 SVD"
   ]
  },
  {
   "cell_type": "code",
   "execution_count": 45,
   "metadata": {},
   "outputs": [],
   "source": [
    "import rdf\n",
    "import numpy as np\n",
    "import pandas as pd\n",
    "import scipy\n",
    "import scipy.sparse as sparse"
   ]
  },
  {
   "cell_type": "code",
   "execution_count": 46,
   "metadata": {},
   "outputs": [],
   "source": [
    "train = scipy.sparse.load_npz(\"../Playground-dataset/06-Recsys-Dataset/train.npz\")\n",
    "test = scipy.sparse.load_npz(\"../Playground-dataset/06-Recsys-Dataset/test.npz\")\n",
    "\n",
    "train_long = pd.read_csv(\"../Playground-dataset/06-Recsys-Dataset/train_long.csv\")\n",
    "test_long = pd.read_csv(\"../Playground-dataset/06-Recsys-Dataset/test_long.csv\")\n",
    "user_index = np.load(\"../Playground-dataset/06-Recsys-Dataset/user_index.npy\")"
   ]
  },
  {
   "cell_type": "code",
   "execution_count": 48,
   "metadata": {},
   "outputs": [
    {
     "data": {
      "text/html": [
       "<div>\n",
       "<style scoped>\n",
       "    .dataframe tbody tr th:only-of-type {\n",
       "        vertical-align: middle;\n",
       "    }\n",
       "\n",
       "    .dataframe tbody tr th {\n",
       "        vertical-align: top;\n",
       "    }\n",
       "\n",
       "    .dataframe thead th {\n",
       "        text-align: right;\n",
       "    }\n",
       "</style>\n",
       "<table border=\"1\" class=\"dataframe\">\n",
       "  <thead>\n",
       "    <tr style=\"text-align: right;\">\n",
       "      <th></th>\n",
       "      <th>user_id</th>\n",
       "      <th>item_id</th>\n",
       "      <th>rating</th>\n",
       "    </tr>\n",
       "  </thead>\n",
       "  <tbody>\n",
       "    <tr>\n",
       "      <th>0</th>\n",
       "      <td>0</td>\n",
       "      <td>2</td>\n",
       "      <td>0.6</td>\n",
       "    </tr>\n",
       "    <tr>\n",
       "      <th>1</th>\n",
       "      <td>0</td>\n",
       "      <td>3</td>\n",
       "      <td>0.2</td>\n",
       "    </tr>\n",
       "    <tr>\n",
       "      <th>2</th>\n",
       "      <td>0</td>\n",
       "      <td>4</td>\n",
       "      <td>0.4</td>\n",
       "    </tr>\n",
       "    <tr>\n",
       "      <th>3</th>\n",
       "      <td>0</td>\n",
       "      <td>5</td>\n",
       "      <td>0.2</td>\n",
       "    </tr>\n",
       "    <tr>\n",
       "      <th>4</th>\n",
       "      <td>0</td>\n",
       "      <td>6</td>\n",
       "      <td>0.4</td>\n",
       "    </tr>\n",
       "  </tbody>\n",
       "</table>\n",
       "</div>"
      ],
      "text/plain": [
       "   user_id  item_id  rating\n",
       "0        0        2     0.6\n",
       "1        0        3     0.2\n",
       "2        0        4     0.4\n",
       "3        0        5     0.2\n",
       "4        0        6     0.4"
      ]
     },
     "execution_count": 48,
     "metadata": {},
     "output_type": "execute_result"
    }
   ],
   "source": [
    "train_long.head()"
   ]
  },
  {
   "cell_type": "code",
   "execution_count": 49,
   "metadata": {},
   "outputs": [
    {
     "data": {
      "text/plain": [
       "array([10158,  7232,  6580, ...,  7793,  2810,  1919])"
      ]
     },
     "execution_count": 49,
     "metadata": {},
     "output_type": "execute_result"
    }
   ],
   "source": [
    "user_index"
   ]
  },
  {
   "cell_type": "markdown",
   "metadata": {},
   "source": [
    "### 將資料轉換成 rdf 套件可吃的格式"
   ]
  },
  {
   "cell_type": "markdown",
   "metadata": {},
   "source": [
    "可吃的格式：<br/>\n",
    "[(customer_id, product_id, rating), (customer_id, product_id, rating), ...]"
   ]
  },
  {
   "cell_type": "code",
   "execution_count": 50,
   "metadata": {},
   "outputs": [],
   "source": [
    "ll = train_long.apply(lambda x: (x[0], x[1], x[2]), axis = 1)\n",
    "X = list(ll)"
   ]
  },
  {
   "cell_type": "code",
   "execution_count": 51,
   "metadata": {},
   "outputs": [
    {
     "data": {
      "text/plain": [
       "[(0.0, 2.0, 0.6), (0.0, 3.0, 0.2), (0.0, 4.0, 0.4)]"
      ]
     },
     "execution_count": 51,
     "metadata": {},
     "output_type": "execute_result"
    }
   ],
   "source": [
    "X[:3]"
   ]
  },
  {
   "cell_type": "code",
   "execution_count": 52,
   "metadata": {},
   "outputs": [],
   "source": [
    "n_users, n_items = rdf.utils.get_num_users_items(X)"
   ]
  },
  {
   "cell_type": "code",
   "execution_count": 53,
   "metadata": {},
   "outputs": [
    {
     "data": {
      "text/plain": [
       "12921"
      ]
     },
     "execution_count": 53,
     "metadata": {},
     "output_type": "execute_result"
    }
   ],
   "source": [
    "n_users"
   ]
  },
  {
   "cell_type": "code",
   "execution_count": 54,
   "metadata": {
    "scrolled": true
   },
   "outputs": [
    {
     "data": {
      "text/plain": [
       "300"
      ]
     },
     "execution_count": 54,
     "metadata": {},
     "output_type": "execute_result"
    }
   ],
   "source": [
    "n_items"
   ]
  },
  {
   "cell_type": "code",
   "execution_count": 55,
   "metadata": {},
   "outputs": [],
   "source": [
    "# 測試資料集，也進行相同轉換\n",
    "ll = test_long.apply(lambda x: (x[0], x[1], x[2]), axis = 1)\n",
    "X_test = list(ll)"
   ]
  },
  {
   "cell_type": "markdown",
   "metadata": {},
   "source": [
    "### 初始化模型"
   ]
  },
  {
   "cell_type": "code",
   "execution_count": 56,
   "metadata": {},
   "outputs": [],
   "source": [
    "model = rdf.rdfsvd.RDFSVD(n_users=n_users,\n",
    "                          n_items=n_items,\n",
    "                          lr=.005,\n",
    "                          lmbda_p=500,\n",
    "                          lmbda_q=500,\n",
    "                          lmbda_u=.01,\n",
    "                          lmbda_i=.01,\n",
    "                          method=\"linear\")"
   ]
  },
  {
   "cell_type": "markdown",
   "metadata": {},
   "source": [
    "### 進行訓練"
   ]
  },
  {
   "cell_type": "code",
   "execution_count": 57,
   "metadata": {},
   "outputs": [
    {
     "name": "stdout",
     "output_type": "stream",
     "text": [
      "After 1 epochs, training rmse=0.285906\n",
      "After 2 epochs, training rmse=0.277926\n",
      "After 3 epochs, training rmse=0.272663\n",
      "After 4 epochs, training rmse=0.268469\n",
      "After 5 epochs, training rmse=0.265034\n",
      "After 6 epochs, training rmse=0.262175\n",
      "After 7 epochs, training rmse=0.259768\n",
      "After 8 epochs, training rmse=0.257724\n",
      "After 9 epochs, training rmse=0.255975\n",
      "After 10 epochs, training rmse=0.254468\n",
      "After 11 epochs, training rmse=0.253164\n",
      "After 12 epochs, training rmse=0.252029\n",
      "After 13 epochs, training rmse=0.251039\n",
      "After 14 epochs, training rmse=0.250172\n",
      "After 15 epochs, training rmse=0.249410\n",
      "After 16 epochs, training rmse=0.248740\n",
      "After 17 epochs, training rmse=0.248148\n",
      "After 18 epochs, training rmse=0.247626\n",
      "After 19 epochs, training rmse=0.247163\n",
      "After 20 epochs, training rmse=0.246754\n",
      "After 21 epochs, training rmse=0.246390\n",
      "After 22 epochs, training rmse=0.246067\n",
      "After 23 epochs, training rmse=0.245779\n",
      "After 24 epochs, training rmse=0.245523\n",
      "After 25 epochs, training rmse=0.245295\n",
      "After 26 epochs, training rmse=0.245091\n",
      "After 27 epochs, training rmse=0.244909\n",
      "After 28 epochs, training rmse=0.244747\n",
      "After 29 epochs, training rmse=0.244601\n",
      "After 30 epochs, training rmse=0.244471\n",
      "After 31 epochs, training rmse=0.244355\n",
      "After 32 epochs, training rmse=0.244251\n",
      "After 33 epochs, training rmse=0.244157\n",
      "After 34 epochs, training rmse=0.244073\n",
      "After 35 epochs, training rmse=0.243998\n",
      "After 36 epochs, training rmse=0.243931\n",
      "After 37 epochs, training rmse=0.243870\n",
      "After 38 epochs, training rmse=0.243816\n",
      "After 39 epochs, training rmse=0.243767\n",
      "After 40 epochs, training rmse=0.243723\n",
      "After 41 epochs, training rmse=0.243684\n",
      "After 42 epochs, training rmse=0.243648\n",
      "After 43 epochs, training rmse=0.243617\n",
      "After 44 epochs, training rmse=0.243588\n",
      "After 45 epochs, training rmse=0.243562\n",
      "After 46 epochs, training rmse=0.243539\n",
      "After 47 epochs, training rmse=0.243518\n",
      "After 48 epochs, training rmse=0.243500\n",
      "After 49 epochs, training rmse=0.243483\n",
      "After 50 epochs, training rmse=0.243468\n"
     ]
    }
   ],
   "source": [
    "model.train(X)"
   ]
  },
  {
   "cell_type": "markdown",
   "metadata": {},
   "source": [
    "### 進行預測與評估"
   ]
  },
  {
   "cell_type": "markdown",
   "metadata": {},
   "source": [
    "#### 使用 RMSE 來評估"
   ]
  },
  {
   "cell_type": "code",
   "execution_count": 58,
   "metadata": {},
   "outputs": [],
   "source": [
    "X_pred = model.predict(X_test)"
   ]
  },
  {
   "cell_type": "code",
   "execution_count": 59,
   "metadata": {
    "scrolled": false
   },
   "outputs": [
    {
     "data": {
      "text/plain": [
       "[(0.0, 0.0, 0.6122254462282288),\n",
       " (0.0, 1.0, 0.5245011943953931),\n",
       " (0.0, 11.0, 0.3847501054503057),\n",
       " (0.0, 13.0, 0.460538104959841),\n",
       " (1.0, 26.0, 0.35958155752512033),\n",
       " (1.0, 30.0, 0.40467867057363544),\n",
       " (1.0, 33.0, 0.44459735310403126),\n",
       " (1.0, 34.0, 0.45005007965108024),\n",
       " (5.0, 15.0, 0.6862577631943483),\n",
       " (5.0, 46.0, 0.4951212746541251)]"
      ]
     },
     "execution_count": 59,
     "metadata": {},
     "output_type": "execute_result"
    }
   ],
   "source": [
    "X_pred[:10]"
   ]
  },
  {
   "cell_type": "code",
   "execution_count": 60,
   "metadata": {
    "scrolled": true
   },
   "outputs": [
    {
     "data": {
      "text/plain": [
       "[(0.0, 0.0, 0.4),\n",
       " (0.0, 1.0, 0.2),\n",
       " (0.0, 11.0, 0.2),\n",
       " (0.0, 13.0, 0.2),\n",
       " (1.0, 26.0, 0.16666666666666666),\n",
       " (1.0, 30.0, 0.16666666666666666),\n",
       " (1.0, 33.0, 0.16666666666666666),\n",
       " (1.0, 34.0, 0.16666666666666666),\n",
       " (5.0, 15.0, 0.6666666666666666),\n",
       " (5.0, 46.0, 0.3333333333333333)]"
      ]
     },
     "execution_count": 60,
     "metadata": {},
     "output_type": "execute_result"
    }
   ],
   "source": [
    "X_test[:10]"
   ]
  },
  {
   "cell_type": "code",
   "execution_count": 61,
   "metadata": {},
   "outputs": [
    {
     "data": {
      "text/plain": [
       "0.24568299993490805"
      ]
     },
     "execution_count": 61,
     "metadata": {},
     "output_type": "execute_result"
    }
   ],
   "source": [
    "rdf.utils.compute_rmse(X_test, X_pred)"
   ]
  },
  {
   "cell_type": "markdown",
   "metadata": {},
   "source": [
    "#### 使用 Top@K 來評估"
   ]
  },
  {
   "cell_type": "code",
   "execution_count": 62,
   "metadata": {},
   "outputs": [],
   "source": [
    "val_user_ids, val_movie_ids, predictions = zip(*X_pred)\n",
    "\n",
    "predict_mat = sparse.csr_matrix(\n",
    "    (predictions, (val_user_ids, val_movie_ids)), shape=(n_users, n_items)\n",
    ")"
   ]
  },
  {
   "cell_type": "code",
   "execution_count": 63,
   "metadata": {},
   "outputs": [
    {
     "data": {
      "text/plain": [
       "<12921x300 sparse matrix of type '<class 'numpy.float64'>'\n",
       "\twith 20672 stored elements in Compressed Sparse Row format>"
      ]
     },
     "execution_count": 63,
     "metadata": {},
     "output_type": "execute_result"
    }
   ],
   "source": [
    "predict_mat"
   ]
  },
  {
   "cell_type": "code",
   "execution_count": 64,
   "metadata": {},
   "outputs": [],
   "source": [
    "test_sub = test[user_index]\n",
    "predict_mat_sub = predict_mat[user_index]"
   ]
  },
  {
   "cell_type": "code",
   "execution_count": 65,
   "metadata": {},
   "outputs": [
    {
     "data": {
      "text/plain": [
       "1.0"
      ]
     },
     "execution_count": 65,
     "metadata": {},
     "output_type": "execute_result"
    }
   ],
   "source": [
    "top_k = 4\n",
    "\n",
    "predict_top_k = []\n",
    "for i in range(len(user_index)):\n",
    "    # 使用 csr 的 indices 和 data，都只會回傳 non-zero 的 entry 資料\n",
    "    predict_r = predict_mat_sub[i].indices[predict_mat_sub[i].data.argsort()[::-1]][:top_k]\n",
    "    true_r = test_sub[i].indices[test_sub[i].data.argsort()[::-1][:top_k]]\n",
    "    pre = len(set(predict_r) & set(true_r))/ float(top_k)\n",
    "    predict_top_k.append(pre)\n",
    "\n",
    "np.mean(predict_top_k)"
   ]
  },
  {
   "cell_type": "code",
   "execution_count": null,
   "metadata": {},
   "outputs": [],
   "source": []
  }
 ],
 "metadata": {
  "kernelspec": {
   "display_name": "house-price",
   "language": "python",
   "name": "house-price"
  },
  "language_info": {
   "codemirror_mode": {
    "name": "ipython",
    "version": 3
   },
   "file_extension": ".py",
   "mimetype": "text/x-python",
   "name": "python",
   "nbconvert_exporter": "python",
   "pygments_lexer": "ipython3",
   "version": "3.7.4"
  }
 },
 "nbformat": 4,
 "nbformat_minor": 2
}
