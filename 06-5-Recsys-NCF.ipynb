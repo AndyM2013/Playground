{
 "cells": [
  {
   "cell_type": "code",
   "execution_count": 1,
   "metadata": {},
   "outputs": [],
   "source": [
    "%load_ext autoreload\n",
    "%autoreload 2"
   ]
  },
  {
   "cell_type": "code",
   "execution_count": 2,
   "metadata": {},
   "outputs": [],
   "source": [
    "import numpy as np\n",
    "import pandas as pd\n",
    "import scipy\n",
    "import scipy.sparse as sparse"
   ]
  },
  {
   "cell_type": "code",
   "execution_count": 3,
   "metadata": {},
   "outputs": [],
   "source": [
    "train = scipy.sparse.load_npz(\"../Playground-dataset/06-Recsys-Dataset/train.npz\")\n",
    "test = scipy.sparse.load_npz(\"../Playground-dataset/06-Recsys-Dataset/test.npz\")\n",
    "\n",
    "train_long = pd.read_csv(\"../Playground-dataset/06-Recsys-Dataset/train_long.csv\")\n",
    "test_long = pd.read_csv(\"../Playground-dataset/06-Recsys-Dataset/test_long.csv\")\n",
    "user_index = np.load(\"../Playground-dataset/06-Recsys-Dataset/user_index.npy\")"
   ]
  },
  {
   "cell_type": "markdown",
   "metadata": {},
   "source": [
    "### 建置 NCF 模型"
   ]
  },
  {
   "cell_type": "code",
   "execution_count": 4,
   "metadata": {},
   "outputs": [],
   "source": [
    "from tensorflow.keras.models import Model\n",
    "from tensorflow.keras.layers import Input, Embedding, Flatten, concatenate, Multiply, Dense, Dropout, Add\n",
    "from tensorflow.keras.optimizers import Adam"
   ]
  },
  {
   "cell_type": "code",
   "execution_count": 5,
   "metadata": {},
   "outputs": [
    {
     "name": "stdout",
     "output_type": "stream",
     "text": [
      "Number of users: 12921\n",
      "Number of items: 300\n"
     ]
    }
   ],
   "source": [
    "# 經過篩選後的 n_user, n_items\n",
    "n_users = train.shape[0]\n",
    "n_items = train.shape[1]\n",
    "\n",
    "print('Number of users: {}'.format(n_users))\n",
    "print('Number of items: {}'.format(n_items))"
   ]
  },
  {
   "cell_type": "code",
   "execution_count": 6,
   "metadata": {},
   "outputs": [
    {
     "name": "stdout",
     "output_type": "stream",
     "text": [
      "Model: \"model\"\n",
      "__________________________________________________________________________________________________\n",
      "Layer (type)                    Output Shape         Param #     Connected to                     \n",
      "==================================================================================================\n",
      "input_1 (InputLayer)            [(None, 1)]          0                                            \n",
      "__________________________________________________________________________________________________\n",
      "input_2 (InputLayer)            [(None, 1)]          0                                            \n",
      "__________________________________________________________________________________________________\n",
      "embedding (Embedding)           (None, 1, 64)        826944      input_1[0][0]                    \n",
      "__________________________________________________________________________________________________\n",
      "embedding_1 (Embedding)         (None, 1, 64)        19200       input_2[0][0]                    \n",
      "__________________________________________________________________________________________________\n",
      "flatten (Flatten)               (None, 64)           0           embedding[0][0]                  \n",
      "__________________________________________________________________________________________________\n",
      "flatten_1 (Flatten)             (None, 64)           0           embedding_1[0][0]                \n",
      "__________________________________________________________________________________________________\n",
      "concatenate (Concatenate)       (None, 128)          0           flatten[0][0]                    \n",
      "                                                                 flatten_1[0][0]                  \n",
      "__________________________________________________________________________________________________\n",
      "dense (Dense)                   (None, 32)           4128        concatenate[0][0]                \n",
      "__________________________________________________________________________________________________\n",
      "dense_1 (Dense)                 (None, 16)           528         dense[0][0]                      \n",
      "__________________________________________________________________________________________________\n",
      "multiply (Multiply)             (None, 64)           0           flatten[0][0]                    \n",
      "                                                                 flatten_1[0][0]                  \n",
      "__________________________________________________________________________________________________\n",
      "dense_2 (Dense)                 (None, 8)            136         dense_1[0][0]                    \n",
      "__________________________________________________________________________________________________\n",
      "concatenate_1 (Concatenate)     (None, 72)           0           multiply[0][0]                   \n",
      "                                                                 dense_2[0][0]                    \n",
      "__________________________________________________________________________________________________\n",
      "dense_3 (Dense)                 (None, 1)            73          concatenate_1[0][0]              \n",
      "==================================================================================================\n",
      "Total params: 851,009\n",
      "Trainable params: 851,009\n",
      "Non-trainable params: 0\n",
      "__________________________________________________________________________________________________\n"
     ]
    }
   ],
   "source": [
    "def get_ncf_model():\n",
    "    user_inp = Input((1,))\n",
    "    user_hidden = Embedding(input_dim=n_users, output_dim=64)(user_inp)\n",
    "    user_hidden = Flatten()(user_hidden)\n",
    "    \n",
    "    item_inp = Input((1,))\n",
    "    item_hidden = Embedding(input_dim=n_items, output_dim=64)(item_inp)\n",
    "    item_hidden = Flatten()(item_hidden)\n",
    "    \n",
    "    # element-wise multiplication\n",
    "    mf_output = Multiply()([user_hidden, item_hidden])\n",
    "    \n",
    "    hidden = concatenate([user_hidden, item_hidden])\n",
    "    hidden = Dense(32, activation='relu')(hidden)\n",
    "    # hidden = Dropout(0.2)(hidden)\n",
    "    hidden = Dense(16, activation='relu')(hidden)\n",
    "    mlp_output = Dense(8, activation='relu')(hidden)    \n",
    "\n",
    "    \n",
    "    output = concatenate([mf_output, mlp_output])\n",
    "    output = Dense(1, activation='sigmoid')(output)\n",
    "    \n",
    "    model = Model(inputs=[user_inp, item_inp], outputs=output)\n",
    "    model.compile(loss='mse', optimizer='adam')\n",
    "    return model\n",
    "\n",
    "model = get_ncf_model()\n",
    "model.summary()"
   ]
  },
  {
   "cell_type": "code",
   "execution_count": 7,
   "metadata": {},
   "outputs": [],
   "source": [
    "from tensorflow.keras.callbacks import EarlyStopping\n",
    "\n",
    "# early stopping wait for 3 epoch\n",
    "callbacks = [EarlyStopping(patience=3, restore_best_weights=True)]"
   ]
  },
  {
   "cell_type": "code",
   "execution_count": 8,
   "metadata": {},
   "outputs": [],
   "source": [
    "train_user_ids = train_long[\"user_id\"]\n",
    "train_movie_ids = train_long[\"item_id\"]\n",
    "train_ratings = train_long[\"rating\"]"
   ]
  },
  {
   "cell_type": "code",
   "execution_count": 9,
   "metadata": {},
   "outputs": [],
   "source": [
    "val_user_ids = test_long[\"user_id\"]\n",
    "val_movie_ids = test_long[\"item_id\"]\n",
    "val_ratings = test_long[\"rating\"]"
   ]
  },
  {
   "cell_type": "code",
   "execution_count": 10,
   "metadata": {},
   "outputs": [
    {
     "name": "stdout",
     "output_type": "stream",
     "text": [
      "Train on 91572 samples, validate on 20672 samples\n",
      "Epoch 1/50\n",
      "91572/91572 [==============================] - 6s 71us/sample - loss: 0.0707 - val_loss: 0.0553\n",
      "Epoch 2/50\n",
      "91572/91572 [==============================] - 5s 57us/sample - loss: 0.0488 - val_loss: 0.0537\n",
      "Epoch 3/50\n",
      "91572/91572 [==============================] - 5s 59us/sample - loss: 0.0423 - val_loss: 0.0557\n",
      "Epoch 4/50\n",
      "91572/91572 [==============================] - 6s 64us/sample - loss: 0.0348 - val_loss: 0.0596\n",
      "Epoch 5/50\n",
      "91572/91572 [==============================] - 6s 65us/sample - loss: 0.0255 - val_loss: 0.0645\n"
     ]
    },
    {
     "data": {
      "text/plain": [
       "<tensorflow.python.keras.callbacks.History at 0x138689490>"
      ]
     },
     "execution_count": 10,
     "metadata": {},
     "output_type": "execute_result"
    }
   ],
   "source": [
    "# train for 50 epochs\n",
    "model.fit([train_user_ids, train_movie_ids],\n",
    "          train_ratings,\n",
    "          validation_data=([val_user_ids, val_movie_ids], val_ratings),\n",
    "          epochs=50,\n",
    "          batch_size=128,\n",
    "          callbacks=callbacks)"
   ]
  },
  {
   "cell_type": "markdown",
   "metadata": {},
   "source": [
    "### 進行預測與評估"
   ]
  },
  {
   "cell_type": "markdown",
   "metadata": {},
   "source": [
    "#### RMSE"
   ]
  },
  {
   "cell_type": "code",
   "execution_count": 11,
   "metadata": {},
   "outputs": [],
   "source": [
    "def compute_rmse(X_test, X_pred):\n",
    "    # Ref: https://github.com/ncu-dart/rdf/blob/master/rdf/utils.py\n",
    "    sse = 0.\n",
    "    for i in range(len(X_test)):\n",
    "        sse += (X_test[i] - X_pred[i]) ** 2\n",
    "    return (sse / len(X_test)) ** .5"
   ]
  },
  {
   "cell_type": "code",
   "execution_count": 12,
   "metadata": {},
   "outputs": [],
   "source": [
    "# prediction & evalutation\n",
    "predictions = model.predict([val_user_ids, val_movie_ids])\n",
    "predictions = predictions.reshape(-1)"
   ]
  },
  {
   "cell_type": "code",
   "execution_count": 13,
   "metadata": {},
   "outputs": [
    {
     "data": {
      "text/plain": [
       "array([0.56957996, 0.42377928, 0.34324116, 0.41935128, 0.31019536],\n",
       "      dtype=float32)"
      ]
     },
     "execution_count": 13,
     "metadata": {},
     "output_type": "execute_result"
    }
   ],
   "source": [
    "predictions[:5]"
   ]
  },
  {
   "cell_type": "code",
   "execution_count": 14,
   "metadata": {},
   "outputs": [
    {
     "data": {
      "text/plain": [
       "0        0.400000\n",
       "1        0.200000\n",
       "2        0.200000\n",
       "3        0.200000\n",
       "4        0.166667\n",
       "           ...   \n",
       "20667    0.333333\n",
       "20668    1.000000\n",
       "20669    1.000000\n",
       "20670    1.000000\n",
       "20671    1.000000\n",
       "Name: rating, Length: 20672, dtype: float64"
      ]
     },
     "execution_count": 14,
     "metadata": {},
     "output_type": "execute_result"
    }
   ],
   "source": [
    "test_long[\"rating\"]"
   ]
  },
  {
   "cell_type": "code",
   "execution_count": 15,
   "metadata": {},
   "outputs": [
    {
     "data": {
      "text/plain": [
       "0.23181205565367774"
      ]
     },
     "execution_count": 15,
     "metadata": {},
     "output_type": "execute_result"
    }
   ],
   "source": [
    "compute_rmse(test_long[\"rating\"], predictions)"
   ]
  },
  {
   "cell_type": "markdown",
   "metadata": {},
   "source": [
    "#### 使用 Top@K 來評估"
   ]
  },
  {
   "cell_type": "code",
   "execution_count": 16,
   "metadata": {},
   "outputs": [
    {
     "data": {
      "text/plain": [
       "<12921x300 sparse matrix of type '<class 'numpy.float64'>'\n",
       "\twith 20672 stored elements in Compressed Sparse Row format>"
      ]
     },
     "execution_count": 16,
     "metadata": {},
     "output_type": "execute_result"
    }
   ],
   "source": [
    "test"
   ]
  },
  {
   "cell_type": "code",
   "execution_count": 17,
   "metadata": {},
   "outputs": [],
   "source": [
    "predict_mat = sparse.csr_matrix(\n",
    "    (predictions, (val_user_ids, val_movie_ids)), shape=(n_users, n_items)\n",
    ")"
   ]
  },
  {
   "cell_type": "code",
   "execution_count": 18,
   "metadata": {},
   "outputs": [
    {
     "data": {
      "text/plain": [
       "<12921x300 sparse matrix of type '<class 'numpy.float32'>'\n",
       "\twith 20672 stored elements in Compressed Sparse Row format>"
      ]
     },
     "execution_count": 18,
     "metadata": {},
     "output_type": "execute_result"
    }
   ],
   "source": [
    "predict_mat"
   ]
  },
  {
   "cell_type": "code",
   "execution_count": 19,
   "metadata": {},
   "outputs": [],
   "source": [
    "test_sub = test[user_index]\n",
    "predict_mat_sub = predict_mat[user_index]"
   ]
  },
  {
   "cell_type": "code",
   "execution_count": 20,
   "metadata": {},
   "outputs": [
    {
     "data": {
      "text/plain": [
       "1.0"
      ]
     },
     "execution_count": 20,
     "metadata": {},
     "output_type": "execute_result"
    }
   ],
   "source": [
    "top_k = 4\n",
    "\n",
    "predict_top_k = []\n",
    "for i in range(len(user_index)):\n",
    "    # 使用 csr 的 indices 和 data，都只會回傳 non-zero 的 entry 資料\n",
    "    predict_r = predict_mat_sub[i].indices[predict_mat_sub[i].data.argsort()[::-1]][:top_k]\n",
    "    true_r = test_sub[i].indices[test_sub[i].data.argsort()[::-1][:top_k]]\n",
    "    pre = len(set(predict_r) & set(true_r))/ float(top_k)\n",
    "    predict_top_k.append(pre)\n",
    "\n",
    "np.mean(predict_top_k)"
   ]
  },
  {
   "cell_type": "code",
   "execution_count": null,
   "metadata": {},
   "outputs": [],
   "source": []
  }
 ],
 "metadata": {
  "kernelspec": {
   "display_name": "house-price",
   "language": "python",
   "name": "house-price"
  },
  "language_info": {
   "codemirror_mode": {
    "name": "ipython",
    "version": 3
   },
   "file_extension": ".py",
   "mimetype": "text/x-python",
   "name": "python",
   "nbconvert_exporter": "python",
   "pygments_lexer": "ipython3",
   "version": "3.7.4"
  }
 },
 "nbformat": 4,
 "nbformat_minor": 2
}
