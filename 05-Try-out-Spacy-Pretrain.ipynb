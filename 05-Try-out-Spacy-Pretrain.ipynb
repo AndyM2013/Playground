{
 "cells": [
  {
   "cell_type": "markdown",
   "metadata": {},
   "source": [
    "# Spacy Classification Model from Scratch"
   ]
  },
  {
   "cell_type": "markdown",
   "metadata": {},
   "source": [
    "## Data Preparation"
   ]
  },
  {
   "cell_type": "code",
   "execution_count": 1,
   "metadata": {},
   "outputs": [],
   "source": [
    "%load_ext autoreload\n",
    "%autoreload 2"
   ]
  },
  {
   "cell_type": "code",
   "execution_count": 2,
   "metadata": {},
   "outputs": [],
   "source": [
    "import numpy as np\n",
    "import pandas as pd\n",
    "from IPython.display import display\n",
    "import seaborn as sns\n",
    "import matplotlib.pyplot as plt\n",
    "import os\n",
    "\n",
    "from sklearn.utils import shuffle\n",
    "from sklearn.model_selection import train_test_split\n",
    "\n",
    "pd.set_option('max_colwidth',1000)\n",
    "pd.options.display.float_format = '{:.2f}'.format\n",
    "\n",
    "%matplotlib inline"
   ]
  },
  {
   "cell_type": "markdown",
   "metadata": {},
   "source": [
    "### Read in file"
   ]
  },
  {
   "cell_type": "code",
   "execution_count": 3,
   "metadata": {
    "scrolled": false
   },
   "outputs": [
    {
     "name": "stderr",
     "output_type": "stream",
     "text": [
      "/Users/tomlin/miniconda3/lib/python3.7/site-packages/IPython/core/interactiveshell.py:3020: DtypeWarning: Columns (5,11) have mixed types. Specify dtype option on import or set low_memory=False.\n",
      "  interactivity=interactivity, compiler=compiler, result=result)\n"
     ]
    },
    {
     "name": "stdout",
     "output_type": "stream",
     "text": [
      "<class 'pandas.core.frame.DataFrame'>\n",
      "Int64Index: 66806 entries, 190126 to 553096\n",
      "Data columns (total 18 columns):\n",
      "date_received                   66806 non-null object\n",
      "product                         66806 non-null object\n",
      "sub_product                     46351 non-null object\n",
      "issue                           66806 non-null object\n",
      "sub_issue                       32932 non-null object\n",
      "consumer_complaint_narrative    66806 non-null object\n",
      "company_public_response         32776 non-null object\n",
      "company                         66806 non-null object\n",
      "state                           66620 non-null object\n",
      "zipcode                         66617 non-null object\n",
      "tags                            11417 non-null object\n",
      "consumer_consent_provided       66806 non-null object\n",
      "submitted_via                   66806 non-null object\n",
      "date_sent_to_company            66806 non-null object\n",
      "company_response_to_consumer    66806 non-null object\n",
      "timely_response                 66806 non-null object\n",
      "consumer_disputed?              66806 non-null object\n",
      "complaint_id                    66806 non-null int64\n",
      "dtypes: int64(1), object(17)\n",
      "memory usage: 9.7+ MB\n"
     ]
    },
    {
     "data": {
      "text/plain": [
       "None"
      ]
     },
     "metadata": {},
     "output_type": "display_data"
    }
   ],
   "source": [
    "dir_path = '../Playground-dataset/05-Try-out-Spacy-Pretrain-dataset'\n",
    "\n",
    "df_raw = pd.read_csv(os.path.join(dir_path, 'consumer_complaints.csv'))\n",
    "df_raw = df_raw[pd.notnull(df_raw['consumer_complaint_narrative'])]\n",
    "\n",
    "# How's the dataset like?\n",
    "display(df_raw.info())"
   ]
  },
  {
   "cell_type": "markdown",
   "metadata": {},
   "source": [
    "### Filter on Text and Label"
   ]
  },
  {
   "cell_type": "code",
   "execution_count": 4,
   "metadata": {},
   "outputs": [],
   "source": [
    "# Filter on text and label.\n",
    "df = df_raw[['product','consumer_complaint_narrative']]\n",
    "\n",
    "\n",
    "# Experiment on smaller subset.\n",
    "df = df[:5000]\n",
    "df = df.reset_index(drop=True)"
   ]
  },
  {
   "cell_type": "code",
   "execution_count": 5,
   "metadata": {},
   "outputs": [
    {
     "name": "stdout",
     "output_type": "stream",
     "text": [
      "Frequency(Top 30)...\n"
     ]
    },
    {
     "data": {
      "text/html": [
       "<div>\n",
       "<style scoped>\n",
       "    .dataframe tbody tr th:only-of-type {\n",
       "        vertical-align: middle;\n",
       "    }\n",
       "\n",
       "    .dataframe tbody tr th {\n",
       "        vertical-align: top;\n",
       "    }\n",
       "\n",
       "    .dataframe thead th {\n",
       "        text-align: right;\n",
       "    }\n",
       "</style>\n",
       "<table border=\"1\" class=\"dataframe\">\n",
       "  <thead>\n",
       "    <tr style=\"text-align: right;\">\n",
       "      <th></th>\n",
       "      <th>freq</th>\n",
       "      <th>count</th>\n",
       "    </tr>\n",
       "  </thead>\n",
       "  <tbody>\n",
       "    <tr>\n",
       "      <th>Debt collection</th>\n",
       "      <td>0.28</td>\n",
       "      <td>1423</td>\n",
       "    </tr>\n",
       "    <tr>\n",
       "      <th>Mortgage</th>\n",
       "      <td>0.23</td>\n",
       "      <td>1171</td>\n",
       "    </tr>\n",
       "    <tr>\n",
       "      <th>Credit reporting</th>\n",
       "      <td>0.16</td>\n",
       "      <td>811</td>\n",
       "    </tr>\n",
       "    <tr>\n",
       "      <th>Credit card</th>\n",
       "      <td>0.11</td>\n",
       "      <td>547</td>\n",
       "    </tr>\n",
       "    <tr>\n",
       "      <th>Bank account or service</th>\n",
       "      <td>0.08</td>\n",
       "      <td>403</td>\n",
       "    </tr>\n",
       "    <tr>\n",
       "      <th>Consumer Loan</th>\n",
       "      <td>0.05</td>\n",
       "      <td>268</td>\n",
       "    </tr>\n",
       "    <tr>\n",
       "      <th>Student loan</th>\n",
       "      <td>0.04</td>\n",
       "      <td>219</td>\n",
       "    </tr>\n",
       "    <tr>\n",
       "      <th>Payday loan</th>\n",
       "      <td>0.01</td>\n",
       "      <td>65</td>\n",
       "    </tr>\n",
       "    <tr>\n",
       "      <th>Money transfers</th>\n",
       "      <td>0.01</td>\n",
       "      <td>54</td>\n",
       "    </tr>\n",
       "    <tr>\n",
       "      <th>Prepaid card</th>\n",
       "      <td>0.01</td>\n",
       "      <td>31</td>\n",
       "    </tr>\n",
       "    <tr>\n",
       "      <th>Other financial service</th>\n",
       "      <td>0.00</td>\n",
       "      <td>8</td>\n",
       "    </tr>\n",
       "  </tbody>\n",
       "</table>\n",
       "</div>"
      ],
      "text/plain": [
       "                         freq  count\n",
       "Debt collection          0.28   1423\n",
       "Mortgage                 0.23   1171\n",
       "Credit reporting         0.16    811\n",
       "Credit card              0.11    547\n",
       "Bank account or service  0.08    403\n",
       "Consumer Loan            0.05    268\n",
       "Student loan             0.04    219\n",
       "Payday loan              0.01     65\n",
       "Money transfers          0.01     54\n",
       "Prepaid card             0.01     31\n",
       "Other financial service  0.00      8"
      ]
     },
     "metadata": {},
     "output_type": "display_data"
    },
    {
     "data": {
      "image/png": "[encoded data removed]",
      "text/plain": [
       "<Figure size 1080x576 with 1 Axes>"
      ]
     },
     "metadata": {},
     "output_type": "display_data"
    }
   ],
   "source": [
    "from UtilTextClassification import plot_freq\n",
    "\n",
    "# Label distributed fequency.\n",
    "plot_freq(df, col=['product'], top_classes=30)"
   ]
  },
  {
   "cell_type": "code",
   "execution_count": 6,
   "metadata": {},
   "outputs": [
    {
     "name": "stdout",
     "output_type": "stream",
     "text": [
      "Demo of product and its complaint example...\n"
     ]
    },
    {
     "data": {
      "text/html": [
       "<div>\n",
       "<style scoped>\n",
       "    .dataframe tbody tr th:only-of-type {\n",
       "        vertical-align: middle;\n",
       "    }\n",
       "\n",
       "    .dataframe tbody tr th {\n",
       "        vertical-align: top;\n",
       "    }\n",
       "\n",
       "    .dataframe thead th {\n",
       "        text-align: right;\n",
       "    }\n",
       "</style>\n",
       "<table border=\"1\" class=\"dataframe\">\n",
       "  <thead>\n",
       "    <tr style=\"text-align: right;\">\n",
       "      <th></th>\n",
       "      <th>product</th>\n",
       "      <th>consumer_complaint_narrative</th>\n",
       "    </tr>\n",
       "  </thead>\n",
       "  <tbody>\n",
       "    <tr>\n",
       "      <th>0</th>\n",
       "      <td>Debt collection</td>\n",
       "      <td>XXXX has claimed I owe them {$27.00} for XXXX years despite the PROOF of PAYMENT I sent them : canceled check and their ownPAID INVOICE for {$27.00}! \\nThey continue to insist I owe them and collection agencies are after me. \\nHow can I stop this harassment for a bill I already paid four years ago? \\n</td>\n",
       "    </tr>\n",
       "    <tr>\n",
       "      <th>1</th>\n",
       "      <td>Consumer Loan</td>\n",
       "      <td>Due to inconsistencies in the amount owed that I was told by M &amp; T Bank and the amount that was reported to the credit reporting agencies, I was advised to write a good will letter in order to address the issue and request the negative entry be removed from my credit report all together. I had a vehicle that was stolen and it was declared a total loss by insurance company. The insurance company and the GAP insurancw companypaid the outstanding balance of the loan, but I was told by M &amp; T Bank that there was still a balance due on the loan. In good faith, without having received any proof as to why there was still a balance, I made a partial payment towards the remaining debt. I then sent the goodwill letter still offering to pay the remainder of the debt, but in exchange for the removal of the negative entry on my credit report. At one point, in XXXX 2015, per my credit monitoring agency, it showed a delinquent balance of {$0.00}, but when I checked my credit report again on XXXX X...</td>\n",
       "    </tr>\n",
       "    <tr>\n",
       "      <th>2</th>\n",
       "      <td>Mortgage</td>\n",
       "      <td>In XX/XX/XXXX my wages that I earned at my job decreased by almost half, by XX/XX/XXXX I knew I was in trouble with my home loan. I began contacting WFB whom my home loan is with, for assitance and options. \\nIn early XX/XX/XXXX I began the Loan Modification process with Wells Fargo Bank. I was told that they would not assist me with anything financial on my home loan until I fell 90 days behind, though at the time I started to inquire for assistance from WFB I was only a few weeks behind. So, I began working with a program called XXXX. They approved me for a variety of assistence and reached out to Wells Fargo Bank to determine what they could assist with. Wells Fargo then turned down the assistance from XXXX and finally offered to do a Loan Modification for me. The outcome was totally unknow about what I would be offered in the end by WFB for assistance. Wells Fargo lost my paperwork twice during this process, so it took 2 months from the time I started to the time my paperwork b...</td>\n",
       "    </tr>\n",
       "    <tr>\n",
       "      <th>3</th>\n",
       "      <td>Mortgage</td>\n",
       "      <td>I have an open and current mortgage with Chase Bank # XXXX. Chase is reporting the loan payments to XXXX but XXXX is surpressing the information and reporting the loan as Discharged in BK. This mortgage was reaffirmed in a Chapter XXXX BK discharged dated XXXX/XXXX/2013. Chase keeps referring to BK Law for Chapter XXXX and we keep providing documentation for Chapter XXXX, and the account should be open and current with all the payments \\n</td>\n",
       "    </tr>\n",
       "    <tr>\n",
       "      <th>4</th>\n",
       "      <td>Mortgage</td>\n",
       "      <td>XXXX was submitted XX/XX/XXXX. At the time I submitted this complaint, I had dealt with Rushmore Mortgage directly endeavoring to get them to stop the continuous daily calls I was receiving trying to collect on a mortgage for which I was not responsible due to bankruptcy. They denied having knowledge of the bankruptcy, even though I had spoken with them about it repeatedly and had written them repeatedly referencing the bankruptcy requesting them to cease the pursuit, they continued to do so. When they were unable to trick me into paying, force me into paying in retaliation they placed reported to my credit bureaus a past due mortgage amount that had been discharged in Federal Court. On XX/XX/XXXX Rushmore responded the referenced complaint indicating that they would remove the reporting from my bureau, yet it is still there now in XX/XX/XXXX. I would like them to remove it immediately and send me a letter indicating that it should not have been there in the first place and they ar...</td>\n",
       "    </tr>\n",
       "  </tbody>\n",
       "</table>\n",
       "</div>"
      ],
      "text/plain": [
       "           product  \\\n",
       "0  Debt collection   \n",
       "1    Consumer Loan   \n",
       "2         Mortgage   \n",
       "3         Mortgage   \n",
       "4         Mortgage   \n",
       "\n",
       "                                                                                                                                                                                                                                                                                                                                                                                                                                                                                                                                                                                                                                                                                                                                                                                                                                                                                                                                                                                                              consumer_complaint_narrative  \n",
       "0                                                                                                                                                                                                                                                                                                                                                                                                                                                                                                                                                                                                                                                                                                                           XXXX has claimed I owe them {$27.00} for XXXX years despite the PROOF of PAYMENT I sent them : canceled check and their ownPAID INVOICE for {$27.00}! \\nThey continue to insist I owe them and collection agencies are after me. \\nHow can I stop this harassment for a bill I already paid four years ago? \\n  \n",
       "1  Due to inconsistencies in the amount owed that I was told by M & T Bank and the amount that was reported to the credit reporting agencies, I was advised to write a good will letter in order to address the issue and request the negative entry be removed from my credit report all together. I had a vehicle that was stolen and it was declared a total loss by insurance company. The insurance company and the GAP insurancw companypaid the outstanding balance of the loan, but I was told by M & T Bank that there was still a balance due on the loan. In good faith, without having received any proof as to why there was still a balance, I made a partial payment towards the remaining debt. I then sent the goodwill letter still offering to pay the remainder of the debt, but in exchange for the removal of the negative entry on my credit report. At one point, in XXXX 2015, per my credit monitoring agency, it showed a delinquent balance of {$0.00}, but when I checked my credit report again on XXXX X...  \n",
       "2  In XX/XX/XXXX my wages that I earned at my job decreased by almost half, by XX/XX/XXXX I knew I was in trouble with my home loan. I began contacting WFB whom my home loan is with, for assitance and options. \\nIn early XX/XX/XXXX I began the Loan Modification process with Wells Fargo Bank. I was told that they would not assist me with anything financial on my home loan until I fell 90 days behind, though at the time I started to inquire for assistance from WFB I was only a few weeks behind. So, I began working with a program called XXXX. They approved me for a variety of assistence and reached out to Wells Fargo Bank to determine what they could assist with. Wells Fargo then turned down the assistance from XXXX and finally offered to do a Loan Modification for me. The outcome was totally unknow about what I would be offered in the end by WFB for assistance. Wells Fargo lost my paperwork twice during this process, so it took 2 months from the time I started to the time my paperwork b...  \n",
       "3                                                                                                                                                                                                                                                                                                                                                                                                                                                                                                                                                                               I have an open and current mortgage with Chase Bank # XXXX. Chase is reporting the loan payments to XXXX but XXXX is surpressing the information and reporting the loan as Discharged in BK. This mortgage was reaffirmed in a Chapter XXXX BK discharged dated XXXX/XXXX/2013. Chase keeps referring to BK Law for Chapter XXXX and we keep providing documentation for Chapter XXXX, and the account should be open and current with all the payments \\n  \n",
       "4  XXXX was submitted XX/XX/XXXX. At the time I submitted this complaint, I had dealt with Rushmore Mortgage directly endeavoring to get them to stop the continuous daily calls I was receiving trying to collect on a mortgage for which I was not responsible due to bankruptcy. They denied having knowledge of the bankruptcy, even though I had spoken with them about it repeatedly and had written them repeatedly referencing the bankruptcy requesting them to cease the pursuit, they continued to do so. When they were unable to trick me into paying, force me into paying in retaliation they placed reported to my credit bureaus a past due mortgage amount that had been discharged in Federal Court. On XX/XX/XXXX Rushmore responded the referenced complaint indicating that they would remove the reporting from my bureau, yet it is still there now in XX/XX/XXXX. I would like them to remove it immediately and send me a letter indicating that it should not have been there in the first place and they ar...  "
      ]
     },
     "execution_count": 6,
     "metadata": {},
     "output_type": "execute_result"
    }
   ],
   "source": [
    "print('Demo of product and its complaint example...')\n",
    "df.head()"
   ]
  },
  {
   "cell_type": "markdown",
   "metadata": {},
   "source": [
    "### Prepare Train/Valid/Testing Dataset"
   ]
  },
  {
   "cell_type": "code",
   "execution_count": 7,
   "metadata": {},
   "outputs": [
    {
     "name": "stdout",
     "output_type": "stream",
     "text": [
      "Unique values of labels...\n"
     ]
    },
    {
     "data": {
      "text/plain": [
       "['Debt collection',\n",
       " 'Consumer Loan',\n",
       " 'Mortgage',\n",
       " 'Credit card',\n",
       " 'Credit reporting',\n",
       " 'Student loan',\n",
       " 'Bank account or service',\n",
       " 'Payday loan',\n",
       " 'Money transfers',\n",
       " 'Other financial service',\n",
       " 'Prepaid card']"
      ]
     },
     "metadata": {},
     "output_type": "display_data"
    }
   ],
   "source": [
    "print('Unique values of labels...')\n",
    "display(list(df['product'].unique()))"
   ]
  },
  {
   "cell_type": "code",
   "execution_count": 8,
   "metadata": {},
   "outputs": [],
   "source": [
    "from UtilTextClassification import split_size\n",
    "\n",
    "\n",
    "# Select label and label value.\n",
    "col = 'product'\n",
    "col_vals = list(df[col].unique())\n",
    "text_col = 'consumer_complaint_narrative'\n",
    "\n",
    "# Select number of data.\n",
    "train_num, valid_num, test_num = split_size(df, train=0.6, valid=0.2)"
   ]
  },
  {
   "cell_type": "code",
   "execution_count": 9,
   "metadata": {},
   "outputs": [
    {
     "name": "stdout",
     "output_type": "stream",
     "text": [
      "Shape of train_X: (3000,)\n",
      "Shape of valid_X: (1000,)\n",
      "Shape of text_X: (1000,)\n"
     ]
    }
   ],
   "source": [
    "# Prepare test dataset.\n",
    "train_X, test_X, train_y, test_y = train_test_split(df[text_col],\n",
    "                                                df[col],\n",
    "                                                test_size=test_num,\n",
    "                                                random_state=1,\n",
    "                                                stratify=df[col])\n",
    "\n",
    "# Prepare valid dataset.\n",
    "if valid_num != 0:\n",
    "    train_X, valid_X, train_y, valid_y = train_test_split(train_X,\n",
    "                                                  train_y,\n",
    "                                                  test_size=valid_num,\n",
    "                                                  random_state=1,\n",
    "                                                  stratify=train_y)\n",
    "\n",
    "\n",
    "print('Shape of train_X: {}'.format(train_X.shape))\n",
    "print('Shape of valid_X: {}'.format(valid_X.shape if 'valid_X' in vars() else (0,0)))\n",
    "print('Shape of text_X: {}'.format(test_X.shape))"
   ]
  },
  {
   "cell_type": "markdown",
   "metadata": {},
   "source": [
    "## Convert Dataset to Spacy Compatible Format\n",
    "\n",
    "<mark>**Label and Text**</mark>"
   ]
  },
  {
   "cell_type": "code",
   "execution_count": 10,
   "metadata": {},
   "outputs": [],
   "source": [
    "# One-hard-encode label.\n",
    "train_y_df = pd.get_dummies(train_y)\n",
    "valid_y_df = pd.get_dummies(valid_y)\n",
    "test_y_df = pd.get_dummies(test_y)"
   ]
  },
  {
   "cell_type": "code",
   "execution_count": 11,
   "metadata": {},
   "outputs": [
    {
     "name": "stdout",
     "output_type": "stream",
     "text": [
      "One-hard-encoded label...\n"
     ]
    },
    {
     "data": {
      "text/html": [
       "<div>\n",
       "<style scoped>\n",
       "    .dataframe tbody tr th:only-of-type {\n",
       "        vertical-align: middle;\n",
       "    }\n",
       "\n",
       "    .dataframe tbody tr th {\n",
       "        vertical-align: top;\n",
       "    }\n",
       "\n",
       "    .dataframe thead th {\n",
       "        text-align: right;\n",
       "    }\n",
       "</style>\n",
       "<table border=\"1\" class=\"dataframe\">\n",
       "  <thead>\n",
       "    <tr style=\"text-align: right;\">\n",
       "      <th></th>\n",
       "      <th>Bank account or service</th>\n",
       "      <th>Consumer Loan</th>\n",
       "      <th>Credit card</th>\n",
       "      <th>Credit reporting</th>\n",
       "      <th>Debt collection</th>\n",
       "      <th>Money transfers</th>\n",
       "      <th>Mortgage</th>\n",
       "      <th>Other financial service</th>\n",
       "      <th>Payday loan</th>\n",
       "      <th>Prepaid card</th>\n",
       "      <th>Student loan</th>\n",
       "    </tr>\n",
       "  </thead>\n",
       "  <tbody>\n",
       "    <tr>\n",
       "      <th>1291</th>\n",
       "      <td>0</td>\n",
       "      <td>0</td>\n",
       "      <td>0</td>\n",
       "      <td>0</td>\n",
       "      <td>0</td>\n",
       "      <td>0</td>\n",
       "      <td>1</td>\n",
       "      <td>0</td>\n",
       "      <td>0</td>\n",
       "      <td>0</td>\n",
       "      <td>0</td>\n",
       "    </tr>\n",
       "    <tr>\n",
       "      <th>4421</th>\n",
       "      <td>0</td>\n",
       "      <td>0</td>\n",
       "      <td>0</td>\n",
       "      <td>0</td>\n",
       "      <td>0</td>\n",
       "      <td>0</td>\n",
       "      <td>1</td>\n",
       "      <td>0</td>\n",
       "      <td>0</td>\n",
       "      <td>0</td>\n",
       "      <td>0</td>\n",
       "    </tr>\n",
       "    <tr>\n",
       "      <th>3875</th>\n",
       "      <td>0</td>\n",
       "      <td>0</td>\n",
       "      <td>0</td>\n",
       "      <td>0</td>\n",
       "      <td>0</td>\n",
       "      <td>0</td>\n",
       "      <td>1</td>\n",
       "      <td>0</td>\n",
       "      <td>0</td>\n",
       "      <td>0</td>\n",
       "      <td>0</td>\n",
       "    </tr>\n",
       "    <tr>\n",
       "      <th>2935</th>\n",
       "      <td>0</td>\n",
       "      <td>0</td>\n",
       "      <td>1</td>\n",
       "      <td>0</td>\n",
       "      <td>0</td>\n",
       "      <td>0</td>\n",
       "      <td>0</td>\n",
       "      <td>0</td>\n",
       "      <td>0</td>\n",
       "      <td>0</td>\n",
       "      <td>0</td>\n",
       "    </tr>\n",
       "    <tr>\n",
       "      <th>1173</th>\n",
       "      <td>0</td>\n",
       "      <td>0</td>\n",
       "      <td>0</td>\n",
       "      <td>1</td>\n",
       "      <td>0</td>\n",
       "      <td>0</td>\n",
       "      <td>0</td>\n",
       "      <td>0</td>\n",
       "      <td>0</td>\n",
       "      <td>0</td>\n",
       "      <td>0</td>\n",
       "    </tr>\n",
       "  </tbody>\n",
       "</table>\n",
       "</div>"
      ],
      "text/plain": [
       "      Bank account or service  Consumer Loan  Credit card  Credit reporting  \\\n",
       "1291                        0              0            0                 0   \n",
       "4421                        0              0            0                 0   \n",
       "3875                        0              0            0                 0   \n",
       "2935                        0              0            1                 0   \n",
       "1173                        0              0            0                 1   \n",
       "\n",
       "      Debt collection  Money transfers  Mortgage  Other financial service  \\\n",
       "1291                0                0         1                        0   \n",
       "4421                0                0         1                        0   \n",
       "3875                0                0         1                        0   \n",
       "2935                0                0         0                        0   \n",
       "1173                0                0         0                        0   \n",
       "\n",
       "      Payday loan  Prepaid card  Student loan  \n",
       "1291            0             0             0  \n",
       "4421            0             0             0  \n",
       "3875            0             0             0  \n",
       "2935            0             0             0  \n",
       "1173            0             0             0  "
      ]
     },
     "metadata": {},
     "output_type": "display_data"
    }
   ],
   "source": [
    "print('One-hard-encoded label...')\n",
    "display(train_y_df.head())"
   ]
  },
  {
   "cell_type": "code",
   "execution_count": 12,
   "metadata": {},
   "outputs": [],
   "source": [
    "from UtilTextClassification import df2list\n",
    "\n",
    "\n",
    "\n",
    "# Convert to list.\n",
    "train_ls = df2list(train_X, train_y_df)\n",
    "valid_ls = df2list(valid_X, valid_y_df)\n",
    "test_ls = df2list(test_X, test_y_df)"
   ]
  },
  {
   "cell_type": "code",
   "execution_count": 13,
   "metadata": {},
   "outputs": [
    {
     "name": "stdout",
     "output_type": "stream",
     "text": [
      "Preview of training list for Spacy...\n"
     ]
    },
    {
     "data": {
      "text/plain": [
       "[('I renegotiated a mortgage wth M & T Bank during a bankruptcy proceeding.I have made prompt payments for over two and a half years on the new loan. The Bank refuses to send any information to the credit reporting bureaus depriving me of any credit rating. The bank during this time tried to collect illegal fees of over {$6000.00} that I had to hire an Attorney to get them to rescind. They now want a recommitment agreement which would put that fee back in play in order for them to report to the credit bureaus. \\n',\n",
       "  {'cats': {'Bank account or service': 0,\n",
       "    'Consumer Loan': 0,\n",
       "    'Credit card': 0,\n",
       "    'Credit reporting': 0,\n",
       "    'Debt collection': 0,\n",
       "    'Money transfers': 0,\n",
       "    'Mortgage': 1,\n",
       "    'Other financial service': 0,\n",
       "    'Payday loan': 0,\n",
       "    'Prepaid card': 0,\n",
       "    'Student loan': 0}}),\n",
       " ('I have been trying to refinance with Quicken Loans since XXXX/XXXX/2015 the process has been a painful one. they have been disrespectful, changing my numbers ( the good Faith estimate ) XXXX times even on the day of the closing. In addition to all of that, I did the so called closing on XXXX/XXXX/2015 and I signed all the papers including the HUD. They called me today XXXX/XXXX/2015 saying my closing is cancelled and I have to re -close. \\n',\n",
       "  {'cats': {'Bank account or service': 0,\n",
       "    'Consumer Loan': 0,\n",
       "    'Credit card': 0,\n",
       "    'Credit reporting': 0,\n",
       "    'Debt collection': 0,\n",
       "    'Money transfers': 0,\n",
       "    'Mortgage': 1,\n",
       "    'Other financial service': 0,\n",
       "    'Payday loan': 0,\n",
       "    'Prepaid card': 0,\n",
       "    'Student loan': 0}})]"
      ]
     },
     "metadata": {},
     "output_type": "display_data"
    }
   ],
   "source": [
    "print('Preview of training list for Spacy...')\n",
    "display(train_ls[:2])"
   ]
  },
  {
   "cell_type": "markdown",
   "metadata": {},
   "source": [
    "## Separate Text and Label on Valid/Test Dataset\n",
    "\n",
    "For the ease of evaluating model's performance later on, I split labels and texts apart on both valid and text set. "
   ]
  },
  {
   "cell_type": "code",
   "execution_count": 14,
   "metadata": {},
   "outputs": [],
   "source": [
    "# Convert valid text and label to list.\n",
    "valid_text, valid_label = list(zip(*valid_ls))"
   ]
  },
  {
   "cell_type": "code",
   "execution_count": 15,
   "metadata": {},
   "outputs": [],
   "source": [
    "# Convert test text and label to list.\n",
    "test_text, test_label = list(zip(*test_ls))"
   ]
  },
  {
   "cell_type": "code",
   "execution_count": 16,
   "metadata": {},
   "outputs": [
    {
     "name": "stdout",
     "output_type": "stream",
     "text": [
      "Demo of how valid_text is like?\n"
     ]
    },
    {
     "data": {
      "text/plain": [
       "('I had a Tax Lien which was incorrectly placed when the XXXX sent tax payment money to the IRS as I had paid two years taxes ( a XXXX and a XXXX ) with the same check. They processed the XXXX return and then found they were short the money they sent to the IRS - go figure. \\nI have had the tax lien released XX/XX/XXXX and notified Experian in both XX/XX/XXXX and XX/XX/XXXX. It is still on my credit report. Again, the credit dispute process is a joke. There are no penalties for the credit bureau putting erroneous information nor in simply ignoring disputes made through their website or by mail. \\n',)"
      ]
     },
     "metadata": {},
     "output_type": "display_data"
    }
   ],
   "source": [
    "print('Demo of how valid_text is like?')\n",
    "display(valid_text[:1])"
   ]
  },
  {
   "cell_type": "code",
   "execution_count": 17,
   "metadata": {},
   "outputs": [
    {
     "name": "stdout",
     "output_type": "stream",
     "text": [
      "Demo of how valid_label is like?\n"
     ]
    },
    {
     "data": {
      "text/plain": [
       "({'cats': {'Bank account or service': 0,\n",
       "   'Consumer Loan': 0,\n",
       "   'Credit card': 0,\n",
       "   'Credit reporting': 1,\n",
       "   'Debt collection': 0,\n",
       "   'Money transfers': 0,\n",
       "   'Mortgage': 0,\n",
       "   'Other financial service': 0,\n",
       "   'Payday loan': 0,\n",
       "   'Prepaid card': 0,\n",
       "   'Student loan': 0}},)"
      ]
     },
     "metadata": {},
     "output_type": "display_data"
    }
   ],
   "source": [
    "print('Demo of how valid_label is like?')\n",
    "display(valid_label[:1])"
   ]
  },
  {
   "cell_type": "markdown",
   "metadata": {},
   "source": [
    "## Construct Spacy Classifier"
   ]
  },
  {
   "cell_type": "code",
   "execution_count": 18,
   "metadata": {},
   "outputs": [],
   "source": [
    "import spacy\n",
    "nlp = spacy.load('en_core_web_lg')"
   ]
  },
  {
   "cell_type": "code",
   "execution_count": 19,
   "metadata": {},
   "outputs": [],
   "source": [
    "if 'textcat' not in nlp.pipe_names:\n",
    "    textcat = nlp.create_pipe('textcat')\n",
    "    nlp.add_pipe(textcat, last=True)\n",
    "# otherwise, get it, so we can add labels to it\n",
    "else:\n",
    "    textcat = nlp.get_pipe('textcat')"
   ]
  },
  {
   "cell_type": "code",
   "execution_count": 20,
   "metadata": {},
   "outputs": [
    {
     "name": "stdout",
     "output_type": "stream",
     "text": [
      "('Debt collection', 'Consumer Loan', 'Mortgage', 'Credit card', 'Credit reporting', 'Student loan', 'Bank account or service', 'Payday loan', 'Money transfers', 'Other financial service', 'Prepaid card')\n"
     ]
    }
   ],
   "source": [
    "# add label to text classifier\n",
    "for _, col_val in enumerate(col_vals):\n",
    "    textcat.add_label(col_val)\n",
    "\n",
    "print(textcat.labels)"
   ]
  },
  {
   "cell_type": "markdown",
   "metadata": {},
   "source": [
    "## Train"
   ]
  },
  {
   "cell_type": "code",
   "execution_count": 21,
   "metadata": {},
   "outputs": [],
   "source": [
    "from spacy.util import minibatch, compounding\n",
    "from sklearn.metrics import f1_score, accuracy_score, classification_report\n",
    "import random\n",
    "\n",
    "import warnings \n",
    "warnings.simplefilter('ignore')"
   ]
  },
  {
   "cell_type": "code",
   "execution_count": 22,
   "metadata": {},
   "outputs": [],
   "source": [
    "# Path of saved model\n",
    "\n",
    "output_dir = os.path.join(dir_path,'spacy-saved-model')"
   ]
  },
  {
   "cell_type": "code",
   "execution_count": 23,
   "metadata": {},
   "outputs": [
    {
     "name": "stdout",
     "output_type": "stream",
     "text": [
      "Training the model...\n",
      "textcat loss: 22.1848\tf1 score: 0.559\taccuracy: 0.631\n",
      "textcat loss: 12.5292\tf1 score: 0.661\taccuracy: 0.712\n",
      "textcat loss: 9.4454\tf1 score: 0.685\taccuracy: 0.726\n",
      "textcat loss: 7.5352\tf1 score: 0.738\taccuracy: 0.766\n",
      "textcat loss: 6.4887\tf1 score: 0.751\taccuracy: 0.775\n",
      "textcat loss: 4.9598\tf1 score: 0.770\taccuracy: 0.789\n",
      "textcat loss: 4.3186\tf1 score: 0.774\taccuracy: 0.789\n",
      "textcat loss: 3.7593\tf1 score: 0.784\taccuracy: 0.797\n",
      "textcat loss: 3.2203\tf1 score: 0.785\taccuracy: 0.798\n",
      "textcat loss: 2.9446\tf1 score: 0.777\taccuracy: 0.790\n",
      "textcat loss: 2.5670\tf1 score: 0.776\taccuracy: 0.790\n",
      "textcat loss: 2.2185\tf1 score: 0.777\taccuracy: 0.789\n",
      "textcat loss: 1.8137\tf1 score: 0.782\taccuracy: 0.793\n",
      "textcat loss: 1.7611\tf1 score: 0.783\taccuracy: 0.794\n",
      "Finished training...\n"
     ]
    }
   ],
   "source": [
    "n_iter = 20\n",
    "print_every= 1\n",
    "not_improve = 5 \n",
    "\n",
    "\n",
    "\n",
    "\n",
    "# Train model\n",
    "other_pipes = [pipe for pipe in nlp.pipe_names if pipe != 'textcat']\n",
    "with nlp.disable_pipes(*other_pipes):  # only train textcat\n",
    "    optimizer = nlp.begin_training() # initiate a new model with random weights\n",
    "    print(\"Training the model...\")\n",
    "    \n",
    "    score_f1_best = 0\n",
    "    early_stop = 0\n",
    "    \n",
    "    for i in range(n_iter):\n",
    "        losses = {}\n",
    "        true_labels = list() # true label\n",
    "        pdt_labels = list() # predict label\n",
    "        \n",
    "        # batch up the examples using spaCy's minibatch\n",
    "        random.shuffle(train_ls)  # shuffle training data every iteration\n",
    "        batches = minibatch(train_ls, size=compounding(4., 32., 1.001))\n",
    "        for batch in batches:\n",
    "            texts, annotations = zip(*batch)\n",
    "            nlp.update(texts, annotations, sgd=optimizer, drop=0.2,\n",
    "                       losses=losses)\n",
    "            \n",
    "        with textcat.model.use_params(optimizer.averages): \n",
    "            # evaluate on valid_text, valid_label\n",
    "            docs = [nlp.tokenizer(text) for text in valid_text]\n",
    "            \n",
    "            for j, doc in enumerate(textcat.pipe(docs)):\n",
    "                true_series = pd.Series(valid_label[j]['cats'])\n",
    "                true_label = true_series.idxmax()  # idxmax() is the new version of argmax() \n",
    "                true_labels.append(true_label)\n",
    "    \n",
    "                pdt_series = pd.Series(doc.cats)\n",
    "                pdt_label = pdt_series.idxmax()  # idxmax() is the new version of argmax() \n",
    "                pdt_labels.append(pdt_label)\n",
    "                \n",
    "            score_f1 = f1_score(true_labels, pdt_labels, average='weighted')\n",
    "            score_ac = accuracy_score(true_labels, pdt_labels)\n",
    "            \n",
    "            if i % print_every == 0:\n",
    "                print('textcat loss: {:.4f}\\tf1 score: {:.3f}\\taccuracy: {:.3f}'.format(\n",
    "                    losses['textcat'],score_f1, score_ac))\n",
    "            \n",
    "            if score_f1 > score_f1_best:\n",
    "                early_stop = 0\n",
    "                score_f1_best = score_f1\n",
    "                with nlp.use_params(optimizer.averages):\n",
    "                    nlp.to_disk(output_dir) # save the model\n",
    "            else:\n",
    "                early_stop += 1\n",
    "            \n",
    "            if early_stop >= not_improve:\n",
    "                print('Finished training...')\n",
    "                break\n",
    "            \n",
    "            if i == n_iter:\n",
    "                print('Finished training...')"
   ]
  },
  {
   "cell_type": "code",
   "execution_count": null,
   "metadata": {},
   "outputs": [],
   "source": [
    "# Load saved model.\n",
    "print(\"Loading from\", output_dir)\n",
    "nlp = spacy.load(output_dir)"
   ]
  },
  {
   "cell_type": "markdown",
   "metadata": {},
   "source": [
    "## Test Model"
   ]
  },
  {
   "cell_type": "code",
   "execution_count": 25,
   "metadata": {},
   "outputs": [],
   "source": [
    "from UtilTextClassification import evaluate"
   ]
  },
  {
   "cell_type": "markdown",
   "metadata": {},
   "source": [
    "### On Validation Dataset "
   ]
  },
  {
   "cell_type": "code",
   "execution_count": 26,
   "metadata": {},
   "outputs": [
    {
     "name": "stdout",
     "output_type": "stream",
     "text": [
      "f1 score: 0.785\taccuracy: 0.798\n",
      "\n",
      "classification report...\n",
      "                         precision    recall  f1-score   support\n",
      "\n",
      "Bank account or service       0.60      0.65      0.63        81\n",
      "          Consumer Loan       0.60      0.58      0.59        53\n",
      "            Credit card       0.71      0.80      0.75       109\n",
      "       Credit reporting       0.85      0.80      0.82       162\n",
      "        Debt collection       0.81      0.85      0.83       285\n",
      "        Money transfers       0.00      0.00      0.00        11\n",
      "               Mortgage       0.89      0.96      0.92       234\n",
      "Other financial service       0.00      0.00      0.00         2\n",
      "            Payday loan       0.00      0.00      0.00        13\n",
      "           Prepaid card       0.00      0.00      0.00         6\n",
      "           Student loan       0.89      0.75      0.81        44\n",
      "\n",
      "              micro avg       0.80      0.80      0.80      1000\n",
      "              macro avg       0.49      0.49      0.49      1000\n",
      "           weighted avg       0.77      0.80      0.78      1000\n",
      "\n"
     ]
    }
   ],
   "source": [
    "# Test dataset evaluation.\n",
    "evaluate(nlp, valid_text, valid_label, label_names=None)"
   ]
  },
  {
   "cell_type": "markdown",
   "metadata": {},
   "source": [
    "### On Test Dataset"
   ]
  },
  {
   "cell_type": "code",
   "execution_count": 28,
   "metadata": {},
   "outputs": [
    {
     "name": "stdout",
     "output_type": "stream",
     "text": [
      "f1 score: 0.810\taccuracy: 0.826\n",
      "\n",
      "classification report...\n",
      "                         precision    recall  f1-score   support\n",
      "\n",
      "Bank account or service       0.76      0.80      0.78        81\n",
      "          Consumer Loan       0.67      0.48      0.56        54\n",
      "            Credit card       0.75      0.86      0.80       109\n",
      "       Credit reporting       0.81      0.78      0.79       162\n",
      "        Debt collection       0.82      0.89      0.86       284\n",
      "        Money transfers       0.00      0.00      0.00        11\n",
      "               Mortgage       0.93      0.96      0.94       234\n",
      "Other financial service       0.00      0.00      0.00         2\n",
      "            Payday loan       0.00      0.00      0.00        13\n",
      "           Prepaid card       0.00      0.00      0.00         6\n",
      "           Student loan       0.82      0.84      0.83        44\n",
      "\n",
      "              micro avg       0.83      0.83      0.83      1000\n",
      "              macro avg       0.51      0.51      0.51      1000\n",
      "           weighted avg       0.80      0.83      0.81      1000\n",
      "\n"
     ]
    }
   ],
   "source": [
    "evaluate(nlp, test_text, test_label, label_names=None)"
   ]
  },
  {
   "cell_type": "markdown",
   "metadata": {},
   "source": [
    "### Demo of Prediction"
   ]
  },
  {
   "cell_type": "code",
   "execution_count": 29,
   "metadata": {},
   "outputs": [
    {
     "name": "stdout",
     "output_type": "stream",
     "text": [
      "Experian is reporting a negative account that does not belong to me. This account was previously deleted from my file by the creditor as it did not belong to me. I am attaching the response from the creditor deleting this information. The original creditor is not listed but it is for the same amount as the previous account. Experian is not allowing to make any online disputes and I am not able to speak to a representative as you need a report number to do so. They continue to report erroneous information and refuse to do anything about it. \n",
      "\n"
     ]
    }
   ],
   "source": [
    "doc = nlp(test_text[0])\n",
    "print(doc)"
   ]
  },
  {
   "cell_type": "code",
   "execution_count": 30,
   "metadata": {},
   "outputs": [
    {
     "name": "stdout",
     "output_type": "stream",
     "text": [
      "label probabilities... {'Debt collection': 0.00035867010592482984, 'Consumer Loan': 0.0003834842354990542, 'Mortgage': 0.004348973743617535, 'Credit card': 4.539787187241018e-05, 'Credit reporting': 0.9998676776885986, 'Student loan': 4.539787187241018e-05, 'Bank account or service': 4.539787187241018e-05, 'Payday loan': 8.534910739399493e-05, 'Money transfers': 4.539787187241018e-05, 'Other financial service': 4.539787187241018e-05, 'Prepaid card': 4.539787187241018e-05}\n"
     ]
    }
   ],
   "source": [
    "print('label probabilities...', doc.cats)"
   ]
  },
  {
   "cell_type": "code",
   "execution_count": 31,
   "metadata": {},
   "outputs": [
    {
     "name": "stdout",
     "output_type": "stream",
     "text": [
      "true label... {'cats': {'Bank account or service': 0, 'Consumer Loan': 0, 'Credit card': 0, 'Credit reporting': 1, 'Debt collection': 0, 'Money transfers': 0, 'Mortgage': 0, 'Other financial service': 0, 'Payday loan': 0, 'Prepaid card': 0, 'Student loan': 0}}\n"
     ]
    }
   ],
   "source": [
    "print('true label...', test_label[0])"
   ]
  },
  {
   "cell_type": "markdown",
   "metadata": {},
   "source": [
    "# Spacy Model Using Pre-train"
   ]
  },
  {
   "cell_type": "markdown",
   "metadata": {},
   "source": [
    "## Construct Pre-train Spacy Classifier"
   ]
  },
  {
   "cell_type": "code",
   "execution_count": 37,
   "metadata": {},
   "outputs": [],
   "source": [
    "import spacy\n",
    "nlp = spacy.load('en_core_web_lg')"
   ]
  },
  {
   "cell_type": "code",
   "execution_count": 38,
   "metadata": {},
   "outputs": [],
   "source": [
    "if 'textcat' not in nlp.pipe_names:\n",
    "    textcat = nlp.create_pipe('textcat',\n",
    "                              config={'architecture':'simple_cnn',\n",
    "                              'exclusive_classes':True})\n",
    "    nlp.add_pipe(textcat, last=True)\n",
    "# otherwise, get it, so we can add labels to it\n",
    "else:\n",
    "    textcat = nlp.get_pipe('textcat')"
   ]
  },
  {
   "cell_type": "code",
   "execution_count": 39,
   "metadata": {},
   "outputs": [
    {
     "name": "stdout",
     "output_type": "stream",
     "text": [
      "('Debt collection', 'Consumer Loan', 'Mortgage', 'Credit card', 'Credit reporting', 'Student loan', 'Bank account or service', 'Payday loan', 'Money transfers', 'Other financial service', 'Prepaid card')\n"
     ]
    }
   ],
   "source": [
    "# add label to text classifier\n",
    "for _, col_val in enumerate(col_vals):\n",
    "    textcat.add_label(col_val)\n",
    "\n",
    "print(textcat.labels)"
   ]
  },
  {
   "cell_type": "code",
   "execution_count": 40,
   "metadata": {},
   "outputs": [],
   "source": [
    "output_dir = os.path.join(dir_path, 'spacy-saved-model-with-pretrain')\n",
    "pretrain_model_path = os.path.join(dir_path, 'model500.bin')"
   ]
  },
  {
   "cell_type": "markdown",
   "metadata": {},
   "source": [
    "## Train"
   ]
  },
  {
   "cell_type": "code",
   "execution_count": 41,
   "metadata": {},
   "outputs": [
    {
     "name": "stdout",
     "output_type": "stream",
     "text": [
      "Training the model...\n",
      "textcat loss: 17.311\tf1 score: 0.615\taccuracy: 0.661\n",
      "textcat loss: 10.838\tf1 score: 0.705\taccuracy: 0.731\n",
      "textcat loss: 7.992\tf1 score: 0.736\taccuracy: 0.757\n",
      "textcat loss: 5.978\tf1 score: 0.745\taccuracy: 0.760\n",
      "textcat loss: 4.751\tf1 score: 0.755\taccuracy: 0.768\n",
      "textcat loss: 3.548\tf1 score: 0.750\taccuracy: 0.761\n",
      "textcat loss: 3.091\tf1 score: 0.751\taccuracy: 0.761\n",
      "textcat loss: 2.401\tf1 score: 0.746\taccuracy: 0.753\n",
      "textcat loss: 1.893\tf1 score: 0.751\taccuracy: 0.759\n",
      "textcat loss: 1.598\tf1 score: 0.759\taccuracy: 0.767\n",
      "textcat loss: 1.574\tf1 score: 0.765\taccuracy: 0.773\n",
      "textcat loss: 1.311\tf1 score: 0.762\taccuracy: 0.768\n",
      "textcat loss: 1.239\tf1 score: 0.763\taccuracy: 0.770\n",
      "textcat loss: 0.828\tf1 score: 0.764\taccuracy: 0.771\n",
      "textcat loss: 0.861\tf1 score: 0.763\taccuracy: 0.770\n",
      "textcat loss: 1.042\tf1 score: 0.764\taccuracy: 0.770\n",
      "Finished training...\n"
     ]
    }
   ],
   "source": [
    "n_iter = 20\n",
    "print_every= 1\n",
    "not_improve = 5\n",
    "\n",
    "\n",
    "\n",
    "\n",
    "\n",
    "# Train model\n",
    "other_pipes = [pipe for pipe in nlp.pipe_names if pipe != 'textcat']\n",
    "with nlp.disable_pipes(*other_pipes):  # only train textcat\n",
    "    optimizer = nlp.begin_training() # initiate a new model\n",
    "    \n",
    "    with open(pretrain_model_path, 'rb') as file_:\n",
    "        textcat.model.tok2vec.from_bytes(file_.read()) # load in pre-train word embedding\n",
    "    \n",
    "    print(\"Training the model...\")\n",
    "    \n",
    "    score_f1_best = 0\n",
    "    early_stop = 0\n",
    "    \n",
    "    for i in range(n_iter):\n",
    "        losses = {}\n",
    "        true_labels = list() # true label\n",
    "        pdt_labels = list() # predict label\n",
    "        \n",
    "        random.shuffle(train_ls)  # shuffle training data every iteration\n",
    "        # batch up the examples using spaCy's minibatch\n",
    "        batches = minibatch(train_ls, size=compounding(4., 32., 1.001))\n",
    "        for batch in batches:\n",
    "            texts, annotations = zip(*batch)\n",
    "            nlp.update(texts, annotations, sgd=optimizer, drop=0.2,\n",
    "                       losses=losses)\n",
    "            \n",
    "        with textcat.model.use_params(optimizer.averages):\n",
    "            # evaluate on valid_text and valid_label\n",
    "            docs = [nlp.tokenizer(text) for text in valid_text]\n",
    "            for j, doc in enumerate(textcat.pipe(docs)):\n",
    "                true_series = pd.Series(valid_label[j]['cats'])\n",
    "                true_label = true_series.idxmax()  # idxmax() is new version of argmax()\n",
    "                true_labels.append(true_label)\n",
    "    \n",
    "                pdt_series = pd.Series(doc.cats)\n",
    "                pdt_label = pdt_series.idxmax()  # idxmax() is new version of argmax()\n",
    "                pdt_labels.append(pdt_label)\n",
    "                \n",
    "            score_f1 = f1_score(true_labels, pdt_labels, average='weighted')\n",
    "            score_ac = accuracy_score(true_labels, pdt_labels)\n",
    "            \n",
    "            if i % print_every == 0:\n",
    "                print('textcat loss: {:.3f}\\tf1 score: {:.3f}\\taccuracy: {:.3f}'.format(\n",
    "                    losses['textcat'],score_f1, score_ac))\n",
    "            \n",
    "            if score_f1 > score_f1_best:\n",
    "                early_stop = 0\n",
    "                score_f1_best = score_f1\n",
    "                with nlp.use_params(optimizer.averages):\n",
    "                    nlp.to_disk(output_dir) # save the model\n",
    "            else:\n",
    "                early_stop += 1\n",
    "            \n",
    "            if early_stop >= not_improve:\n",
    "                print('Finished training...')\n",
    "                break"
   ]
  },
  {
   "cell_type": "code",
   "execution_count": null,
   "metadata": {},
   "outputs": [],
   "source": [
    "# Load saved model.\n",
    "print(\"Loading from\", output_dir)\n",
    "nlp = spacy.load(output_dir)"
   ]
  },
  {
   "cell_type": "markdown",
   "metadata": {},
   "source": [
    "## Test Model"
   ]
  },
  {
   "cell_type": "markdown",
   "metadata": {},
   "source": [
    "### On Validation Dataset"
   ]
  },
  {
   "cell_type": "code",
   "execution_count": 43,
   "metadata": {},
   "outputs": [
    {
     "name": "stdout",
     "output_type": "stream",
     "text": [
      "f1 score: 0.765\taccuracy: 0.773\n",
      "\n",
      "classification report...\n",
      "                         precision    recall  f1-score   support\n",
      "\n",
      "Bank account or service       0.64      0.64      0.64        81\n",
      "          Consumer Loan       0.59      0.43      0.50        53\n",
      "            Credit card       0.64      0.68      0.66       109\n",
      "       Credit reporting       0.79      0.80      0.79       162\n",
      "        Debt collection       0.78      0.85      0.81       285\n",
      "        Money transfers       0.67      0.36      0.47        11\n",
      "               Mortgage       0.90      0.93      0.92       234\n",
      "Other financial service       0.00      0.00      0.00         2\n",
      "            Payday loan       0.25      0.08      0.12        13\n",
      "           Prepaid card       1.00      0.33      0.50         6\n",
      "           Student loan       0.76      0.66      0.71        44\n",
      "\n",
      "              micro avg       0.77      0.77      0.77      1000\n",
      "              macro avg       0.64      0.52      0.56      1000\n",
      "           weighted avg       0.76      0.77      0.77      1000\n",
      "\n"
     ]
    }
   ],
   "source": [
    "# Test dataset evaluation.\n",
    "evaluate(nlp, valid_text, valid_label, label_names=None)"
   ]
  },
  {
   "cell_type": "markdown",
   "metadata": {},
   "source": [
    "### On Test Dataset"
   ]
  },
  {
   "cell_type": "code",
   "execution_count": 44,
   "metadata": {},
   "outputs": [
    {
     "name": "stdout",
     "output_type": "stream",
     "text": [
      "f1 score: 0.770\taccuracy: 0.779\n",
      "\n",
      "classification report...\n",
      "                         precision    recall  f1-score   support\n",
      "\n",
      "Bank account or service       0.72      0.64      0.68        81\n",
      "          Consumer Loan       0.59      0.37      0.45        54\n",
      "            Credit card       0.62      0.74      0.67       109\n",
      "       Credit reporting       0.77      0.78      0.77       162\n",
      "        Debt collection       0.81      0.87      0.84       284\n",
      "        Money transfers       0.60      0.27      0.37        11\n",
      "               Mortgage       0.90      0.91      0.90       234\n",
      "Other financial service       0.00      0.00      0.00         2\n",
      "            Payday loan       0.50      0.15      0.24        13\n",
      "           Prepaid card       0.33      0.17      0.22         6\n",
      "           Student loan       0.77      0.77      0.77        44\n",
      "\n",
      "              micro avg       0.78      0.78      0.78      1000\n",
      "              macro avg       0.60      0.52      0.54      1000\n",
      "           weighted avg       0.77      0.78      0.77      1000\n",
      "\n"
     ]
    }
   ],
   "source": [
    "evaluate(nlp, test_text, test_label, label_names=None)"
   ]
  },
  {
   "cell_type": "markdown",
   "metadata": {},
   "source": [
    "# (Appendix) Create Pre-train Dataset for Spacy"
   ]
  },
  {
   "cell_type": "code",
   "execution_count": 45,
   "metadata": {},
   "outputs": [],
   "source": [
    "import srsly\n",
    "import pandas as pd\n",
    "import os"
   ]
  },
  {
   "cell_type": "code",
   "execution_count": 46,
   "metadata": {},
   "outputs": [
    {
     "data": {
      "text/html": [
       "<div>\n",
       "<style scoped>\n",
       "    .dataframe tbody tr th:only-of-type {\n",
       "        vertical-align: middle;\n",
       "    }\n",
       "\n",
       "    .dataframe tbody tr th {\n",
       "        vertical-align: top;\n",
       "    }\n",
       "\n",
       "    .dataframe thead th {\n",
       "        text-align: right;\n",
       "    }\n",
       "</style>\n",
       "<table border=\"1\" class=\"dataframe\">\n",
       "  <thead>\n",
       "    <tr style=\"text-align: right;\">\n",
       "      <th></th>\n",
       "      <th>product</th>\n",
       "      <th>consumer_complaint_narrative</th>\n",
       "    </tr>\n",
       "  </thead>\n",
       "  <tbody>\n",
       "    <tr>\n",
       "      <th>0</th>\n",
       "      <td>Debt collection</td>\n",
       "      <td>XXXX has claimed I owe them {$27.00} for XXXX years despite the PROOF of PAYMENT I sent them : canceled check and their ownPAID INVOICE for {$27.00}! \\nThey continue to insist I owe them and collection agencies are after me. \\nHow can I stop this harassment for a bill I already paid four years ago? \\n</td>\n",
       "    </tr>\n",
       "    <tr>\n",
       "      <th>1</th>\n",
       "      <td>Consumer Loan</td>\n",
       "      <td>Due to inconsistencies in the amount owed that I was told by M &amp; T Bank and the amount that was reported to the credit reporting agencies, I was advised to write a good will letter in order to address the issue and request the negative entry be removed from my credit report all together. I had a vehicle that was stolen and it was declared a total loss by insurance company. The insurance company and the GAP insurancw companypaid the outstanding balance of the loan, but I was told by M &amp; T Bank that there was still a balance due on the loan. In good faith, without having received any proof as to why there was still a balance, I made a partial payment towards the remaining debt. I then sent the goodwill letter still offering to pay the remainder of the debt, but in exchange for the removal of the negative entry on my credit report. At one point, in XXXX 2015, per my credit monitoring agency, it showed a delinquent balance of {$0.00}, but when I checked my credit report again on XXXX X...</td>\n",
       "    </tr>\n",
       "  </tbody>\n",
       "</table>\n",
       "</div>"
      ],
      "text/plain": [
       "           product  \\\n",
       "0  Debt collection   \n",
       "1    Consumer Loan   \n",
       "\n",
       "                                                                                                                                                                                                                                                                                                                                                                                                                                                                                                                                                                                                                                                                                                                                                                                                                                                                                                                                                                                                              consumer_complaint_narrative  \n",
       "0                                                                                                                                                                                                                                                                                                                                                                                                                                                                                                                                                                                                                                                                                                                           XXXX has claimed I owe them {$27.00} for XXXX years despite the PROOF of PAYMENT I sent them : canceled check and their ownPAID INVOICE for {$27.00}! \\nThey continue to insist I owe them and collection agencies are after me. \\nHow can I stop this harassment for a bill I already paid four years ago? \\n  \n",
       "1  Due to inconsistencies in the amount owed that I was told by M & T Bank and the amount that was reported to the credit reporting agencies, I was advised to write a good will letter in order to address the issue and request the negative entry be removed from my credit report all together. I had a vehicle that was stolen and it was declared a total loss by insurance company. The insurance company and the GAP insurancw companypaid the outstanding balance of the loan, but I was told by M & T Bank that there was still a balance due on the loan. In good faith, without having received any proof as to why there was still a balance, I made a partial payment towards the remaining debt. I then sent the goodwill letter still offering to pay the remainder of the debt, but in exchange for the removal of the negative entry on my credit report. At one point, in XXXX 2015, per my credit monitoring agency, it showed a delinquent balance of {$0.00}, but when I checked my credit report again on XXXX X...  "
      ]
     },
     "metadata": {},
     "output_type": "display_data"
    }
   ],
   "source": [
    "# Read in dataset.\n",
    "dir_path = '../Playground-dataset/05-Try-out-Spacy-Pretrain-dataset'\n",
    "dataset = pd.read_csv(os.path.join(dir_path,'consumer_complaints_simple.csv'), header=0, index_col=None)\n",
    "dataset = dataset[['product', 'consumer_complaint_narrative']]\n",
    "display(dataset.head(n=2))"
   ]
  },
  {
   "cell_type": "code",
   "execution_count": 47,
   "metadata": {},
   "outputs": [],
   "source": [
    "# Experiment on smaller subset.\n",
    "dataset = dataset[:5000]\n",
    "dataset = dataset.reset_index(drop=True)"
   ]
  },
  {
   "cell_type": "code",
   "execution_count": 48,
   "metadata": {},
   "outputs": [
    {
     "data": {
      "text/plain": [
       "['XXXX has claimed I owe them {$27.00} for XXXX years despite the PROOF of PAYMENT I sent them : canceled check and their ownPAID INVOICE for {$27.00}! \\nThey continue to insist I owe them and collection agencies are after me. \\nHow can I stop this harassment for a bill I already paid four years ago? \\n',\n",
       " 'Due to inconsistencies in the amount owed that I was told by M & T Bank and the amount that was reported to the credit reporting agencies, I was advised to write a good will letter in order to address the issue and request the negative entry be removed from my credit report all together. I had a vehicle that was stolen and it was declared a total loss by insurance company. The insurance company and the GAP insurancw companypaid the outstanding balance of the loan, but I was told by M & T Bank that there was still a balance due on the loan. In good faith, without having received any proof as to why there was still a balance, I made a partial payment towards the remaining debt. I then sent the goodwill letter still offering to pay the remainder of the debt, but in exchange for the removal of the negative entry on my credit report. At one point, in XXXX 2015, per my credit monitoring agency, it showed a delinquent balance of {$0.00}, but when I checked my credit report again on XXXX XXXX 2015, there was a delinquent balance of {$1400.00}. The monies from the GAP insurance and my insurance company has been paid, M & T Bank says that I still owe {$620.00}, of which {$210.00} has already been paid. I contacted M & T Bank via return receipt mail, but I have not been given the courtesy of a response yet. \\n']"
      ]
     },
     "metadata": {},
     "output_type": "display_data"
    }
   ],
   "source": [
    "\n",
    "texts = list(dataset['consumer_complaint_narrative'])  # only use training dataset as pre-train dataset\n",
    "display(texts[:2])"
   ]
  },
  {
   "cell_type": "code",
   "execution_count": 49,
   "metadata": {},
   "outputs": [],
   "source": [
    "# Create Spacy compatible format\n",
    "final_ls = []\n",
    "for doc in texts:\n",
    "    final_ls.append({'text':doc})"
   ]
  },
  {
   "cell_type": "code",
   "execution_count": 50,
   "metadata": {},
   "outputs": [
    {
     "data": {
      "text/plain": [
       "[{'text': 'XXXX has claimed I owe them {$27.00} for XXXX years despite the PROOF of PAYMENT I sent them : canceled check and their ownPAID INVOICE for {$27.00}! \\nThey continue to insist I owe them and collection agencies are after me. \\nHow can I stop this harassment for a bill I already paid four years ago? \\n'},\n",
       " {'text': 'Due to inconsistencies in the amount owed that I was told by M & T Bank and the amount that was reported to the credit reporting agencies, I was advised to write a good will letter in order to address the issue and request the negative entry be removed from my credit report all together. I had a vehicle that was stolen and it was declared a total loss by insurance company. The insurance company and the GAP insurancw companypaid the outstanding balance of the loan, but I was told by M & T Bank that there was still a balance due on the loan. In good faith, without having received any proof as to why there was still a balance, I made a partial payment towards the remaining debt. I then sent the goodwill letter still offering to pay the remainder of the debt, but in exchange for the removal of the negative entry on my credit report. At one point, in XXXX 2015, per my credit monitoring agency, it showed a delinquent balance of {$0.00}, but when I checked my credit report again on XXXX XXXX 2015, there was a delinquent balance of {$1400.00}. The monies from the GAP insurance and my insurance company has been paid, M & T Bank says that I still owe {$620.00}, of which {$210.00} has already been paid. I contacted M & T Bank via return receipt mail, but I have not been given the courtesy of a response yet. \\n'}]"
      ]
     },
     "execution_count": 50,
     "metadata": {},
     "output_type": "execute_result"
    }
   ],
   "source": [
    "final_ls[:2]"
   ]
  },
  {
   "cell_type": "code",
   "execution_count": 51,
   "metadata": {},
   "outputs": [],
   "source": [
    "# data = [{\"text\": \"Some text\"}, {\"text\": \"More...\"}]\n",
    "srsly.write_jsonl(os.path.join(dir_path,\"text.jsonl\"), final_ls)"
   ]
  },
  {
   "cell_type": "code",
   "execution_count": null,
   "metadata": {},
   "outputs": [],
   "source": []
  }
 ],
 "metadata": {
  "kernelspec": {
   "display_name": "Python 3",
   "language": "python",
   "name": "python3"
  },
  "language_info": {
   "codemirror_mode": {
    "name": "ipython",
    "version": 3
   },
   "file_extension": ".py",
   "mimetype": "text/x-python",
   "name": "python",
   "nbconvert_exporter": "python",
   "pygments_lexer": "ipython3",
   "version": "3.7.1"
  },
  "toc": {
   "base_numbering": 1,
   "nav_menu": {},
   "number_sections": true,
   "sideBar": true,
   "skip_h1_title": false,
   "title_cell": "Table of Contents",
   "title_sidebar": "Contents",
   "toc_cell": false,
   "toc_position": {
    "height": "calc(100% - 180px)",
    "left": "10px",
    "top": "150px",
    "width": "272.865px"
   },
   "toc_section_display": true,
   "toc_window_display": true
  }
 },
 "nbformat": 4,
 "nbformat_minor": 2
}
