{
 "cells": [
  {
   "cell_type": "code",
   "execution_count": 1,
   "metadata": {},
   "outputs": [
    {
     "name": "stderr",
     "output_type": "stream",
     "text": [
      "[nltk_data] Downloading package wordnet to /Users/tomlin/nltk_data...\n",
      "[nltk_data]   Package wordnet is already up-to-date!\n"
     ]
    }
   ],
   "source": [
    "import numpy as np\n",
    "import pandas as pd\n",
    "from IPython.display import display\n",
    "import seaborn as sns\n",
    "import matplotlib.pyplot as plt\n",
    "import missingno as msno\n",
    "from nltk import word_tokenize\n",
    "from nltk.stem import WordNetLemmatizer\n",
    "import nltk\n",
    "nltk.download('wordnet')\n",
    "\n",
    "from sklearn.utils import shuffle\n",
    "from sklearn.model_selection import train_test_split\n",
    "from sklearn.feature_extraction.text import TfidfVectorizer\n",
    "from sklearn.externals import joblib\n",
    "\n",
    "import warnings\n",
    "warnings.filterwarnings('ignore')\n",
    "\n",
    "pd.options.display.float_format = '{:.2f}'.format\n",
    "\n",
    "%matplotlib inline"
   ]
  },
  {
   "cell_type": "code",
   "execution_count": 3,
   "metadata": {},
   "outputs": [],
   "source": [
    "# Function to print bold text in print().\n",
    "from IPython.display import Markdown, display\n",
    "\n",
    "def printmd(string):\n",
    "    \"\"\"\n",
    "    Ref: https://discuss.analyticsvidhya.com/t/how-to-make-a-text-bold-within-print-statement-in-ipython-notebook/14552\n",
    "    \"\"\"\n",
    "    display(Markdown(string))"
   ]
  },
  {
   "cell_type": "code",
   "execution_count": 36,
   "metadata": {
    "scrolled": true
   },
   "outputs": [
    {
     "data": {
      "text/markdown": [
       "**Columns in the dataframe:**\n"
      ],
      "text/plain": [
       "<IPython.core.display.Markdown object>"
      ]
     },
     "metadata": {},
     "output_type": "display_data"
    },
    {
     "name": "stdout",
     "output_type": "stream",
     "text": [
      "<class 'pandas.core.frame.DataFrame'>\n",
      "RangeIndex: 515738 entries, 0 to 515737\n",
      "Data columns (total 17 columns):\n",
      "hotel_address                                 515738 non-null object\n",
      "additional_number_of_scoring                  515738 non-null int64\n",
      "review_date                                   515738 non-null datetime64[ns]\n",
      "average_score                                 515738 non-null float64\n",
      "hotel_name                                    515738 non-null object\n",
      "reviewer_nationality                          515738 non-null object\n",
      "negative_review                               515738 non-null object\n",
      "review_total_negative_word_counts             515738 non-null int64\n",
      "total_number_of_reviews                       515738 non-null int64\n",
      "positive_review                               515738 non-null object\n",
      "review_total_positive_word_counts             515738 non-null int64\n",
      "total_number_of_reviews_reviewer_has_given    515738 non-null int64\n",
      "reviewer_score                                515738 non-null float64\n",
      "tags                                          515738 non-null object\n",
      "days_since_review                             515738 non-null object\n",
      "lat                                           512470 non-null float64\n",
      "lng                                           512470 non-null float64\n",
      "dtypes: datetime64[ns](1), float64(4), int64(5), object(7)\n",
      "memory usage: 66.9+ MB\n"
     ]
    }
   ],
   "source": [
    "dataset = pd.read_pickle('../Playground-dataset/01-Classification-Modeling-on-Hotel-Scoring/part1_dataset.pickle')\n",
    "cols = [col.lower() for col in dataset.columns.values]\n",
    "dataset.columns = np.array(cols)\n",
    "\n",
    "printmd('**Columns in the dataframe:**\\n')\n",
    "dataset.info()"
   ]
  },
  {
   "cell_type": "markdown",
   "metadata": {},
   "source": [
    "## Create Binned Target Variable"
   ]
  },
  {
   "cell_type": "code",
   "execution_count": 5,
   "metadata": {},
   "outputs": [],
   "source": [
    "# create customized bin width\n",
    "def bin_cut(df, col, bin_range):\n",
    "    \"\"\"Specify customized bin range for discretization.\"\"\"\n",
    "    target_bin = pd.cut(df[col], \n",
    "        bin_range, duplicates='drop') # drop off bins with the same index, incur less bin number\n",
    "\n",
    "    print('Share of Each Bin:')\n",
    "    bin_share = target_bin.groupby(target_bin).agg({'size': lambda x: x.size,\n",
    "                                                    'share': lambda x: x.size/len(target_bin)})\n",
    "    display(bin_share)\n",
    "\n",
    "    map_class = {}\n",
    "    for i, key in enumerate(sorted(target_bin.unique())):\n",
    "        map_class[key] = i\n",
    "    print('Bin and Class Label Correspondence:')\n",
    "    display(map_class)\n",
    "\n",
    "    target_bin_2 = target_bin.replace(map_class)\n",
    "    target_bin = pd.concat([target_bin, target_bin_2], axis=1)\n",
    "    target_bin.columns = ['{}_bin'.format(col), '{}_class'.format(col)]\n",
    "\n",
    "    return target_bin"
   ]
  },
  {
   "cell_type": "code",
   "execution_count": 37,
   "metadata": {},
   "outputs": [
    {
     "name": "stdout",
     "output_type": "stream",
     "text": [
      "Share of Each Bin:\n"
     ]
    },
    {
     "data": {
      "text/html": [
       "<div>\n",
       "<style scoped>\n",
       "    .dataframe tbody tr th:only-of-type {\n",
       "        vertical-align: middle;\n",
       "    }\n",
       "\n",
       "    .dataframe tbody tr th {\n",
       "        vertical-align: top;\n",
       "    }\n",
       "\n",
       "    .dataframe thead th {\n",
       "        text-align: right;\n",
       "    }\n",
       "</style>\n",
       "<table border=\"1\" class=\"dataframe\">\n",
       "  <thead>\n",
       "    <tr style=\"text-align: right;\">\n",
       "      <th></th>\n",
       "      <th>size</th>\n",
       "      <th>share</th>\n",
       "    </tr>\n",
       "    <tr>\n",
       "      <th>reviewer_score</th>\n",
       "      <th></th>\n",
       "      <th></th>\n",
       "    </tr>\n",
       "  </thead>\n",
       "  <tbody>\n",
       "    <tr>\n",
       "      <th>(0.0, 8.0]</th>\n",
       "      <td>180597</td>\n",
       "      <td>0.35</td>\n",
       "    </tr>\n",
       "    <tr>\n",
       "      <th>(8.0, 9.5]</th>\n",
       "      <td>148121</td>\n",
       "      <td>0.29</td>\n",
       "    </tr>\n",
       "    <tr>\n",
       "      <th>(9.5, 10.0]</th>\n",
       "      <td>187020</td>\n",
       "      <td>0.36</td>\n",
       "    </tr>\n",
       "  </tbody>\n",
       "</table>\n",
       "</div>"
      ],
      "text/plain": [
       "                  size  share\n",
       "reviewer_score               \n",
       "(0.0, 8.0]      180597   0.35\n",
       "(8.0, 9.5]      148121   0.29\n",
       "(9.5, 10.0]     187020   0.36"
      ]
     },
     "metadata": {},
     "output_type": "display_data"
    },
    {
     "name": "stdout",
     "output_type": "stream",
     "text": [
      "Bin and Class Label Correspondence:\n"
     ]
    },
    {
     "data": {
      "text/plain": [
       "{Interval(0.0, 8.0, closed='right'): 0,\n",
       " Interval(8.0, 9.5, closed='right'): 1,\n",
       " Interval(9.5, 10.0, closed='right'): 2}"
      ]
     },
     "metadata": {},
     "output_type": "display_data"
    }
   ],
   "source": [
    "discrete_target = bin_cut(df=dataset, col='reviewer_score', bin_range=[0,8,9.5,10])"
   ]
  },
  {
   "cell_type": "code",
   "execution_count": 38,
   "metadata": {},
   "outputs": [
    {
     "data": {
      "text/html": [
       "<div>\n",
       "<style scoped>\n",
       "    .dataframe tbody tr th:only-of-type {\n",
       "        vertical-align: middle;\n",
       "    }\n",
       "\n",
       "    .dataframe tbody tr th {\n",
       "        vertical-align: top;\n",
       "    }\n",
       "\n",
       "    .dataframe thead th {\n",
       "        text-align: right;\n",
       "    }\n",
       "</style>\n",
       "<table border=\"1\" class=\"dataframe\">\n",
       "  <thead>\n",
       "    <tr style=\"text-align: right;\">\n",
       "      <th></th>\n",
       "      <th>reviewer_score_class</th>\n",
       "    </tr>\n",
       "  </thead>\n",
       "  <tbody>\n",
       "    <tr>\n",
       "      <th>0</th>\n",
       "      <td>0</td>\n",
       "    </tr>\n",
       "    <tr>\n",
       "      <th>1</th>\n",
       "      <td>0</td>\n",
       "    </tr>\n",
       "    <tr>\n",
       "      <th>2</th>\n",
       "      <td>0</td>\n",
       "    </tr>\n",
       "    <tr>\n",
       "      <th>3</th>\n",
       "      <td>0</td>\n",
       "    </tr>\n",
       "    <tr>\n",
       "      <th>4</th>\n",
       "      <td>0</td>\n",
       "    </tr>\n",
       "  </tbody>\n",
       "</table>\n",
       "</div>"
      ],
      "text/plain": [
       "   reviewer_score_class\n",
       "0                     0\n",
       "1                     0\n",
       "2                     0\n",
       "3                     0\n",
       "4                     0"
      ]
     },
     "metadata": {},
     "output_type": "display_data"
    }
   ],
   "source": [
    "discrete_target = discrete_target[['reviewer_score_class']]\n",
    "display(discrete_target.head())"
   ]
  },
  {
   "cell_type": "code",
   "execution_count": 39,
   "metadata": {},
   "outputs": [
    {
     "data": {
      "text/plain": [
       "(515738, 1)"
      ]
     },
     "execution_count": 39,
     "metadata": {},
     "output_type": "execute_result"
    }
   ],
   "source": [
    "discrete_target.shape"
   ]
  },
  {
   "cell_type": "code",
   "execution_count": 40,
   "metadata": {},
   "outputs": [
    {
     "data": {
      "text/plain": [
       "(515738, 17)"
      ]
     },
     "execution_count": 40,
     "metadata": {},
     "output_type": "execute_result"
    }
   ],
   "source": [
    "dataset.shape"
   ]
  },
  {
   "cell_type": "code",
   "execution_count": 41,
   "metadata": {},
   "outputs": [],
   "source": [
    "dataset_2 = pd.concat([dataset, discrete_target], axis=1)"
   ]
  },
  {
   "cell_type": "code",
   "execution_count": 42,
   "metadata": {},
   "outputs": [
    {
     "data": {
      "text/plain": [
       "(515738, 18)"
      ]
     },
     "execution_count": 42,
     "metadata": {},
     "output_type": "execute_result"
    }
   ],
   "source": [
    "dataset_2.shape"
   ]
  },
  {
   "cell_type": "code",
   "execution_count": 43,
   "metadata": {},
   "outputs": [
    {
     "data": {
      "text/html": [
       "<div>\n",
       "<style scoped>\n",
       "    .dataframe tbody tr th:only-of-type {\n",
       "        vertical-align: middle;\n",
       "    }\n",
       "\n",
       "    .dataframe tbody tr th {\n",
       "        vertical-align: top;\n",
       "    }\n",
       "\n",
       "    .dataframe thead th {\n",
       "        text-align: right;\n",
       "    }\n",
       "</style>\n",
       "<table border=\"1\" class=\"dataframe\">\n",
       "  <thead>\n",
       "    <tr style=\"text-align: right;\">\n",
       "      <th></th>\n",
       "      <th>hotel_address</th>\n",
       "      <th>additional_number_of_scoring</th>\n",
       "      <th>review_date</th>\n",
       "      <th>average_score</th>\n",
       "      <th>hotel_name</th>\n",
       "      <th>reviewer_nationality</th>\n",
       "      <th>negative_review</th>\n",
       "      <th>review_total_negative_word_counts</th>\n",
       "      <th>total_number_of_reviews</th>\n",
       "      <th>positive_review</th>\n",
       "      <th>review_total_positive_word_counts</th>\n",
       "      <th>total_number_of_reviews_reviewer_has_given</th>\n",
       "      <th>reviewer_score</th>\n",
       "      <th>tags</th>\n",
       "      <th>days_since_review</th>\n",
       "      <th>lat</th>\n",
       "      <th>lng</th>\n",
       "      <th>reviewer_score_class</th>\n",
       "    </tr>\n",
       "  </thead>\n",
       "  <tbody>\n",
       "    <tr>\n",
       "      <th>0</th>\n",
       "      <td>s Gravesandestraat 55 Oost 1092 AA Amsterdam ...</td>\n",
       "      <td>194</td>\n",
       "      <td>2017-08-03</td>\n",
       "      <td>7.70</td>\n",
       "      <td>Hotel Arena</td>\n",
       "      <td>Russia</td>\n",
       "      <td>I am so angry that i made this post available...</td>\n",
       "      <td>397</td>\n",
       "      <td>1403</td>\n",
       "      <td>Only the park outside of the hotel was beauti...</td>\n",
       "      <td>11</td>\n",
       "      <td>7</td>\n",
       "      <td>2.90</td>\n",
       "      <td>[' Leisure trip ', ' Couple ', ' Duplex Double...</td>\n",
       "      <td>0 days</td>\n",
       "      <td>52.36</td>\n",
       "      <td>4.92</td>\n",
       "      <td>0</td>\n",
       "    </tr>\n",
       "    <tr>\n",
       "      <th>1</th>\n",
       "      <td>s Gravesandestraat 55 Oost 1092 AA Amsterdam ...</td>\n",
       "      <td>194</td>\n",
       "      <td>2017-08-03</td>\n",
       "      <td>7.70</td>\n",
       "      <td>Hotel Arena</td>\n",
       "      <td>Ireland</td>\n",
       "      <td>No Negative</td>\n",
       "      <td>0</td>\n",
       "      <td>1403</td>\n",
       "      <td>No real complaints the hotel was great great ...</td>\n",
       "      <td>105</td>\n",
       "      <td>7</td>\n",
       "      <td>7.50</td>\n",
       "      <td>[' Leisure trip ', ' Couple ', ' Duplex Double...</td>\n",
       "      <td>0 days</td>\n",
       "      <td>52.36</td>\n",
       "      <td>4.92</td>\n",
       "      <td>0</td>\n",
       "    </tr>\n",
       "    <tr>\n",
       "      <th>2</th>\n",
       "      <td>s Gravesandestraat 55 Oost 1092 AA Amsterdam ...</td>\n",
       "      <td>194</td>\n",
       "      <td>2017-07-31</td>\n",
       "      <td>7.70</td>\n",
       "      <td>Hotel Arena</td>\n",
       "      <td>Australia</td>\n",
       "      <td>Rooms are nice but for elderly a bit difficul...</td>\n",
       "      <td>42</td>\n",
       "      <td>1403</td>\n",
       "      <td>Location was good and staff were ok It is cut...</td>\n",
       "      <td>21</td>\n",
       "      <td>9</td>\n",
       "      <td>7.10</td>\n",
       "      <td>[' Leisure trip ', ' Family with young childre...</td>\n",
       "      <td>3 days</td>\n",
       "      <td>52.36</td>\n",
       "      <td>4.92</td>\n",
       "      <td>0</td>\n",
       "    </tr>\n",
       "    <tr>\n",
       "      <th>3</th>\n",
       "      <td>s Gravesandestraat 55 Oost 1092 AA Amsterdam ...</td>\n",
       "      <td>194</td>\n",
       "      <td>2017-07-31</td>\n",
       "      <td>7.70</td>\n",
       "      <td>Hotel Arena</td>\n",
       "      <td>United Kingdom</td>\n",
       "      <td>My room was dirty and I was afraid to walk ba...</td>\n",
       "      <td>210</td>\n",
       "      <td>1403</td>\n",
       "      <td>Great location in nice surroundings the bar a...</td>\n",
       "      <td>26</td>\n",
       "      <td>1</td>\n",
       "      <td>3.80</td>\n",
       "      <td>[' Leisure trip ', ' Solo traveler ', ' Duplex...</td>\n",
       "      <td>3 days</td>\n",
       "      <td>52.36</td>\n",
       "      <td>4.92</td>\n",
       "      <td>0</td>\n",
       "    </tr>\n",
       "    <tr>\n",
       "      <th>4</th>\n",
       "      <td>s Gravesandestraat 55 Oost 1092 AA Amsterdam ...</td>\n",
       "      <td>194</td>\n",
       "      <td>2017-07-24</td>\n",
       "      <td>7.70</td>\n",
       "      <td>Hotel Arena</td>\n",
       "      <td>New Zealand</td>\n",
       "      <td>You When I booked with your company on line y...</td>\n",
       "      <td>140</td>\n",
       "      <td>1403</td>\n",
       "      <td>Amazing location and building Romantic setting</td>\n",
       "      <td>8</td>\n",
       "      <td>3</td>\n",
       "      <td>6.70</td>\n",
       "      <td>[' Leisure trip ', ' Couple ', ' Suite ', ' St...</td>\n",
       "      <td>10 days</td>\n",
       "      <td>52.36</td>\n",
       "      <td>4.92</td>\n",
       "      <td>0</td>\n",
       "    </tr>\n",
       "  </tbody>\n",
       "</table>\n",
       "</div>"
      ],
      "text/plain": [
       "                                       hotel_address  \\\n",
       "0   s Gravesandestraat 55 Oost 1092 AA Amsterdam ...   \n",
       "1   s Gravesandestraat 55 Oost 1092 AA Amsterdam ...   \n",
       "2   s Gravesandestraat 55 Oost 1092 AA Amsterdam ...   \n",
       "3   s Gravesandestraat 55 Oost 1092 AA Amsterdam ...   \n",
       "4   s Gravesandestraat 55 Oost 1092 AA Amsterdam ...   \n",
       "\n",
       "   additional_number_of_scoring review_date  average_score   hotel_name  \\\n",
       "0                           194  2017-08-03           7.70  Hotel Arena   \n",
       "1                           194  2017-08-03           7.70  Hotel Arena   \n",
       "2                           194  2017-07-31           7.70  Hotel Arena   \n",
       "3                           194  2017-07-31           7.70  Hotel Arena   \n",
       "4                           194  2017-07-24           7.70  Hotel Arena   \n",
       "\n",
       "  reviewer_nationality                                    negative_review  \\\n",
       "0              Russia    I am so angry that i made this post available...   \n",
       "1             Ireland                                         No Negative   \n",
       "2           Australia    Rooms are nice but for elderly a bit difficul...   \n",
       "3      United Kingdom    My room was dirty and I was afraid to walk ba...   \n",
       "4         New Zealand    You When I booked with your company on line y...   \n",
       "\n",
       "   review_total_negative_word_counts  total_number_of_reviews  \\\n",
       "0                                397                     1403   \n",
       "1                                  0                     1403   \n",
       "2                                 42                     1403   \n",
       "3                                210                     1403   \n",
       "4                                140                     1403   \n",
       "\n",
       "                                     positive_review  \\\n",
       "0   Only the park outside of the hotel was beauti...   \n",
       "1   No real complaints the hotel was great great ...   \n",
       "2   Location was good and staff were ok It is cut...   \n",
       "3   Great location in nice surroundings the bar a...   \n",
       "4    Amazing location and building Romantic setting    \n",
       "\n",
       "   review_total_positive_word_counts  \\\n",
       "0                                 11   \n",
       "1                                105   \n",
       "2                                 21   \n",
       "3                                 26   \n",
       "4                                  8   \n",
       "\n",
       "   total_number_of_reviews_reviewer_has_given  reviewer_score  \\\n",
       "0                                           7            2.90   \n",
       "1                                           7            7.50   \n",
       "2                                           9            7.10   \n",
       "3                                           1            3.80   \n",
       "4                                           3            6.70   \n",
       "\n",
       "                                                tags days_since_review   lat  \\\n",
       "0  [' Leisure trip ', ' Couple ', ' Duplex Double...            0 days 52.36   \n",
       "1  [' Leisure trip ', ' Couple ', ' Duplex Double...            0 days 52.36   \n",
       "2  [' Leisure trip ', ' Family with young childre...            3 days 52.36   \n",
       "3  [' Leisure trip ', ' Solo traveler ', ' Duplex...            3 days 52.36   \n",
       "4  [' Leisure trip ', ' Couple ', ' Suite ', ' St...           10 days 52.36   \n",
       "\n",
       "   lng  reviewer_score_class  \n",
       "0 4.92                     0  \n",
       "1 4.92                     0  \n",
       "2 4.92                     0  \n",
       "3 4.92                     0  \n",
       "4 4.92                     0  "
      ]
     },
     "execution_count": 43,
     "metadata": {},
     "output_type": "execute_result"
    }
   ],
   "source": [
    "dataset_2.head()"
   ]
  },
  {
   "cell_type": "code",
   "execution_count": 52,
   "metadata": {},
   "outputs": [],
   "source": [
    "# Concatenate the reviews\n",
    "dataset_2['negative_review'] = dataset_2['negative_review'].apply(lambda x: x.strip())\n",
    "dataset_2['positive_review'] = dataset_2['positive_review'].apply(lambda x: x.strip())\n",
    "dataset_2[\"combined_review\"] = dataset_2[\n",
    "    [\"negative_review\",\"positive_review\"]].apply(lambda x: \" \".join(x), axis=1)\n"
   ]
  },
  {
   "cell_type": "code",
   "execution_count": 53,
   "metadata": {},
   "outputs": [
    {
     "data": {
      "text/html": [
       "<div>\n",
       "<style scoped>\n",
       "    .dataframe tbody tr th:only-of-type {\n",
       "        vertical-align: middle;\n",
       "    }\n",
       "\n",
       "    .dataframe tbody tr th {\n",
       "        vertical-align: top;\n",
       "    }\n",
       "\n",
       "    .dataframe thead th {\n",
       "        text-align: right;\n",
       "    }\n",
       "</style>\n",
       "<table border=\"1\" class=\"dataframe\">\n",
       "  <thead>\n",
       "    <tr style=\"text-align: right;\">\n",
       "      <th></th>\n",
       "      <th>hotel_address</th>\n",
       "      <th>additional_number_of_scoring</th>\n",
       "      <th>review_date</th>\n",
       "      <th>average_score</th>\n",
       "      <th>hotel_name</th>\n",
       "      <th>reviewer_nationality</th>\n",
       "      <th>negative_review</th>\n",
       "      <th>review_total_negative_word_counts</th>\n",
       "      <th>total_number_of_reviews</th>\n",
       "      <th>positive_review</th>\n",
       "      <th>review_total_positive_word_counts</th>\n",
       "      <th>total_number_of_reviews_reviewer_has_given</th>\n",
       "      <th>reviewer_score</th>\n",
       "      <th>tags</th>\n",
       "      <th>days_since_review</th>\n",
       "      <th>lat</th>\n",
       "      <th>lng</th>\n",
       "      <th>reviewer_score_class</th>\n",
       "      <th>combined_review</th>\n",
       "    </tr>\n",
       "  </thead>\n",
       "  <tbody>\n",
       "    <tr>\n",
       "      <th>0</th>\n",
       "      <td>s Gravesandestraat 55 Oost 1092 AA Amsterdam ...</td>\n",
       "      <td>194</td>\n",
       "      <td>2017-08-03</td>\n",
       "      <td>7.70</td>\n",
       "      <td>Hotel Arena</td>\n",
       "      <td>Russia</td>\n",
       "      <td>I am so angry that i made this post available ...</td>\n",
       "      <td>397</td>\n",
       "      <td>1403</td>\n",
       "      <td>Only the park outside of the hotel was beautiful</td>\n",
       "      <td>11</td>\n",
       "      <td>7</td>\n",
       "      <td>2.90</td>\n",
       "      <td>[' Leisure trip ', ' Couple ', ' Duplex Double...</td>\n",
       "      <td>0 days</td>\n",
       "      <td>52.36</td>\n",
       "      <td>4.92</td>\n",
       "      <td>0</td>\n",
       "      <td>I am so angry that i made this post available ...</td>\n",
       "    </tr>\n",
       "    <tr>\n",
       "      <th>1</th>\n",
       "      <td>s Gravesandestraat 55 Oost 1092 AA Amsterdam ...</td>\n",
       "      <td>194</td>\n",
       "      <td>2017-08-03</td>\n",
       "      <td>7.70</td>\n",
       "      <td>Hotel Arena</td>\n",
       "      <td>Ireland</td>\n",
       "      <td>No Negative</td>\n",
       "      <td>0</td>\n",
       "      <td>1403</td>\n",
       "      <td>No real complaints the hotel was great great l...</td>\n",
       "      <td>105</td>\n",
       "      <td>7</td>\n",
       "      <td>7.50</td>\n",
       "      <td>[' Leisure trip ', ' Couple ', ' Duplex Double...</td>\n",
       "      <td>0 days</td>\n",
       "      <td>52.36</td>\n",
       "      <td>4.92</td>\n",
       "      <td>0</td>\n",
       "      <td>No Negative No real complaints the hotel was g...</td>\n",
       "    </tr>\n",
       "    <tr>\n",
       "      <th>2</th>\n",
       "      <td>s Gravesandestraat 55 Oost 1092 AA Amsterdam ...</td>\n",
       "      <td>194</td>\n",
       "      <td>2017-07-31</td>\n",
       "      <td>7.70</td>\n",
       "      <td>Hotel Arena</td>\n",
       "      <td>Australia</td>\n",
       "      <td>Rooms are nice but for elderly a bit difficult...</td>\n",
       "      <td>42</td>\n",
       "      <td>1403</td>\n",
       "      <td>Location was good and staff were ok It is cute...</td>\n",
       "      <td>21</td>\n",
       "      <td>9</td>\n",
       "      <td>7.10</td>\n",
       "      <td>[' Leisure trip ', ' Family with young childre...</td>\n",
       "      <td>3 days</td>\n",
       "      <td>52.36</td>\n",
       "      <td>4.92</td>\n",
       "      <td>0</td>\n",
       "      <td>Rooms are nice but for elderly a bit difficult...</td>\n",
       "    </tr>\n",
       "    <tr>\n",
       "      <th>3</th>\n",
       "      <td>s Gravesandestraat 55 Oost 1092 AA Amsterdam ...</td>\n",
       "      <td>194</td>\n",
       "      <td>2017-07-31</td>\n",
       "      <td>7.70</td>\n",
       "      <td>Hotel Arena</td>\n",
       "      <td>United Kingdom</td>\n",
       "      <td>My room was dirty and I was afraid to walk bar...</td>\n",
       "      <td>210</td>\n",
       "      <td>1403</td>\n",
       "      <td>Great location in nice surroundings the bar an...</td>\n",
       "      <td>26</td>\n",
       "      <td>1</td>\n",
       "      <td>3.80</td>\n",
       "      <td>[' Leisure trip ', ' Solo traveler ', ' Duplex...</td>\n",
       "      <td>3 days</td>\n",
       "      <td>52.36</td>\n",
       "      <td>4.92</td>\n",
       "      <td>0</td>\n",
       "      <td>My room was dirty and I was afraid to walk bar...</td>\n",
       "    </tr>\n",
       "    <tr>\n",
       "      <th>4</th>\n",
       "      <td>s Gravesandestraat 55 Oost 1092 AA Amsterdam ...</td>\n",
       "      <td>194</td>\n",
       "      <td>2017-07-24</td>\n",
       "      <td>7.70</td>\n",
       "      <td>Hotel Arena</td>\n",
       "      <td>New Zealand</td>\n",
       "      <td>You When I booked with your company on line yo...</td>\n",
       "      <td>140</td>\n",
       "      <td>1403</td>\n",
       "      <td>Amazing location and building Romantic setting</td>\n",
       "      <td>8</td>\n",
       "      <td>3</td>\n",
       "      <td>6.70</td>\n",
       "      <td>[' Leisure trip ', ' Couple ', ' Suite ', ' St...</td>\n",
       "      <td>10 days</td>\n",
       "      <td>52.36</td>\n",
       "      <td>4.92</td>\n",
       "      <td>0</td>\n",
       "      <td>You When I booked with your company on line yo...</td>\n",
       "    </tr>\n",
       "  </tbody>\n",
       "</table>\n",
       "</div>"
      ],
      "text/plain": [
       "                                       hotel_address  \\\n",
       "0   s Gravesandestraat 55 Oost 1092 AA Amsterdam ...   \n",
       "1   s Gravesandestraat 55 Oost 1092 AA Amsterdam ...   \n",
       "2   s Gravesandestraat 55 Oost 1092 AA Amsterdam ...   \n",
       "3   s Gravesandestraat 55 Oost 1092 AA Amsterdam ...   \n",
       "4   s Gravesandestraat 55 Oost 1092 AA Amsterdam ...   \n",
       "\n",
       "   additional_number_of_scoring review_date  average_score   hotel_name  \\\n",
       "0                           194  2017-08-03           7.70  Hotel Arena   \n",
       "1                           194  2017-08-03           7.70  Hotel Arena   \n",
       "2                           194  2017-07-31           7.70  Hotel Arena   \n",
       "3                           194  2017-07-31           7.70  Hotel Arena   \n",
       "4                           194  2017-07-24           7.70  Hotel Arena   \n",
       "\n",
       "  reviewer_nationality                                    negative_review  \\\n",
       "0              Russia   I am so angry that i made this post available ...   \n",
       "1             Ireland                                         No Negative   \n",
       "2           Australia   Rooms are nice but for elderly a bit difficult...   \n",
       "3      United Kingdom   My room was dirty and I was afraid to walk bar...   \n",
       "4         New Zealand   You When I booked with your company on line yo...   \n",
       "\n",
       "   review_total_negative_word_counts  total_number_of_reviews  \\\n",
       "0                                397                     1403   \n",
       "1                                  0                     1403   \n",
       "2                                 42                     1403   \n",
       "3                                210                     1403   \n",
       "4                                140                     1403   \n",
       "\n",
       "                                     positive_review  \\\n",
       "0   Only the park outside of the hotel was beautiful   \n",
       "1  No real complaints the hotel was great great l...   \n",
       "2  Location was good and staff were ok It is cute...   \n",
       "3  Great location in nice surroundings the bar an...   \n",
       "4     Amazing location and building Romantic setting   \n",
       "\n",
       "   review_total_positive_word_counts  \\\n",
       "0                                 11   \n",
       "1                                105   \n",
       "2                                 21   \n",
       "3                                 26   \n",
       "4                                  8   \n",
       "\n",
       "   total_number_of_reviews_reviewer_has_given  reviewer_score  \\\n",
       "0                                           7            2.90   \n",
       "1                                           7            7.50   \n",
       "2                                           9            7.10   \n",
       "3                                           1            3.80   \n",
       "4                                           3            6.70   \n",
       "\n",
       "                                                tags days_since_review   lat  \\\n",
       "0  [' Leisure trip ', ' Couple ', ' Duplex Double...            0 days 52.36   \n",
       "1  [' Leisure trip ', ' Couple ', ' Duplex Double...            0 days 52.36   \n",
       "2  [' Leisure trip ', ' Family with young childre...            3 days 52.36   \n",
       "3  [' Leisure trip ', ' Solo traveler ', ' Duplex...            3 days 52.36   \n",
       "4  [' Leisure trip ', ' Couple ', ' Suite ', ' St...           10 days 52.36   \n",
       "\n",
       "   lng  reviewer_score_class  \\\n",
       "0 4.92                     0   \n",
       "1 4.92                     0   \n",
       "2 4.92                     0   \n",
       "3 4.92                     0   \n",
       "4 4.92                     0   \n",
       "\n",
       "                                     combined_review  \n",
       "0  I am so angry that i made this post available ...  \n",
       "1  No Negative No real complaints the hotel was g...  \n",
       "2  Rooms are nice but for elderly a bit difficult...  \n",
       "3  My room was dirty and I was afraid to walk bar...  \n",
       "4  You When I booked with your company on line yo...  "
      ]
     },
     "execution_count": 53,
     "metadata": {},
     "output_type": "execute_result"
    }
   ],
   "source": [
    "dataset_2.head()"
   ]
  },
  {
   "cell_type": "code",
   "execution_count": 54,
   "metadata": {},
   "outputs": [
    {
     "name": "stdout",
     "output_type": "stream",
     "text": [
      "1000\n",
      "[356054 395957 468352 281462 498978]\n"
     ]
    }
   ],
   "source": [
    "# Sample the dataset\n",
    "idx = np.random.RandomState(1).permutation(dataset_2.shape[0])[:1000]\n",
    "print(len(idx))\n",
    "print(idx[:5])"
   ]
  },
  {
   "cell_type": "code",
   "execution_count": 55,
   "metadata": {},
   "outputs": [
    {
     "data": {
      "text/plain": [
       "(1000, 19)"
      ]
     },
     "execution_count": 55,
     "metadata": {},
     "output_type": "execute_result"
    }
   ],
   "source": [
    "dataset_3 = dataset_2.iloc[idx,:]\n",
    "dataset_3.shape"
   ]
  },
  {
   "cell_type": "markdown",
   "metadata": {},
   "source": [
    "## Prepare Training Dataset as Spacy Requires"
   ]
  },
  {
   "cell_type": "code",
   "execution_count": 79,
   "metadata": {},
   "outputs": [],
   "source": [
    "train_df = dataset_3['combined_review']\n",
    "classes = pd.get_dummies(dataset_3['reviewer_score_class'])\n",
    "classes.columns = ['low','medium','high']"
   ]
  },
  {
   "cell_type": "code",
   "execution_count": 117,
   "metadata": {},
   "outputs": [
    {
     "data": {
      "text/plain": [
       "[('No Negative Nothing was too much trouble The staff were attentive at all times and the hotel staff made the stay very comfortable',\n",
       "  {'cats': {'low': 0, 'medium': 0, 'high': 1}}),\n",
       " ('I had a Junior suite The bed was only a queen size My brother got a king in his I loved there shower It felt like you were under a fire hose Great hotel',\n",
       "  {'cats': {'low': 0, 'medium': 0, 'high': 1}}),\n",
       " ('staff could be less rude the pool area is horrible beds really comfy and the location is great also maid was such a sweetheart',\n",
       "  {'cats': {'low': 1, 'medium': 0, 'high': 0}}),\n",
       " ('No Negative Really nice hotel good facilities great staff and very clean Only minor issue was temperature of main pool Would definitely recommend though',\n",
       "  {'cats': {'low': 0, 'medium': 0, 'high': 1}}),\n",
       " ('No Negative Everything is super And room and design Very clean Super',\n",
       "  {'cats': {'low': 0, 'medium': 0, 'high': 1}})]"
      ]
     },
     "execution_count": 117,
     "metadata": {},
     "output_type": "execute_result"
    }
   ],
   "source": [
    "train_ls = [(train_df.iloc[i], {'cats':classes.iloc[i].to_dict()}) for i in range(len(train_df))]\n",
    "train_ls[:5]"
   ]
  },
  {
   "cell_type": "code",
   "execution_count": 118,
   "metadata": {},
   "outputs": [],
   "source": [
    "def load_data(list_, sample_limit = 0, split = 0.7):\n",
    "    train_data = list_\n",
    "    np.random.shuffle(train_data)\n",
    "    train_data = train_data[-limit:]\n",
    "    split_idx = int(len(train_data)*split)\n",
    "    train_ls, valid_ls = train_data[:split_idx], train_data[split_idx:]\n",
    "    return train_ls, valid_ls"
   ]
  },
  {
   "cell_type": "code",
   "execution_count": 119,
   "metadata": {},
   "outputs": [],
   "source": [
    "train_ls, valid_ls = load_data(train_ls)"
   ]
  },
  {
   "cell_type": "code",
   "execution_count": null,
   "metadata": {},
   "outputs": [],
   "source": [
    "def evaluate(tokenizer, textcat, texts, cats):\n",
    "    docs = (tokenizer(text) for text in texts)\n",
    "    tp = 1e-8  # True positives\n",
    "    fp = 1e-8  # False positives\n",
    "    fn = 1e-8  # False negatives\n",
    "    tn = 1e-8  # True negatives\n",
    "    for i, doc in enumerate(textcat.pipe(docs)):\n",
    "        gold = cats[i]\n",
    "        for label, score in doc.cats.items():\n",
    "            if label not in gold:\n",
    "                continue\n",
    "            if score >= 0.5 and gold[label] >= 0.5:\n",
    "                tp += 1.\n",
    "            elif score >= 0.5 and gold[label] < 0.5:\n",
    "                fp += 1.\n",
    "            elif score < 0.5 and gold[label] < 0.5:\n",
    "                tn += 1\n",
    "            elif score < 0.5 and gold[label] >= 0.5:\n",
    "                fn += 1\n",
    "    precision = tp / (tp + fp)\n",
    "    recall = tp / (tp + fn)\n",
    "    f_score = 2 * (precision * recall) / (precision + recall)\n",
    "    return {'textcat_p': precision, 'textcat_r': recall, 'textcat_f': f_score}"
   ]
  },
  {
   "cell_type": "markdown",
   "metadata": {},
   "source": [
    "## Build up Spacy Classifier"
   ]
  },
  {
   "cell_type": "code",
   "execution_count": 229,
   "metadata": {},
   "outputs": [],
   "source": [
    "import spacy\n",
    "nlp = spacy.load('en_core_web_sm')"
   ]
  },
  {
   "cell_type": "code",
   "execution_count": 230,
   "metadata": {},
   "outputs": [],
   "source": [
    "if 'textcat' not in nlp.pipe_names:\n",
    "    textcat = nlp.create_pipe('textcat')\n",
    "    nlp.add_pipe(textcat, last=True)\n",
    "# otherwise, get it, so we can add labels to it\n",
    "else:\n",
    "    textcat = nlp.get_pipe('textcat')"
   ]
  },
  {
   "cell_type": "code",
   "execution_count": 231,
   "metadata": {},
   "outputs": [
    {
     "data": {
      "text/plain": [
       "1"
      ]
     },
     "execution_count": 231,
     "metadata": {},
     "output_type": "execute_result"
    }
   ],
   "source": [
    "# add label to text classifier\n",
    "textcat.add_label('low')\n",
    "textcat.add_label('medium')\n",
    "textcat.add_label('high')"
   ]
  },
  {
   "cell_type": "code",
   "execution_count": 232,
   "metadata": {
    "scrolled": true
   },
   "outputs": [
    {
     "data": {
      "text/plain": [
       "['low', 'medium', 'high']"
      ]
     },
     "execution_count": 232,
     "metadata": {},
     "output_type": "execute_result"
    }
   ],
   "source": [
    "textcat.labels"
   ]
  },
  {
   "cell_type": "code",
   "execution_count": 233,
   "metadata": {},
   "outputs": [],
   "source": [
    "from spacy.util import minibatch, compounding\n",
    "from sklearn.metrics import f1_score"
   ]
  },
  {
   "cell_type": "code",
   "execution_count": 234,
   "metadata": {},
   "outputs": [
    {
     "name": "stdout",
     "output_type": "stream",
     "text": [
      "Warning: Unnamed vectors -- this won't allow multiple vectors models to be loaded. (Shape: (0, 0))\n",
      "Training the model...\n",
      "textcat loss: 149.624\tf1 score: 0.489\n",
      "textcat loss: 122.105\tf1 score: 0.545\n",
      "textcat loss: 97.492\tf1 score: 0.555\n",
      "textcat loss: 75.275\tf1 score: 0.556\n",
      "textcat loss: 62.243\tf1 score: 0.593\n",
      "textcat loss: 48.667\tf1 score: 0.583\n",
      "textcat loss: 37.764\tf1 score: 0.569\n",
      "textcat loss: 33.416\tf1 score: 0.576\n",
      "textcat loss: 28.159\tf1 score: 0.579\n",
      "textcat loss: 20.856\tf1 score: 0.572\n"
     ]
    }
   ],
   "source": [
    "n_iter = 10\n",
    "# Train model\n",
    "other_pipes = [pipe for pipe in nlp.pipe_names if pipe != 'textcat']\n",
    "with nlp.disable_pipes(*other_pipes):  # only train textcat\n",
    "    optimizer = nlp.begin_training()\n",
    "    print(\"Training the model...\")\n",
    "    # print('{:^5}\\t{:^5}\\t{:^5}\\t{:^5}'.format('LOSS', 'P', 'R', 'F'))\n",
    "    for i in range(n_iter):\n",
    "        losses = {}\n",
    "        true_labels = list()\n",
    "        pdt_labels = list()\n",
    "        \n",
    "        # batch up the examples using spaCy's minibatch\n",
    "        batches = minibatch(train_ls, size=compounding(4., 32., 1.001))\n",
    "        for batch in batches:\n",
    "            texts, annotations = zip(*batch)\n",
    "            nlp.update(texts, annotations, sgd=optimizer, drop=0.2,\n",
    "                       losses=losses)\n",
    "        with textcat.model.use_params(optimizer.averages):\n",
    "            # evaluate on the dev data split off in load_data()\n",
    "            docs = [nlp.tokenizer(text) for text in valid_text]\n",
    "            for i, doc in enumerate(textcat.pipe(docs)):\n",
    "                true_series = pd.Series(valid_label[i]['cats'])\n",
    "                true_label = map_ls[true_series.argmax()]\n",
    "                true_labels.append(true_label)\n",
    "    \n",
    "                pdt_series = pd.Series(doc.cats)\n",
    "                pdt_label = map_ls[pdt_series.argmax()]\n",
    "                pdt_labels.append(pdt_label)\n",
    "            score = f1_score(true_labels,pdt_labels, average='weighted')\n",
    "            print('textcat loss: {:.3f}\\tf1 score: {:.3f}'.format(losses['textcat'],score))\n"
   ]
  },
  {
   "cell_type": "markdown",
   "metadata": {},
   "source": [
    "## Use Pretrain Vectors"
   ]
  },
  {
   "cell_type": "code",
   "execution_count": 244,
   "metadata": {},
   "outputs": [],
   "source": [
    "import srsly"
   ]
  },
  {
   "cell_type": "code",
   "execution_count": 239,
   "metadata": {},
   "outputs": [],
   "source": [
    "text, lab = list(zip(*train_ls))"
   ]
  },
  {
   "cell_type": "code",
   "execution_count": 241,
   "metadata": {},
   "outputs": [],
   "source": [
    "final_ls = []\n",
    "for doc in text:\n",
    "    final_ls.append({'text':doc})"
   ]
  },
  {
   "cell_type": "code",
   "execution_count": 243,
   "metadata": {},
   "outputs": [
    {
     "data": {
      "text/plain": [
       "[{'text': 'Our room did not have a window so no natural light was very dark Wifi was limited to an hour for the price of the hotel should have been free wifi Drinks at the bar very expensive The location was excellent The facilities are very good the gym was open 24 hours the staff very friendly and polite'},\n",
       " {'text': 'Everything Couldn t fault it in anyway I would definitely stay there again and recommend it to friends and family'}]"
      ]
     },
     "execution_count": 243,
     "metadata": {},
     "output_type": "execute_result"
    }
   ],
   "source": [
    "final_ls[:2]"
   ]
  },
  {
   "cell_type": "code",
   "execution_count": 245,
   "metadata": {},
   "outputs": [],
   "source": [
    "# data = [{\"text\": \"Some text\"}, {\"text\": \"More...\"}]\n",
    "srsly.write_jsonl(\"/Users/tomlin/Desktop/text.jsonl\", text)"
   ]
  },
  {
   "cell_type": "code",
   "execution_count": null,
   "metadata": {},
   "outputs": [],
   "source": []
  }
 ],
 "metadata": {
  "kernelspec": {
   "display_name": "Python 3",
   "language": "python",
   "name": "python3"
  },
  "language_info": {
   "codemirror_mode": {
    "name": "ipython",
    "version": 3
   },
   "file_extension": ".py",
   "mimetype": "text/x-python",
   "name": "python",
   "nbconvert_exporter": "python",
   "pygments_lexer": "ipython3",
   "version": "3.7.1"
  },
  "toc": {
   "base_numbering": 1,
   "nav_menu": {},
   "number_sections": true,
   "sideBar": true,
   "skip_h1_title": false,
   "title_cell": "Table of Contents",
   "title_sidebar": "Contents",
   "toc_cell": false,
   "toc_position": {},
   "toc_section_display": true,
   "toc_window_display": false
  }
 },
 "nbformat": 4,
 "nbformat_minor": 2
}
